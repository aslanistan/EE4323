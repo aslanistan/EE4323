{
 "cells": [
  {
   "cell_type": "markdown",
   "metadata": {},
   "source": [
    "# Operators and Expressions \n",
    "\n",
    "### Arithmetic Operators\n",
    "\n",
    "|Operator|\tExample\t|Meaning\t|Result|\n",
    "|----|----|----|----|\n",
    "+ (unary)|\t+a|\tUnary Positive\t|a In other words, it doesn’t really do anything. It mostly exists for the sake of completeness, to complement Unary Negation.|\n",
    "|+ (binary)|\ta + b\t|Addition\t|Sum of a and b|\n",
    "|- (unary)\t| -a|\tUnary Negation|\tValue equal to a but opposite in sign|\n",
    "|- (binary)|\ta - b\t|Subtraction\t|b subtracted from a\n",
    "|* |a * b\t|Multiplication|\tProduct of a and b|\n",
    "|/\t|a / b|\tDivision|\tQuotient when a is divided by b. The result always has type float.|\n",
    "|%\t|a % b\t|Modulo\tRemainder when a is divided by b|\n",
    "|//|\ta // b\t|Floor Division (also called Integer Division)|\tQuotient when a is divided by b, rounded to the next smallest whole number|\n",
    "|**|\ta ** b|\tExponentiation\t| a raised to the power of b|\n"
   ]
  },
  {
   "cell_type": "code",
   "execution_count": 4,
   "metadata": {},
   "outputs": [
    {
     "name": "stdout",
     "output_type": "stream",
     "text": [
      "5\n",
      "-8\n",
      "8\n",
      "13\n",
      "-3\n",
      "40\n",
      "0.625\n",
      "5\n",
      "390625\n",
      "1\n"
     ]
    }
   ],
   "source": [
    "# Examples\n",
    "x = 5\n",
    "y = 8\n",
    "\n",
    "print(+x)\n",
    "print(-y)\n",
    "print(y)\n",
    "print(x + y)\n",
    "print(x - y)\n",
    "print(x * y)\n",
    "print(x / y)\n",
    "print(x % y)\n",
    "print(x ** y)\n",
    "print(y//x)"
   ]
  },
  {
   "cell_type": "markdown",
   "metadata": {},
   "source": [
    "## Comparison Operators\n",
    "\n",
    "Commonly used comparison operators in Python:\n",
    "\n",
    "|Operator\t| Example\t| Meaning\t| Result|\n",
    "|-----------|-----------|-----------|-------|\n",
    "|==\t|a == b\t|Equal to\t|True if the value of a is equal to the value of b False otherwise|\n",
    "|!=\t|a != b\t|Not equal to|\tTrue if a is not equal to b False otherwise|\n",
    "|<\t|a < b|\tLess than\t|True if a is less than b False otherwise|\n",
    "|<=\t| a <= b|\tLess than or equal to\t|True if a is less than or equal to b False otherwise|\n",
    "|>\t|a > b\t|Greater than\t|True if a is greater than b False otherwise|\n",
    "|>=\t|a >= b\t|Greater than or equal to\t|True if a is greater than or equal to b False otherwise|"
   ]
  },
  {
   "cell_type": "code",
   "execution_count": 5,
   "metadata": {},
   "outputs": [
    {
     "name": "stdout",
     "output_type": "stream",
     "text": [
      "False\n",
      "True\n",
      "True\n",
      "True\n",
      "False\n",
      "False\n"
     ]
    }
   ],
   "source": [
    "# Examples\n",
    "x = 5\n",
    "y = 8\n",
    "\n",
    "print(x == y)\n",
    "print(x != y)\n",
    "print(x < y)\n",
    "print(x <= y)\n",
    "print(x > y)\n",
    "print(x >= y)"
   ]
  },
  {
   "cell_type": "code",
   "execution_count": 14,
   "metadata": {},
   "outputs": [
    {
     "name": "stdout",
     "output_type": "stream",
     "text": [
      "True\n",
      "False\n",
      "True\n"
     ]
    }
   ],
   "source": [
    "# Floating Point comparison \n",
    "x = 5.\n",
    "y = 8.\n",
    "print(x+y == 13.)\n",
    "x=1.1\n",
    "y=2.2\n",
    "print(x+y == 3.3)\n",
    "x=1.1\n",
    "y=2.2\n",
    "\n",
    "# We may add a tolerance to comparison\n",
    "x=1.1\n",
    "y=2.2\n",
    "epsilon = 0.0000000001\n",
    "print(abs(x+y - 3.3) < epsilon)"
   ]
  },
  {
   "cell_type": "markdown",
   "metadata": {},
   "source": [
    "## Logical Operators\n",
    "\n",
    "Commonly used logical operators in Python:\n",
    "\n",
    "|Operator\t| Example\t| Meaning\t| \n",
    "|-----------|-----------|-----------|\n",
    "|not|\tnot x|\tTrue if x is False False if x is True (Logically reverses the sense of x)|\n",
    "|or\t|x or y|\tTrue if either x or y is True False otherwise|\n",
    "|and|\tx and y\t|True if both x and y are True False otherwise|"
   ]
  },
  {
   "cell_type": "code",
   "execution_count": 25,
   "metadata": {},
   "outputs": [
    {
     "name": "stdout",
     "output_type": "stream",
     "text": [
      "True\n",
      "False\n",
      "True\n"
     ]
    }
   ],
   "source": [
    "# Examples \n",
    "x = 2\n",
    "y = 3\n",
    "print(x<10 and y>2) # TRUE OR TRUE = TRUE\n",
    "print(x<1 or y>4) # FALSE OR FALSE = FALSE\n",
    "print(not x<1 or y>4) # TRUE OR FALSE = TRUE"
   ]
  },
  {
   "cell_type": "markdown",
   "metadata": {},
   "source": [
    "### The following are Boolean ```False```:\n",
    "\n",
    "* The Boolean value ```False```\n",
    "\n",
    "```python\n",
    ">>> False\n",
    "False\n",
    "```\n",
    "* Numerical zero (0, 0.0, 0.0+0.0j)\n",
    "\n",
    "```python\n",
    ">>> bool(0),bool(0.0),bool(0j)\n",
    "(False, False, False)\n",
    "```\n",
    "* An empty string\n",
    "\n",
    "```python\n",
    ">>> bool(''),bool(\"\"),bool(\"  \")\n",
    "(False, False, True)\n",
    " ```\n",
    "* Empty list, tuple, dictionary, set, etc. type built-in composite data object \n",
    "\n",
    "```python\n",
    ">>> bool([]),bool(()),bool({})\n",
    "(False, False, True)\n",
    " ```\n",
    "* The special value ```None```\n",
    "\n",
    "```python\n",
    ">>> bool(None)\n",
    "False\n",
    " ```\n",
    "\n",
    "### Almost everything else considered as ```True```."
   ]
  },
  {
   "cell_type": "code",
   "execution_count": 53,
   "metadata": {},
   "outputs": [
    {
     "name": "stdout",
     "output_type": "stream",
     "text": [
      "3\n",
      "0\n",
      "False\n",
      "0\n",
      "++++++++++++++++++++++++++++\n",
      "True\n",
      "False\n",
      "False\n",
      "False\n"
     ]
    }
   ],
   "source": [
    "x=2\n",
    "y=3\n",
    "z=0\n",
    "print(x and y) # TRUE OR TRUE = TRUE\n",
    "print(x and z) # TRUE OR FALSE = FALSE\n",
    "print(not y) # NOT TRUE  = FALSE\n",
    "print(z or z) # TRUE OR FALSE = FALSE\n",
    "print('++++++++++++++++++++++++++++')\n",
    "print(bool(x and y)) \n",
    "print(bool(x and z)) \n",
    "print(not y) \n",
    "print(bool(z or z) )"
   ]
  },
  {
   "cell_type": "markdown",
   "metadata": {},
   "source": [
    "## Bitwise Operators\n",
    "\n",
    "Bitwise operators treat operands as sequences of binary digits and operate on them bit by bit. The following operators are supported:\n",
    "\n",
    "\n",
    "|Operator\t| Example\t| Meaning\t| Result|\n",
    "|-----------|-----------|-----------|-------|\n",
    "|&|\ta & b|\tbitwise AND|\tEach bit position in the result is the logical AND of the bits in the corresponding position of the operands. (1 if both are 1, otherwise 0.)|\n",
    "|\\||\ta \\| b|\tbitwise OR|\tEach bit position in the result is the logical OR of the bits in the corresponding position of the operands. (1 if either is 1, otherwise 0.)|\n",
    "|~|\t~a|\tbitwise negation|\tEach bit position in the result is the logical negation of the bit in the corresponding position of the operand. (1 if 0, 0 if 1.)|\n",
    "|^|\ta ^ b|\tbitwise XOR (exclusive OR)|\tEach bit position in the result is the logical XOR of the bits in the corresponding position of the operands. (1 if the bits in the operands are different, 0 if they are the same.)|\n",
    "|>>|\t|a >> n|\tShift right n places|\tEach bit is shifted right n places.|\n",
    "|<<\t|a << n|\tShift left n places|\tEach bit is shifted left n places.|\n",
    "\n"
   ]
  },
  {
   "cell_type": "code",
   "execution_count": 59,
   "metadata": {},
   "outputs": [
    {
     "name": "stdout",
     "output_type": "stream",
     "text": [
      "0\n",
      "15\n",
      "-8\n",
      "15\n",
      "3\n",
      "14\n"
     ]
    }
   ],
   "source": [
    "# Example\n",
    "x=7\n",
    "y=8\n",
    "\n",
    "print(x & y) # compare x and y\n",
    "print(x | y) # compare x or y\n",
    "print(~x) # compare not x \n",
    "print(x ^ y) \n",
    "print(x >> 1) \n",
    "print(x << 1) "
   ]
  },
  {
   "cell_type": "code",
   "execution_count": 78,
   "metadata": {},
   "outputs": [
    {
     "name": "stdout",
     "output_type": "stream",
     "text": [
      "1000\n",
      "1110\n",
      "0110\n",
      "0011\n",
      "1100\n",
      "-1000\n"
     ]
    }
   ],
   "source": [
    "print(f'{0b1100 & 0b1010:04b}')\n",
    "print(f'{0b1100 | 0b1010:04b}')\n",
    "print(f'{0b1100 ^ 0b1010:04b}')\n",
    "print(f'{0b1100 >> 2:04b}')\n",
    "print(f'{0b0011 << 2:04b}')\n",
    "print(f'{~0b0111:04b}')"
   ]
  },
  {
   "cell_type": "markdown",
   "metadata": {},
   "source": [
    "## Identity Operators\n",
    "\n",
    "Python has two identity operators, ```is``` and ```is not```. These identity operators determines if two elements are identical (not same as equality). "
   ]
  },
  {
   "cell_type": "code",
   "execution_count": 96,
   "metadata": {},
   "outputs": [
    {
     "name": "stdout",
     "output_type": "stream",
     "text": [
      "4558673968 4558674384\n",
      "False\n",
      "True\n"
     ]
    }
   ],
   "source": [
    "x=20001\n",
    "y=20000+1\n",
    "print(id(x),id(y))\n",
    "print(x is y)\n",
    "print(y==x)"
   ]
  },
  {
   "cell_type": "code",
   "execution_count": 100,
   "metadata": {},
   "outputs": [
    {
     "name": "stdout",
     "output_type": "stream",
     "text": [
      "4584889056 4584889128\n",
      "False\n",
      "True\n",
      "4558683352 4558683352\n",
      "True\n",
      "True\n"
     ]
    }
   ],
   "source": [
    "x='hello how are you'\n",
    "y='hello how are you'\n",
    "print(id(x),id(y))\n",
    "print(x is y)\n",
    "print(y==x)\n",
    "x='hello how are you'\n",
    "y=x\n",
    "print(id(x),id(y))\n",
    "print(x is y)\n",
    "print(y==x)"
   ]
  },
  {
   "cell_type": "markdown",
   "metadata": {},
   "source": [
    "## Order of Operation\n",
    "\n",
    "Here is the order of operation in Python from lowest to highest to lowest. \n",
    "\n",
    "|     | Operation | Description|\n",
    "|-----|-----------|------------|\n",
    "|**highest**|**|exponentiation|\n",
    "|  | +x, -x, ~x|unary positive, unary negation, bitwise negation|\n",
    "|  |*, /, //, %|multiplication, division, floor division, modulo|\n",
    "|  | +,-  |addition, subtraction\n",
    "|  | <<, >>  |bit shifts\n",
    "|  | &  |bitwise AND\n",
    "|  |  ^ |bitwise XOR\n",
    "|  | \\|  |bitwise OR\n",
    "|  | ==, !=, <, <=, >, >=, is, is not  |comparisons, identity\n",
    "|  | not  |Boolean NOT\n",
    "|  | and  |Boolean AND\n",
    "| **lowest** | or  |Boolean OR"
   ]
  },
  {
   "cell_type": "markdown",
   "metadata": {},
   "source": [
    "## Augmented Assignment Operators\n",
    "\n",
    "Python support following shorthand augmented operations:\n",
    "\n",
    "|Arithmetic\t|Bitwise|\n",
    "|-----------|-------|\n",
    "|+|&|\n",
    "|-|^|\n",
    "|*|>>|\n",
    "|/|<<|\n",
    "|%| |\n",
    "|//| |\n",
    "|**\t| |\n",
    "\n",
    "```python\n",
    ">>> a <op>= b\n",
    "# same as following\n",
    ">>> a = a <op> b\n",
    "# Example\n",
    "a=10\n",
    "a %=2  # This is same as\n",
    "a = a % 2 # answer will be a = 0\n",
    "```"
   ]
  },
  {
   "cell_type": "code",
   "execution_count": null,
   "metadata": {},
   "outputs": [],
   "source": []
  }
 ],
 "metadata": {
  "kernelspec": {
   "display_name": "Python 3",
   "language": "python",
   "name": "python3"
  },
  "language_info": {
   "codemirror_mode": {
    "name": "ipython",
    "version": 3
   },
   "file_extension": ".py",
   "mimetype": "text/x-python",
   "name": "python",
   "nbconvert_exporter": "python",
   "pygments_lexer": "ipython3",
   "version": "3.6.9"
  },
  "latex_envs": {
   "LaTeX_envs_menu_present": true,
   "autoclose": false,
   "autocomplete": true,
   "bibliofile": "biblio.bib",
   "cite_by": "apalike",
   "current_citInitial": 1,
   "eqLabelWithNumbers": true,
   "eqNumInitial": 1,
   "hotkeys": {
    "equation": "Ctrl-E",
    "itemize": "Ctrl-I"
   },
   "labels_anchors": false,
   "latex_user_defs": false,
   "report_style_numbering": false,
   "user_envs_cfg": false
  },
  "toc": {
   "base_numbering": 1,
   "nav_menu": {},
   "number_sections": false,
   "sideBar": true,
   "skip_h1_title": false,
   "title_cell": "Table of Contents",
   "title_sidebar": "Contents",
   "toc_cell": false,
   "toc_position": {},
   "toc_section_display": true,
   "toc_window_display": false
  }
 },
 "nbformat": 4,
 "nbformat_minor": 2
}
