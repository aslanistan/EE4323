{
 "cells": [
  {
   "cell_type": "markdown",
   "metadata": {},
   "source": [
    "# Data Types in Python\n",
    "\n",
    "## Integers\n",
    "\n",
    "Python 3 an integer can be any size. Also size of an integer (as well as float, strings, etc. ) can vary based on the variable. Another important point is the HW (size of the system memory)."
   ]
  },
  {
   "cell_type": "code",
   "execution_count": 38,
   "metadata": {},
   "outputs": [
    {
     "data": {
      "text/plain": [
       "(28, 32, 36, 108)"
      ]
     },
     "execution_count": 38,
     "metadata": {},
     "output_type": "execute_result"
    }
   ],
   "source": [
    "import sys\n",
    "a=3; b=(2**60)-1;c=2**60;d=2**600\n",
    "sys.getsizeof(a),sys.getsizeof(b),sys.getsizeof(c),sys.getsizeof(d)"
   ]
  },
  {
   "cell_type": "code",
   "execution_count": 39,
   "metadata": {},
   "outputs": [
    {
     "data": {
      "text/plain": [
       "(24, 24, 24, 24)"
      ]
     },
     "execution_count": 39,
     "metadata": {},
     "output_type": "execute_result"
    }
   ],
   "source": [
    "a=3.; b=float((2**60)-1);c=float(2**60);d=float(2**600)\n",
    "sys.getsizeof(a),sys.getsizeof(b),sys.getsizeof(c),sys.getsizeof(d)"
   ]
  },
  {
   "cell_type": "markdown",
   "metadata": {},
   "source": [
    "Default display of a number id decimal. A number will be assigned as decimal if there is no prefix. The following strings can be prepended to an integer value to indicate a base other than 10:\n",
    "\n",
    "|Base | Interpretation|Prefix|\n",
    "|-----|---------------|------|\n",
    "|2|Binary| 0b or 0B  |\n",
    "|8|Octal| 0o or 0O  |\n",
    "|16|HexaDecimal| 0x or 0X  |"
   ]
  },
  {
   "cell_type": "code",
   "execution_count": 40,
   "metadata": {},
   "outputs": [
    {
     "name": "stdout",
     "output_type": "stream",
     "text": [
      "Number 20 is base 10 -----> 1000 and type is <class 'int'>\n",
      "Number 20 is base 2 -----> 8 and type is <class 'int'>\n",
      "Number 20 is base 8 -----> 512 and type is <class 'int'>\n",
      "Number 20 is base 16 -----> 4096 and type is <class 'int'>\n"
     ]
    }
   ],
   "source": [
    "print(f'Number 20 is base 10 -----> {1000} and type is {type(1000)}' )\n",
    "print(f'Number 20 is base 2 -----> {0b1000} and type is {type(0b1000)}')\n",
    "print(f'Number 20 is base 8 -----> {0o1000} and type is {type(0o1000)}')\n",
    "print(f'Number 20 is base 16 -----> {0x1000} and type is {type(0x1000)}')"
   ]
  },
  {
   "cell_type": "markdown",
   "metadata": {},
   "source": [
    "Python is object oriented language and integers are also objects and have attributes/methods. \n",
    "* bit_length\n",
    "* conjugate\n",
    "* denominator\n",
    "* from_bytes\n",
    "* imag\n",
    "* numerator\n",
    "* real\n",
    "* to_bytes"
   ]
  },
  {
   "cell_type": "code",
   "execution_count": 47,
   "metadata": {},
   "outputs": [
    {
     "data": {
      "text/plain": [
       "1"
      ]
     },
     "execution_count": 47,
     "metadata": {},
     "output_type": "execute_result"
    }
   ],
   "source": [
    "a=1\n",
    "a.conjugate() # "
   ]
  },
  {
   "cell_type": "code",
   "execution_count": 48,
   "metadata": {},
   "outputs": [
    {
     "data": {
      "text/plain": [
       "1"
      ]
     },
     "execution_count": 48,
     "metadata": {},
     "output_type": "execute_result"
    }
   ],
   "source": [
    "a.bit_length() # number of bits requires to represent integer"
   ]
  },
  {
   "cell_type": "markdown",
   "metadata": {},
   "source": [
    "## Floating-Point Numbers\n",
    "\n",
    "If there is number floating point number that is defined as float in Python. If a number has decimal point (could be integer)that number assigned as floating-point number. Also, using characters e or E followed by a positive or negative integer may be appended to specify scientific notation:"
   ]
  },
  {
   "cell_type": "code",
   "execution_count": 63,
   "metadata": {},
   "outputs": [
    {
     "name": "stdout",
     "output_type": "stream",
     "text": [
      "4.0 ---> type is <class 'float'>\n",
      "4.123 ---> type is <class 'float'>\n",
      "2.0 ---> type is <class 'float'>\n",
      "(4000.0, 4000.0) ---> type is <class 'float'>\n"
     ]
    }
   ],
   "source": [
    "print(f'{4.} ---> type is {type(4.)}' )\n",
    "print(f'{4.123} ---> type is {type(4.123)}' )\n",
    "print(f'{4/2} ---> type is {type(4/2)}' )\n",
    "print(f'{4e3,4E3} ---> type is {type(4/2)}' )"
   ]
  },
  {
   "cell_type": "markdown",
   "metadata": {},
   "source": [
    "Python (almost all platforms) uses double-precision, 64-bit floating point numbers (IEEE 754 standard). In that case, the maximum value a floating-point number can have is approximately $\\mathrm{1.8\\times 10^{308}}$. Python will indicate a number greater than that by the string inf. \n",
    "\n",
    "The closest a nonzero number can be to zero is approximately $\\mathrm{5\\times 10^{-324}}$. Anything closer to zero than that is effectively zero:\n",
    "\n",
    "![FloatingPoint](pic/001.png)\n",
    "\n",
    "[More info .... ](https://en.wikipedia.org/wiki/Double-precision_floating-point_format)\n",
    "\n"
   ]
  },
  {
   "cell_type": "code",
   "execution_count": 64,
   "metadata": {},
   "outputs": [
    {
     "name": "stdout",
     "output_type": "stream",
     "text": [
      "1.79e+308\n",
      "inf\n",
      "5e-324\n",
      "0.0\n"
     ]
    }
   ],
   "source": [
    "print(1.79e308) # largest floating point number\n",
    "print(1.8e308) # infinite\n",
    "print(5e-324) # smallest floating point number\n",
    "print(1e-324) # zero"
   ]
  },
  {
   "cell_type": "markdown",
   "metadata": {},
   "source": [
    "## Complex Numbers\n",
    "\n",
    "Complex numbers are specified as {Real}+{Imaginary}j in python. We need to use j to represent $\\sqrt{-1}$ and needs to be placed after the number. \n",
    "\n"
   ]
  },
  {
   "cell_type": "code",
   "execution_count": 66,
   "metadata": {},
   "outputs": [
    {
     "name": "stdout",
     "output_type": "stream",
     "text": [
      "(4-4j)\n"
     ]
    }
   ],
   "source": [
    "z1=3-2j;z2=1-2j;z3=2+4j\n",
    "print(z1+z2)"
   ]
  },
  {
   "cell_type": "code",
   "execution_count": 67,
   "metadata": {},
   "outputs": [
    {
     "data": {
      "text/plain": [
       "((3+2j), -2.0, 3.0)"
      ]
     },
     "execution_count": 67,
     "metadata": {},
     "output_type": "execute_result"
    }
   ],
   "source": [
    "z1.conjugate(),z1.imag,z1.real"
   ]
  },
  {
   "cell_type": "markdown",
   "metadata": {},
   "source": [
    "## Strings\n",
    "\n",
    "Strings are sequences of character data. String can be generated using either single or double quotes. The string type in Python is called `str`.\n",
    "\n",
    "String can have from no character (empty string) `''` to as many as character. If a string contains single quotes, an escape sequence backslash `\\` can be used (another suggested method is to use double quotes to declare string and use single quote without escape sequence.      "
   ]
  },
  {
   "cell_type": "code",
   "execution_count": 73,
   "metadata": {},
   "outputs": [
    {
     "name": "stdout",
     "output_type": "stream",
     "text": [
      "This is a string\n",
      "This is a string\n",
      "This string uses ' quotes\n",
      "This string uses \" quotes\n",
      "This string does not use ' quotes\n",
      "This string does not use \" quotes\n"
     ]
    }
   ],
   "source": [
    "print('This is a string')\n",
    "print(\"This is a string\")\n",
    "print('This string uses \\' quotes') # escape sequence\n",
    "print(\"This string uses \\\" quotes\") # escape sequence\n",
    "print(\"This string does not use ' quotes\") # no escape sequence\n",
    "print('This string does not use \" quotes') # no escape sequence"
   ]
  },
  {
   "cell_type": "markdown",
   "metadata": {},
   "source": [
    "## String formatting\n",
    "\n",
    "There are three different string formatting in Python (Python 3.6 or grater). "
   ]
  },
  {
   "cell_type": "code",
   "execution_count": 80,
   "metadata": {},
   "outputs": [
    {
     "name": "stdout",
     "output_type": "stream",
     "text": [
      "John's exam grades are 82,75.50 and his average: 78.75\n"
     ]
    }
   ],
   "source": [
    "name='John'\n",
    "e1=82\n",
    "e2=75.5\n",
    "text = \"%s's exam grades are %d and %.2f and his average: %.2f\" % (name, e1,e2,(e1+e2)/2)\n",
    "print(text)"
   ]
  },
  {
   "cell_type": "code",
   "execution_count": 88,
   "metadata": {},
   "outputs": [
    {
     "name": "stdout",
     "output_type": "stream",
     "text": [
      "John's exam grades are 82 and 75.500 and his average: 78.75\n"
     ]
    }
   ],
   "source": [
    "text = \"{}'s exam grades are {} and {:.3f} and his average: {}\".format(name, e1,e2,(e1+e2)/2)\n",
    "print(text)"
   ]
  },
  {
   "cell_type": "code",
   "execution_count": 91,
   "metadata": {},
   "outputs": [
    {
     "name": "stdout",
     "output_type": "stream",
     "text": [
      "John's exam grades are 82 and 75.500 and his average: 78.75\n"
     ]
    }
   ],
   "source": [
    "text = f\"{name}'s exam grades are {e1} and {e2:.3f} and his average: {(e1+e2)/2}\"\n",
    "print(text)"
   ]
  },
  {
   "cell_type": "markdown",
   "metadata": {},
   "source": [
    "### f-string Formatting in Python\n",
    "\n",
    "There is a new string formatting method is offered in Python starting version 3.6. The syntax:\n",
    "* `f'string'` \n",
    "* `f\"string\"` \n",
    "* `F\"string\"`  \n",
    "* `F\"string\"`  \n",
    "\n",
    "#### Arbitrary Expressions\n",
    "We can put any python expression in f'string because it is evaluated at runtime. "
   ]
  },
  {
   "cell_type": "code",
   "execution_count": 92,
   "metadata": {},
   "outputs": [
    {
     "name": "stdout",
     "output_type": "stream",
     "text": [
      "Here is addition 5\n"
     ]
    }
   ],
   "source": [
    "print(f'Here is addition {3+2}')"
   ]
  },
  {
   "cell_type": "code",
   "execution_count": 96,
   "metadata": {},
   "outputs": [
    {
     "name": "stdout",
     "output_type": "stream",
     "text": [
      "Sine of pi/3 is: 0.8660254037844386\n",
      "Sine of pi/3 is: 0.87\n"
     ]
    }
   ],
   "source": [
    "import math\n",
    "print(f'Sine of pi/3 is: {math.sin(math.pi/3)}')\n",
    "print(f'Sine of pi/3 is: {math.sin(math.pi/3):.2f}') # Also formatting works"
   ]
  },
  {
   "cell_type": "code",
   "execution_count": 99,
   "metadata": {},
   "outputs": [
    {
     "name": "stdout",
     "output_type": "stream",
     "text": [
      "Name lower: john smith\n",
      "Name lower: JOHN SMITH\n"
     ]
    }
   ],
   "source": [
    "name = 'John Smith'\n",
    "print(f'Name lower: {name.lower()}')\n",
    "print(f'Name lower: {name.upper()}')"
   ]
  },
  {
   "cell_type": "code",
   "execution_count": 105,
   "metadata": {},
   "outputs": [
    {
     "name": "stdout",
     "output_type": "stream",
     "text": [
      "Hello John. Your exam I is 100. Your exam II is 50. Your exam avg is 75. \n"
     ]
    }
   ],
   "source": [
    "import statistics as st\n",
    "name = \"John\"\n",
    "ExamI = 100\n",
    "ExamII = 50\n",
    "grade = (\n",
    "    f\"Hello {name}. \"\n",
    "    f\"Your exam I is {ExamI}. \"\n",
    "    f\"Your exam II is {ExamII}. \"\n",
    "    f\"Your exam avg is {st.mean([ExamI,ExamII])}. \"    \n",
    ")\n",
    "print(grade)"
   ]
  },
  {
   "cell_type": "code",
   "execution_count": 108,
   "metadata": {},
   "outputs": [
    {
     "name": "stdout",
     "output_type": "stream",
     "text": [
      "Hello John. Your exam I is 100. Your exam II is 50. Your exam avg is 75.0. \n"
     ]
    }
   ],
   "source": [
    "name = \"John\"\n",
    "ExamI = 100\n",
    "ExamII = 50\n",
    "grade = f\"Hello {name}. \"\\\n",
    "    f\"Your exam I is {ExamI}. \"\\\n",
    "    f\"Your exam II is {ExamII}. \"\\\n",
    "    f\"Your exam avg is {(ExamI+ExamII)/2}. \"    \n",
    "\n",
    "print(grade)"
   ]
  },
  {
   "cell_type": "code",
   "execution_count": 129,
   "metadata": {},
   "outputs": [
    {
     "data": {
      "text/plain": [
       "0.05909301100473385"
      ]
     },
     "execution_count": 129,
     "metadata": {},
     "output_type": "execute_result"
    }
   ],
   "source": [
    "import timeit\n",
    "timeit.timeit(\"\"\"\n",
    "name = \"John\"\n",
    "ExamI = 100\n",
    "ExamII = 50\n",
    "'Hello %s. Your Exams are %d and %d. Your avg is %.4f'% (name, ExamI, ExamII,(ExamI+ExamII)/2)\n",
    "\"\"\", number = 100000)"
   ]
  },
  {
   "cell_type": "code",
   "execution_count": 130,
   "metadata": {},
   "outputs": [
    {
     "data": {
      "text/plain": [
       "0.07824044700100785"
      ]
     },
     "execution_count": 130,
     "metadata": {},
     "output_type": "execute_result"
    }
   ],
   "source": [
    "import timeit\n",
    "timeit.timeit(\"\"\"\n",
    "name = \"John\"\n",
    "ExamI = 100\n",
    "ExamII = 50\n",
    "'Hello {0}. Your Exams are {1} and {2}. Your avg is {3:.4f}'.format(name, ExamI, ExamII,(ExamI+ExamII)/2)\n",
    "\"\"\", number = 100000)"
   ]
  },
  {
   "cell_type": "code",
   "execution_count": 131,
   "metadata": {},
   "outputs": [
    {
     "data": {
      "text/plain": [
       "0.06292230899998685"
      ]
     },
     "execution_count": 131,
     "metadata": {},
     "output_type": "execute_result"
    }
   ],
   "source": [
    "import timeit\n",
    "timeit.timeit(\"\"\"\n",
    "name = \"John\"\n",
    "ExamI = 100\n",
    "ExamII = 50\n",
    "f'Hello {name}. Your Exams are {ExamI} and {ExamII}. Your avg is {(ExamI+ExamII)/2:.4f}'\n",
    "\"\"\", number = 100000)"
   ]
  },
  {
   "cell_type": "code",
   "execution_count": 124,
   "metadata": {},
   "outputs": [
    {
     "name": "stdout",
     "output_type": "stream",
     "text": [
      "Hello John. Your Exams are 100 and 50. Your avg is 75.0000\n"
     ]
    }
   ],
   "source": [
    "name = \"John\"\n",
    "ExamI = 100\n",
    "ExamII = 50\n",
    "print(f'Hello {name}. Your Exams are {ExamI} and {ExamII}. Your avg is {(ExamI+ExamII)/2:.4f}')"
   ]
  },
  {
   "cell_type": "code",
   "execution_count": 145,
   "metadata": {},
   "outputs": [
    {
     "name": "stdout",
     "output_type": "stream",
     "text": [
      "John\n",
      "      John\n",
      "                John\n",
      "        John        \n"
     ]
    }
   ],
   "source": [
    "name = \"John\"\n",
    "print(f\"{name}\")\n",
    "print(f\"{name:>10}\")\n",
    "print(f\"{name:>20}\")\n",
    "print(f\"{name:^20}\")"
   ]
  },
  {
   "cell_type": "code",
   "execution_count": 178,
   "metadata": {},
   "outputs": [
    {
     "name": "stdout",
     "output_type": "stream",
     "text": [
      "82 and 77.35978452\n",
      "  82 and 77.35978452\n",
      "  82 and 77.35978452\n",
      "0082 and 77.35978452\n",
      "0082 and 77.35978452\n",
      "0082 and 77.35978452\n"
     ]
    }
   ],
   "source": [
    "age = 82\n",
    "grade=77.35978452\n",
    "print(f\"{age} and {grade}\")\n",
    "print(f\"{age:4} and {grade}\")\n",
    "print(f\"{age:4d} and {grade}\")\n",
    "print(f\"{age:04d} and {grade}\")\n",
    "print(f\"{age:0>4} and {grade}\")\n",
    "age='82'\n",
    "# print(f\"{age:04} and {grade}\")\n",
    "print(f\"{age:0>4} and {grade}\")"
   ]
  },
  {
   "cell_type": "code",
   "execution_count": 191,
   "metadata": {},
   "outputs": [
    {
     "name": "stdout",
     "output_type": "stream",
     "text": [
      "82 and 77.35978452\n",
      "82 and 77.3598\n",
      "82 and    77.3598\n",
      "82 and 00077.3598\n",
      "82 and 2,000.0000\n"
     ]
    }
   ],
   "source": [
    "age = 82\n",
    "grade=77.35978452    # f'{value:{width}.{precision}}'\n",
    "print(f\"{age} and {grade}\")\n",
    "print(f\"{age} and {grade:.4f}\")\n",
    "print(f\"{age} and {grade:10.4f}\")\n",
    "print(f\"{age} and {grade:010.4f}\")\n",
    "grade=2000\n",
    "print(f\"{age} and {grade:,.4f}\") # works for integer as well"
   ]
  },
  {
   "cell_type": "markdown",
   "metadata": {},
   "source": [
    "## List\n",
    "\n",
    "Lists is one of the most useful data type in Python. Lists store sequences of data (does mot have to be same type). Use square brackets `[ ]` are used to create lists.\n",
    "\n",
    "The important characteristics of Python lists are as follows:\n",
    "\n",
    "* Lists are ordered.\n",
    "* Lists can contain any arbitrary objects.\n",
    "* List elements can be accessed by index.\n",
    "* Lists can be nested to arbitrary depth.\n",
    "* Lists are mutable.\n",
    "* Lists are dynamic."
   ]
  },
  {
   "cell_type": "code",
   "execution_count": 198,
   "metadata": {},
   "outputs": [
    {
     "data": {
      "text/plain": [
       "(list, 4582417416, 4468430496, float)"
      ]
     },
     "execution_count": 198,
     "metadata": {},
     "output_type": "execute_result"
    }
   ],
   "source": [
    "a=[]   # empty list\n",
    "b=[1,2,3,4] # list with integers\n",
    "c=[1,3.0,'k','Texas']\n",
    "type(a),id(b),id(b[1]),type(c[1])"
   ]
  },
  {
   "cell_type": "markdown",
   "metadata": {},
   "source": [
    "###  Lists are ordered\n",
    ".\n",
    "A list is ordered collection of objects. \n",
    "\n",
    "``` \n",
    "a = [1,2,3]\n",
    "b = [3,2,1]\n",
    "```\n",
    "are not same lists. \n"
   ]
  },
  {
   "cell_type": "code",
   "execution_count": 207,
   "metadata": {},
   "outputs": [
    {
     "name": "stdout",
     "output_type": "stream",
     "text": [
      "False\n",
      "False\n",
      "False\n",
      "True\n"
     ]
    }
   ],
   "source": [
    "a = [1,2,3]\n",
    "b = [3,2,1]\n",
    "print(a is b)\n",
    "print(a == b)\n",
    "print([3] in b)\n",
    "print(3 in b)"
   ]
  },
  {
   "cell_type": "markdown",
   "metadata": {},
   "source": [
    "### Lists Can Contain Arbitrary Objects\n",
    "\n",
    "A list can contain any type of objects. The elements of a list can all be the same type as well as varying types."
   ]
  },
  {
   "cell_type": "code",
   "execution_count": 215,
   "metadata": {},
   "outputs": [
    {
     "name": "stdout",
     "output_type": "stream",
     "text": [
      "<class 'list'>\n",
      "<class 'str'>\n",
      "<class 'int'>\n",
      "<class 'tuple'>\n",
      "<class 'float'>\n",
      "<class 'dict'>\n",
      "<class 'list'>\n"
     ]
    }
   ],
   "source": [
    "a=[1,2,3,4] # list with all integers\n",
    "b=[1,2,3,4.] # list with all integers and floats\n",
    "c=[1,2,3,4.,'test'] # list with integers, float and string\n",
    "d=[[1,2,3],'hello',2,(1,2),4.,{'a':1}] # list with sub-list, tuple\n",
    "\n",
    "print(type(d[0])) \n",
    "print(type(d[1])) \n",
    "print(type(d[2])) \n",
    "print(type(d[3])) \n",
    "print(type(d[4])) \n",
    "print(type(d[5])) \n",
    "print(type(d)) "
   ]
  },
  {
   "cell_type": "markdown",
   "metadata": {},
   "source": [
    "###  List elements can be accessed by index\n",
    "\n",
    "Individual elements in a list can be accessed using an index in square brackets similar way strings. \n",
    "\n",
    "```\n",
    "a = ['foo', 'bar', 'baz', 'qux', 'quux', 'corge']\n",
    "```\n",
    "\n",
    "![List](pic/0021.png)\n",
    "\n",
    "Index number starts from 0 in Python. Last element ('corge') in this example above also consider -1 index. This is good way to access the last element.   "
   ]
  },
  {
   "cell_type": "code",
   "execution_count": 226,
   "metadata": {},
   "outputs": [
    {
     "name": "stdout",
     "output_type": "stream",
     "text": [
      "foo\n",
      "qux\n",
      "corge\n",
      "corge\n"
     ]
    }
   ],
   "source": [
    "a = ['foo', 'bar', 'baz', 'qux', 'quux', 'corge']\n",
    "print(a[0]) # first elemet\n",
    "print(a[3]) # fourth element\n",
    "print(a[-1]) # last element. Also, we can use \n",
    "print(a[len(a)-1])"
   ]
  },
  {
   "cell_type": "markdown",
   "metadata": {},
   "source": [
    "Slicing also works. If a is a list, the expression a[m:n] returns the portion of a from index m to, but not including, index n:"
   ]
  },
  {
   "cell_type": "code",
   "execution_count": 229,
   "metadata": {
    "scrolled": true
   },
   "outputs": [
    {
     "name": "stdout",
     "output_type": "stream",
     "text": [
      "['bar', 'baz', 'qux']\n",
      "['foo', 'bar']\n",
      "['baz', 'qux', 'quux']\n"
     ]
    },
    {
     "data": {
      "text/plain": [
       "True"
      ]
     },
     "execution_count": 229,
     "metadata": {},
     "output_type": "execute_result"
    }
   ],
   "source": [
    "print(a[1:4])\n",
    "print(a[0:2])\n",
    "print(a[-4:-1])\n",
    "a[-5:-2] == a[1:4]"
   ]
  },
  {
   "cell_type": "code",
   "execution_count": 252,
   "metadata": {},
   "outputs": [
    {
     "name": "stdout",
     "output_type": "stream",
     "text": [
      "[1, 2]\n",
      "[7, 8]\n",
      "[0, 1, 2, 3, 4, 5, 6, 7, 8, 9]\n",
      "[0, 1]\n",
      "[0, 2, 4, 6, 8]\n",
      "[1, 3, 5, 7, 9]\n",
      "[0, 2, 4, 6, 8]\n",
      "[1, 3, 5]\n"
     ]
    }
   ],
   "source": [
    "a=[0,1,2,3,4,5,6,7,8,9]\n",
    "print(a[1:3])\n",
    "print(a[-3:-1])\n",
    "print(a[:])\n",
    "print(a[:2])\n",
    "print(a[::2])\n",
    "print(a[1::2])\n",
    "print(a[0::2])\n",
    "print(a[1:6:2])"
   ]
  },
  {
   "cell_type": "code",
   "execution_count": 255,
   "metadata": {},
   "outputs": [
    {
     "name": "stdout",
     "output_type": "stream",
     "text": [
      "[9, 8, 7, 6, 5, 4, 3, 2, 1, 0]\n",
      "[]\n"
     ]
    }
   ],
   "source": [
    "print(a[::-1]) # The syntax for reversing a list works the same way it does for strings:\n",
    "print(a[1:5:-1]) # may not work sliced list"
   ]
  },
  {
   "cell_type": "code",
   "execution_count": 259,
   "metadata": {},
   "outputs": [
    {
     "name": "stdout",
     "output_type": "stream",
     "text": [
      "4553591528 4553591528\n",
      "True\n"
     ]
    }
   ],
   "source": [
    "a='Hello'\n",
    "b=a[:]\n",
    "print(id(a),id(b))\n",
    "print(a is b)"
   ]
  },
  {
   "cell_type": "code",
   "execution_count": 258,
   "metadata": {},
   "outputs": [
    {
     "name": "stdout",
     "output_type": "stream",
     "text": [
      "4582317128 4535643400\n",
      "False\n"
     ]
    }
   ],
   "source": [
    "a=['Hello','Python']\n",
    "b=a[:]\n",
    "print(id(a),id(b))\n",
    "print(a is b)"
   ]
  },
  {
   "cell_type": "code",
   "execution_count": 263,
   "metadata": {},
   "outputs": [
    {
     "name": "stdout",
     "output_type": "stream",
     "text": [
      "True\n",
      "False\n",
      "False\n",
      "True\n"
     ]
    }
   ],
   "source": [
    "a=[0,1,2,3,4,5,6,7,8,9]\n",
    "print(0 in a)\n",
    "print(55 in a)\n",
    "print(0 not in a)\n",
    "print(55 not in a)"
   ]
  },
  {
   "cell_type": "code",
   "execution_count": 267,
   "metadata": {},
   "outputs": [
    {
     "name": "stdout",
     "output_type": "stream",
     "text": [
      "[2, 3, 4, 2, 3, 4]\n",
      "[2, 3, 4, 2, 3, 4, 2, 3, 4]\n",
      "['hello', 'hello']\n",
      "['hello', 'hello', 'hello']\n"
     ]
    }
   ],
   "source": [
    "# The concatenation (+) and replication (*) operators:\n",
    "\n",
    "a=[2,3,4]\n",
    "print(a+a)\n",
    "print(3*a)\n",
    "b=['hello']\n",
    "print(b+b)\n",
    "print(3*b)"
   ]
  },
  {
   "cell_type": "code",
   "execution_count": 274,
   "metadata": {},
   "outputs": [
    {
     "name": "stdout",
     "output_type": "stream",
     "text": [
      "3\n",
      "2\n",
      "4\n",
      "4\n",
      "classroom\n",
      "python\n"
     ]
    }
   ],
   "source": [
    "# The len(), min(), and max() functions:\n",
    "a=[2,3,4]\n",
    "print(len(a))\n",
    "print(min(a))\n",
    "print(max(a))\n",
    "a=['hello','python','cool','classroom']\n",
    "print(len(a))\n",
    "print(min(a))\n",
    "print(max(a))"
   ]
  },
  {
   "cell_type": "code",
   "execution_count": 278,
   "metadata": {},
   "outputs": [
    {
     "name": "stdout",
     "output_type": "stream",
     "text": [
      "4\n",
      "[4, 3, 2]\n"
     ]
    }
   ],
   "source": [
    "# You can operate on a list literal as well:\n",
    "print([2,3,4][2])\n",
    "print([2,3,4][::-1])"
   ]
  },
  {
   "cell_type": "markdown",
   "metadata": {},
   "source": [
    "### Lists Can Be Nested\n",
    "\n",
    "An element in a list can be any sort of object. That includes another list. A list can contain sublists, which in turn can contain sublists themselves, and so on to arbitrary depth.\n",
    "\n",
    "```python\n",
    "x = ['a', ['bb', ['ccc', 'ddd'], 'ee', 'ff'], 'g', ['hh', 'ii'], 'j']\n",
    "```\n",
    "\n",
    "![sublist](pic/003.png)"
   ]
  },
  {
   "cell_type": "code",
   "execution_count": 281,
   "metadata": {},
   "outputs": [
    {
     "name": "stdout",
     "output_type": "stream",
     "text": [
      "a\n",
      "['bb', ['ccc', 'ddd'], 'ee', 'ff']\n",
      "g\n",
      "['hh', 'ii']\n",
      "j\n"
     ]
    }
   ],
   "source": [
    "x = ['a', ['bb', ['ccc', 'ddd'], 'ee', 'ff'], 'g', ['hh', 'ii'], 'j']\n",
    "print(x[0])\n",
    "print(x[1])\n",
    "print(x[2])\n",
    "print(x[3])\n",
    "print(x[4])"
   ]
  },
  {
   "cell_type": "code",
   "execution_count": 285,
   "metadata": {},
   "outputs": [
    {
     "name": "stdout",
     "output_type": "stream",
     "text": [
      "bb\n",
      "['ccc', 'ddd']\n",
      "ee\n",
      "ff\n"
     ]
    }
   ],
   "source": [
    "print(x[1][0])\n",
    "print(x[1][1])\n",
    "print(x[1][2])\n",
    "print(x[1][3])"
   ]
  },
  {
   "cell_type": "code",
   "execution_count": 286,
   "metadata": {},
   "outputs": [
    {
     "name": "stdout",
     "output_type": "stream",
     "text": [
      "ccc\n",
      "ddd\n"
     ]
    }
   ],
   "source": [
    "print(x[1][1][0])\n",
    "print(x[1][1][1])"
   ]
  },
  {
   "cell_type": "code",
   "execution_count": 290,
   "metadata": {},
   "outputs": [
    {
     "name": "stdout",
     "output_type": "stream",
     "text": [
      "False\n",
      "False\n",
      "True\n",
      "True\n"
     ]
    }
   ],
   "source": [
    "print('ddd' in x)\n",
    "print('ddd' in x[1])\n",
    "print('ddd' in x[1][1])\n",
    "print('ddd' in x[1][1][1])"
   ]
  },
  {
   "cell_type": "markdown",
   "metadata": {},
   "source": [
    "### Lists Are Mutable\n",
    "\n",
    "List elements (types) can be changed or assigned a new value. We cannot do this with strings. "
   ]
  },
  {
   "cell_type": "code",
   "execution_count": 297,
   "metadata": {},
   "outputs": [
    {
     "name": "stdout",
     "output_type": "stream",
     "text": [
      "[1, '2', 3, 4]\n",
      "<class 'int'>\n",
      "[1, '2', 3.0, 4]\n",
      "<class 'float'>\n"
     ]
    }
   ],
   "source": [
    "a=[1,2,3,4]\n",
    "a[1]='2'\n",
    "print(a)\n",
    "print(type(a[2]))\n",
    "a[2]=float(a[2])\n",
    "print(a)\n",
    "print(type(a[2]))"
   ]
  },
  {
   "cell_type": "code",
   "execution_count": 298,
   "metadata": {},
   "outputs": [
    {
     "data": {
      "text/plain": [
       "[1, 2, 4]"
      ]
     },
     "execution_count": 298,
     "metadata": {},
     "output_type": "execute_result"
    }
   ],
   "source": [
    "a=[1,2,3,4] # A list item can be deleted with the del command:\n",
    "del(a[2])\n",
    "a"
   ]
  },
  {
   "cell_type": "code",
   "execution_count": 308,
   "metadata": {},
   "outputs": [
    {
     "name": "stdout",
     "output_type": "stream",
     "text": [
      "[0, 1, 2, 3, 0, 0, 0, 0, 7]\n",
      "[0, 1, 2, 3, 0, 0, 0, 0]\n",
      "[0, 1, 2, 3, 0, 0, 0, 0]\n",
      "[0, 1, 2, 3]\n"
     ]
    }
   ],
   "source": [
    "a=[0,1,2,3,4,5,6,7]\n",
    "a[4:-1]=[0,0,0,0]\n",
    "print(a)\n",
    "a=[0,1,2,3,4,5,6,7]\n",
    "a[4:8]=[0,0,0,0]\n",
    "print(a)\n",
    "a=[0,1,2,3,4,5,6,7]\n",
    "a[4:len(a)]=[0,0,0,0]\n",
    "print(a)\n",
    "a=[0,1,2,3,4,5,6,7]\n",
    "a[4:len(a)]=[]\n",
    "print(a)"
   ]
  },
  {
   "cell_type": "code",
   "execution_count": 331,
   "metadata": {},
   "outputs": [
    {
     "name": "stdout",
     "output_type": "stream",
     "text": [
      "[1, 2, 3, 4, -4, -5]\n",
      "[0, 0, 1, 2, 3, 4, -4, -5, 10]\n"
     ]
    }
   ],
   "source": [
    "# Prepending or Appending Items to a List\n",
    "# Additional items can be added to the start or end of a list using the +\n",
    "# concatenation operator or the += augmented assignment operator:\n",
    "\n",
    "a = [1,2,3,4]\n",
    "a+=[-4,-5]\n",
    "print(a)\n",
    "print([0,0]+a+[10])\n",
    "# print([0,0]+a+10) # A list must be concatenated with another list\n",
    "# a+=10\n",
    "# a += '10'"
   ]
  },
  {
   "cell_type": "markdown",
   "metadata": {},
   "source": [
    "###  Methods That Modify a List\n",
    "\n",
    "**a.append(<obj>)**\n",
    "\n",
    "> Appends an object to a list.\n",
    "\n",
    "``` python\n",
    ">>> a = [1, 2]\n",
    ">>> a.append('hello')\n",
    ">>> a\n",
    "[1,2,'hello']\n",
    "```\n",
    "Also append list in another list\n",
    "\n",
    "``` python\n",
    ">>> a = [1, 2]\n",
    ">>> a.append([4,5])\n",
    ">>> a\n",
    "[1, 2, [4, 5]]\n",
    ">>> a.append(4,5) # will create an error\n",
    "# TypeError: append() takes exactly one argument (2 given)\n",
    "```\n",
    "\n",
    "**a.extend(<iterable>)**\n",
    "\n",
    "> Extends a list with the objects from an iterable.\n",
    "\n",
    "``` python\n",
    ">>> a = ['a', 'b']\n",
    ">>> a.extend([1, 2, 3])\n",
    ">>> a\n",
    "['a', 'b', 1, 2, 3]\n",
    "```\n",
    "extent behaves like + operator. \n",
    "\n",
    "```python\n",
    ">>> a = ['a', 'b']\n",
    ">>> a += [1, 2, 3]\n",
    ">>> a\n",
    "['a', 'b', 1, 2, 3]\n",
    "```\n",
    "\n",
    "***a.insert(index, obj)***\n",
    "    \n",
    ">Inserts an object into a list.\n",
    "\n",
    "```python\n",
    ">>> a = [0,1,2,4,5]\n",
    ">>> a.insert(3, 3)\n",
    ">>> a[3]\n",
    "3\n",
    ">>> a\n",
    "[0, 1, 2, 3, 4, 5]\n",
    "```\n",
    "***a.remove(obj)***\n",
    ">Removes an object from a list.\n",
    "\n",
    "```python\n",
    ">>> a = [0,1,2,4,5]\n",
    ">>> a.remove(2)\n",
    "a\n",
    "[0, 1, 4, 5]\n",
    "# If there are more than one same element\n",
    "a = [0,1,2,4,5,2]\n",
    "a.remove(2)\n",
    "a\n",
    "[0, 1, 4, 5, 2]\n",
    ">>> a.remove(2)\n",
    "a\n",
    "[0, 1, 4, 5]\n",
    "```\n",
    "***a.pop(index=-1)***\n",
    ">Removes an element from a list.\n",
    "\n",
    "```python\n",
    ">>> a = [0,1,2,4,5,2]\n",
    ">>> a.pop(2)\n",
    "a\n",
    ">>> a.pop(-1)\n",
    "a\n",
    "[0, 1, 4, 5]\n",
    "```\n",
    "```a.pop()``` removes the last item in the list:"
   ]
  },
  {
   "cell_type": "markdown",
   "metadata": {},
   "source": [
    "### Lists Are Dynamic\n",
    "\n",
    "When we add new items to a list size grows."
   ]
  },
  {
   "cell_type": "code",
   "execution_count": null,
   "metadata": {},
   "outputs": [],
   "source": []
  }
 ],
 "metadata": {
  "author": "mes",
  "kernelspec": {
   "display_name": "Python 3",
   "language": "python",
   "name": "python3"
  },
  "language_info": {
   "codemirror_mode": {
    "name": "ipython",
    "version": 3
   },
   "file_extension": ".py",
   "mimetype": "text/x-python",
   "name": "python",
   "nbconvert_exporter": "python",
   "pygments_lexer": "ipython3",
   "version": "3.6.9"
  },
  "latex_envs": {
   "LaTeX_envs_menu_present": true,
   "autoclose": false,
   "autocomplete": true,
   "bibliofile": "biblio.bib",
   "cite_by": "apalike",
   "current_citInitial": 1,
   "eqLabelWithNumbers": true,
   "eqNumInitial": 1,
   "hotkeys": {
    "equation": "Ctrl-E",
    "itemize": "Ctrl-I"
   },
   "labels_anchors": false,
   "latex_user_defs": false,
   "report_style_numbering": false,
   "user_envs_cfg": false
  },
  "toc": {
   "base_numbering": 1,
   "nav_menu": {},
   "number_sections": false,
   "sideBar": true,
   "skip_h1_title": false,
   "title_cell": "Table of Contents",
   "title_sidebar": "Contents",
   "toc_cell": false,
   "toc_position": {},
   "toc_section_display": true,
   "toc_window_display": false
  }
 },
 "nbformat": 4,
 "nbformat_minor": 2
}
