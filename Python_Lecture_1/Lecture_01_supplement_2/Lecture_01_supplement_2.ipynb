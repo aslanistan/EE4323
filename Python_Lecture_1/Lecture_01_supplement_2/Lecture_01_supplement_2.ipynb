{
 "cells": [
  {
   "cell_type": "markdown",
   "metadata": {},
   "source": [
    "# List\n",
    "\n",
    "Lists is one of the most useful data type in Python. Lists store sequences of data (does mot have to be same type). Use square brackets `[ ]` are used to create lists.\n",
    "\n",
    "The important characteristics of Python lists are as follows:\n",
    "\n",
    "* Lists are ordered.\n",
    "* Lists can contain any arbitrary objects.\n",
    "* List elements can be accessed by index.\n",
    "* Lists can be nested to arbitrary depth.\n",
    "* Lists are mutable.\n",
    "* Lists are dynamic."
   ]
  },
  {
   "cell_type": "code",
   "execution_count": null,
   "metadata": {},
   "outputs": [],
   "source": [
    "a=[]   # empty list\n",
    "b=[1,2,3,4] # list with integers\n",
    "c=[1,3.0,'k','Texas']\n",
    "type(a),id(b),id(b[1]),type(c[1])"
   ]
  },
  {
   "cell_type": "markdown",
   "metadata": {},
   "source": [
    "###  Lists are ordered\n",
    ".\n",
    "A list is ordered collection of objects. \n",
    "\n",
    "``` \n",
    "a = [1,2,3]\n",
    "b = [3,2,1]\n",
    "```\n",
    "are not same lists. \n"
   ]
  },
  {
   "cell_type": "code",
   "execution_count": null,
   "metadata": {},
   "outputs": [],
   "source": [
    "a = [1,2,3]\n",
    "b = [3,2,1]\n",
    "print(a is b)\n",
    "print(a == b)\n",
    "print([3] in b)\n",
    "print(3 in b)"
   ]
  },
  {
   "cell_type": "markdown",
   "metadata": {},
   "source": [
    "### Lists Can Contain Arbitrary Objects\n",
    "\n",
    "A list can contain any type of objects. The elements of a list can all be the same type as well as varying types."
   ]
  },
  {
   "cell_type": "code",
   "execution_count": null,
   "metadata": {},
   "outputs": [],
   "source": [
    "a=[1,2,3,4] # list with all integers\n",
    "b=[1,2,3,4.] # list with all integers and floats\n",
    "c=[1,2,3,4.,'test'] # list with integers, float and string\n",
    "d=[[1,2,3],'hello',2,(1,2),4.,{'a':1}] # list with sub-list, tuple\n",
    "\n",
    "print(type(d[0])) \n",
    "print(type(d[1])) \n",
    "print(type(d[2])) \n",
    "print(type(d[3])) \n",
    "print(type(d[4])) \n",
    "print(type(d[5])) \n",
    "print(type(d)) "
   ]
  },
  {
   "cell_type": "markdown",
   "metadata": {},
   "source": [
    "###  List elements can be accessed by index\n",
    "\n",
    "Individual elements in a list can be accessed using an index in square brackets similar way strings. \n",
    "\n",
    "```\n",
    "a = ['foo', 'bar', 'baz', 'qux', 'quux', 'corge']\n",
    "```\n",
    "\n",
    "![List](pic/0021.png)\n",
    "\n",
    "Index number starts from 0 in Python. Last element ('corge') in this example above also consider -1 index. This is good way to access the last element.   "
   ]
  },
  {
   "cell_type": "code",
   "execution_count": null,
   "metadata": {},
   "outputs": [],
   "source": [
    "a = ['foo', 'bar', 'baz', 'qux', 'quux', 'corge']\n",
    "print(a[0]) # first elemet\n",
    "print(a[3]) # fourth element\n",
    "print(a[-1]) # last element. Also, we can use \n",
    "print(a[len(a)-1])"
   ]
  },
  {
   "cell_type": "markdown",
   "metadata": {},
   "source": [
    "Slicing also works. If a is a list, the expression a[m:n] returns the portion of a from index m to, but not including, index n:"
   ]
  },
  {
   "cell_type": "code",
   "execution_count": null,
   "metadata": {
    "scrolled": true
   },
   "outputs": [],
   "source": [
    "print(a[1:4])\n",
    "print(a[0:2])\n",
    "print(a[-4:-1])\n",
    "a[-5:-2] == a[1:4]"
   ]
  },
  {
   "cell_type": "code",
   "execution_count": null,
   "metadata": {},
   "outputs": [],
   "source": [
    "a=[0,1,2,3,4,5,6,7,8,9]\n",
    "print(a[1:3])\n",
    "print(a[-3:-1])\n",
    "print(a[:])\n",
    "print(a[:2])\n",
    "print(a[::2])\n",
    "print(a[1::2])\n",
    "print(a[0::2])\n",
    "print(a[1:6:2])"
   ]
  },
  {
   "cell_type": "code",
   "execution_count": null,
   "metadata": {},
   "outputs": [],
   "source": [
    "print(a[::-1]) # The syntax for reversing a list works the same way it does for strings:\n",
    "print(a[1:5:-1]) # may not work sliced list"
   ]
  },
  {
   "cell_type": "code",
   "execution_count": null,
   "metadata": {},
   "outputs": [],
   "source": [
    "a='Hello'\n",
    "b=a[:]\n",
    "print(id(a),id(b))\n",
    "print(a is b)"
   ]
  },
  {
   "cell_type": "code",
   "execution_count": null,
   "metadata": {},
   "outputs": [],
   "source": [
    "a=['Hello','Python']\n",
    "b=a[:]\n",
    "print(id(a),id(b))\n",
    "print(a is b)"
   ]
  },
  {
   "cell_type": "code",
   "execution_count": null,
   "metadata": {},
   "outputs": [],
   "source": [
    "a=[0,1,2,3,4,5,6,7,8,9]\n",
    "print(0 in a)\n",
    "print(55 in a)\n",
    "print(0 not in a)\n",
    "print(55 not in a)"
   ]
  },
  {
   "cell_type": "code",
   "execution_count": null,
   "metadata": {},
   "outputs": [],
   "source": [
    "# The concatenation (+) and replication (*) operators:\n",
    "\n",
    "a=[2,3,4]\n",
    "print(a+a)\n",
    "print(3*a)\n",
    "b=['hello']\n",
    "print(b+b)\n",
    "print(3*b)"
   ]
  },
  {
   "cell_type": "code",
   "execution_count": null,
   "metadata": {},
   "outputs": [],
   "source": [
    "# The len(), min(), and max() functions:\n",
    "a=[2,3,4]\n",
    "print(len(a))\n",
    "print(min(a))\n",
    "print(max(a))\n",
    "a=['hello','python','cool','classroom']\n",
    "print(len(a))\n",
    "print(min(a))\n",
    "print(max(a))"
   ]
  },
  {
   "cell_type": "code",
   "execution_count": null,
   "metadata": {},
   "outputs": [],
   "source": [
    "# You can operate on a list literal as well:\n",
    "print([2,3,4][2])\n",
    "print([2,3,4][::-1])"
   ]
  },
  {
   "cell_type": "markdown",
   "metadata": {},
   "source": [
    "### Lists Can Be Nested\n",
    "\n",
    "An element in a list can be any sort of object. That includes another list. A list can contain sublists, which in turn can contain sublists themselves, and so on to arbitrary depth.\n",
    "\n",
    "```python\n",
    "x = ['a', ['bb', ['ccc', 'ddd'], 'ee', 'ff'], 'g', ['hh', 'ii'], 'j']\n",
    "```\n",
    "\n",
    "![sublist](pic/003.png)"
   ]
  },
  {
   "cell_type": "code",
   "execution_count": null,
   "metadata": {},
   "outputs": [],
   "source": [
    "x = ['a', ['bb', ['ccc', 'ddd'], 'ee', 'ff'], 'g', ['hh', 'ii'], 'j']\n",
    "print(x[0])\n",
    "print(x[1])\n",
    "print(x[2])\n",
    "print(x[3])\n",
    "print(x[4])"
   ]
  },
  {
   "cell_type": "code",
   "execution_count": null,
   "metadata": {},
   "outputs": [],
   "source": [
    "print(x[1][0])\n",
    "print(x[1][1])\n",
    "print(x[1][2])\n",
    "print(x[1][3])"
   ]
  },
  {
   "cell_type": "code",
   "execution_count": null,
   "metadata": {},
   "outputs": [],
   "source": [
    "print(x[1][1][0])\n",
    "print(x[1][1][1])"
   ]
  },
  {
   "cell_type": "code",
   "execution_count": null,
   "metadata": {},
   "outputs": [],
   "source": [
    "print('ddd' in x)\n",
    "print('ddd' in x[1])\n",
    "print('ddd' in x[1][1])\n",
    "print('ddd' in x[1][1][1])"
   ]
  },
  {
   "cell_type": "markdown",
   "metadata": {},
   "source": [
    "### Lists Are Mutable\n",
    "\n",
    "List elements (types) can be changed or assigned a new value. We cannot do this with strings. "
   ]
  },
  {
   "cell_type": "code",
   "execution_count": null,
   "metadata": {},
   "outputs": [],
   "source": [
    "a=[1,2,3,4]\n",
    "a[1]='2'\n",
    "print(a)\n",
    "print(type(a[2]))\n",
    "a[2]=float(a[2])\n",
    "print(a)\n",
    "print(type(a[2]))"
   ]
  },
  {
   "cell_type": "code",
   "execution_count": null,
   "metadata": {},
   "outputs": [],
   "source": [
    "a=[1,2,3,4] # A list item can be deleted with the del command:\n",
    "del(a[2])\n",
    "a"
   ]
  },
  {
   "cell_type": "code",
   "execution_count": null,
   "metadata": {},
   "outputs": [],
   "source": [
    "a=[0,1,2,3,4,5,6,7]\n",
    "a[4:-1]=[0,0,0,0]\n",
    "print(a)\n",
    "a=[0,1,2,3,4,5,6,7]\n",
    "a[4:8]=[0,0,0,0]\n",
    "print(a)\n",
    "a=[0,1,2,3,4,5,6,7]\n",
    "a[4:len(a)]=[0,0,0,0]\n",
    "print(a)\n",
    "a=[0,1,2,3,4,5,6,7]\n",
    "a[4:len(a)]=[]\n",
    "print(a)"
   ]
  },
  {
   "cell_type": "code",
   "execution_count": null,
   "metadata": {},
   "outputs": [],
   "source": [
    "# Prepending or Appending Items to a List\n",
    "# Additional items can be added to the start or end of a list using the +\n",
    "# concatenation operator or the += augmented assignment operator:\n",
    "\n",
    "a = [1,2,3,4]\n",
    "a+=[-4,-5]\n",
    "print(a)\n",
    "print([0,0]+a+[10])\n",
    "# print([0,0]+a+10) # A list must be concatenated with another list\n",
    "# a+=10\n",
    "# a += '10'"
   ]
  },
  {
   "cell_type": "markdown",
   "metadata": {},
   "source": [
    "###  Methods That Modify a List\n",
    "\n",
    "**a.append(<obj>)**\n",
    "\n",
    "> Appends an object to a list.\n",
    "\n",
    "``` python\n",
    ">>> a = [1, 2]\n",
    ">>> a.append('hello')\n",
    ">>> a\n",
    "[1,2,'hello']\n",
    "```\n",
    "Also append list in another list\n",
    "\n",
    "``` python\n",
    ">>> a = [1, 2]\n",
    ">>> a.append([4,5])\n",
    ">>> a\n",
    "[1, 2, [4, 5]]\n",
    ">>> a.append(4,5) # will create an error\n",
    "# TypeError: append() takes exactly one argument (2 given)\n",
    "```\n",
    "\n",
    "**a.extend(<iterable>)**\n",
    "\n",
    "> Extends a list with the objects from an iterable.\n",
    "\n",
    "``` python\n",
    ">>> a = ['a', 'b']\n",
    ">>> a.extend([1, 2, 3])\n",
    ">>> a\n",
    "['a', 'b', 1, 2, 3]\n",
    "```\n",
    "extent behaves like + operator. \n",
    "\n",
    "```python\n",
    ">>> a = ['a', 'b']\n",
    ">>> a += [1, 2, 3]\n",
    ">>> a\n",
    "['a', 'b', 1, 2, 3]\n",
    "```\n",
    "\n",
    "***a.insert(index, obj)***\n",
    "    \n",
    ">Inserts an object into a list.\n",
    "\n",
    "```python\n",
    ">>> a = [0,1,2,4,5]\n",
    ">>> a.insert(3, 3)\n",
    ">>> a[3]\n",
    "3\n",
    ">>> a\n",
    "[0, 1, 2, 3, 4, 5]\n",
    "```\n",
    "***a.remove(obj)***\n",
    ">Removes an object from a list.\n",
    "\n",
    "```python\n",
    ">>> a = [0,1,2,4,5]\n",
    ">>> a.remove(2)\n",
    "a\n",
    "[0, 1, 4, 5]\n",
    "# If there are more than one same element\n",
    "a = [0,1,2,4,5,2]\n",
    "a.remove(2)\n",
    "a\n",
    "[0, 1, 4, 5, 2]\n",
    ">>> a.remove(2)\n",
    "a\n",
    "[0, 1, 4, 5]\n",
    "```\n",
    "***a.pop(index=-1)***\n",
    ">Removes an element from a list.\n",
    "\n",
    "```python\n",
    ">>> a = [0,1,2,4,5,2]\n",
    ">>> a.pop(2)\n",
    "a\n",
    ">>> a.pop(-1)\n",
    "a\n",
    "[0, 1, 4, 5]\n",
    "```\n",
    "```a.pop()``` removes the last item in the list:"
   ]
  },
  {
   "cell_type": "markdown",
   "metadata": {},
   "source": [
    "### Lists Are Dynamic\n",
    "\n",
    "When we add new items to a list size grows."
   ]
  },
  {
   "cell_type": "markdown",
   "metadata": {},
   "source": [
    "# Tuples\n",
    "\n",
    "Another type of data collection in Python is called tuple. Tuples are similar to lists except:\n",
    "\n",
    "* Tuples are defined by enclosing the elements in parentheses ```( )```\n",
    "* Tuples are immutable.\n"
   ]
  },
  {
   "cell_type": "code",
   "execution_count": null,
   "metadata": {},
   "outputs": [],
   "source": [
    "a=(1,2,3,4,5)\n",
    "type(a),id(a)"
   ]
  },
  {
   "cell_type": "code",
   "execution_count": null,
   "metadata": {},
   "outputs": [],
   "source": [
    "a=(1,2,3,4,5)\n",
    "print(a[1])\n",
    "print(a[:2])\n",
    "print(a[-1])\n",
    "print(a[::1])"
   ]
  },
  {
   "cell_type": "code",
   "execution_count": null,
   "metadata": {},
   "outputs": [],
   "source": [
    "a=(1,2,3,4,5)\n",
    "# a[1]=2  # tuples are immutable"
   ]
  },
  {
   "cell_type": "markdown",
   "metadata": {},
   "source": [
    "Why use a tuple instead of a list?\n",
    "\n",
    "* Program execution is faster when manipulating a tuple than it is for the equivalent list. (This is probably not going to be noticeable when the list or tuple is small.)\n",
    "\n",
    "* Sometimes you don’t want data to be modified. If the values in the collection are meant to remain constant for the life of the program, using a tuple instead of a list guards against accidental modification.\n",
    "\n",
    "* There is another Python data type that you will encounter shortly called a dictionary, which requires as one of its components a value that is of an immutable type. A tuple can be used for this purpose, whereas a list can’t be."
   ]
  },
  {
   "cell_type": "code",
   "execution_count": null,
   "metadata": {},
   "outputs": [],
   "source": [
    "a=10\n",
    "b=8\n",
    "c='test'\n"
   ]
  },
  {
   "cell_type": "code",
   "execution_count": null,
   "metadata": {},
   "outputs": [],
   "source": [
    "a,b,c"
   ]
  },
  {
   "cell_type": "code",
   "execution_count": null,
   "metadata": {},
   "outputs": [],
   "source": [
    "a=[1,2,3]\n",
    "b=tuple(a)\n",
    "c=list(b)\n",
    "d=()\n",
    "e=(1)\n",
    "type(a),type(b),type(c),type(d),type(e)\n",
    "\n",
    "# d=(1,) # How can we display single tuple element\n",
    "# type(e)"
   ]
  },
  {
   "cell_type": "markdown",
   "metadata": {},
   "source": [
    "## Tuple Assignment, Packing, and Unpacking\n",
    "\n",
    "``` python\n",
    "t=(1,2,3,4) # tuple packing\n",
    "\n",
    "(a,b,c,d)=t # tuple unpacking\n",
    "\n",
    "```\n",
    "\n",
    "When unpacking, the number of variables on the left must match the number of values in the tuple:\n",
    "\n",
    "```python\n",
    ">>> t = 1, 2, 3\n",
    ">>> t\n",
    "(1, 2, 3)\n",
    "\n",
    ">>> x1, x2, x3 = t\n",
    ">>> x1, x2, x3\n",
    "(1, 2, 3)\n",
    "\n",
    ">>> x1, x2, x3 = 4, 5, 6\n",
    ">>> x1, x2, x3\n",
    "(4, 5, 6)\n",
    "\n",
    ">>> t = 2,\n",
    ">>> t\n",
    "(2,)\n",
    "```\n"
   ]
  },
  {
   "cell_type": "code",
   "execution_count": 68,
   "metadata": {},
   "outputs": [
    {
     "name": "stdout",
     "output_type": "stream",
     "text": [
      "1\n",
      "2.0\n",
      "Texas\n",
      "4\n"
     ]
    }
   ],
   "source": [
    "# Example Packing/Unpacking\n",
    "p = (1,2.,'Texas',4)  # packing\n",
    "(a,b,c,d)=p  # unpacking\n",
    "print(a)\n",
    "print(b)\n",
    "print(c)\n",
    "print(d)"
   ]
  },
  {
   "cell_type": "code",
   "execution_count": 72,
   "metadata": {},
   "outputs": [
    {
     "name": "stdout",
     "output_type": "stream",
     "text": [
      "(8, 64)\n",
      "<class 'tuple'>\n",
      "[7, 49]\n",
      "<class 'list'>\n"
     ]
    }
   ],
   "source": [
    "# Functions can return as Tuple\n",
    "def seq(x,y):\n",
    "    if x>y:\n",
    "        return (x,x**2)\n",
    "    else:\n",
    "        return (y,y**2)\n",
    "a=seq(7,8)\n",
    "print(a)\n",
    "print(type(a))\n",
    "# Functions can return as list\n",
    "def seq(x,y):\n",
    "    if x>y:\n",
    "        return [x,x**2]\n",
    "    else:\n",
    "        return [y,y**2]\n",
    "a=seq(7,1)\n",
    "print(a)\n",
    "print(type(a))"
   ]
  },
  {
   "cell_type": "code",
   "execution_count": null,
   "metadata": {},
   "outputs": [],
   "source": [
    "a,b=2,3\n",
    "print(a,b)\n",
    "# to swap variables -> does not work\n",
    "b=a\n",
    "a=b\n",
    "print(a,b)\n",
    "# this will work\n",
    "a,b=2,3\n",
    "temp=a\n",
    "a=b\n",
    "b=temp\n",
    "print(a,b)\n",
    "# In Python, the swap can be done with a single tuple assignment:\n",
    "print(\"*********\")\n",
    "a,b=2,3\n",
    "print(a,b)\n",
    "a,b=b,a\n",
    "print(a,b)"
   ]
  },
  {
   "cell_type": "markdown",
   "metadata": {},
   "source": [
    " # Dictionaries \n",
    " \n",
    "Dictionary is another type of data representation in Python that is similar to list.  \n",
    "\n",
    "Dictionaries and lists share the following characteristics:\n",
    "\n",
    "* mutable.\n",
    "* Both are dynamic. They can grow and shrink as needed.\n",
    "* Both can be nested. A list can contain another list. A dictionary can contain another dictionary. A dictionary can also contain a list, and vice versa.\n",
    "\n",
    "Dictionaries differ from lists primarily in how elements are accessed:\n",
    "\n",
    "* List elements are accessed by their position in the list, via indexing.\n",
    "* Dictionary elements are accessed via keys.\n",
    "\n",
    "Dictionaries are associative data representation in Python with key-value pairs. Each key-value pair maps the key to its associated value. Dictionary is defined using comma-separated list of key-value pairs using curly braces. \n",
    "\n",
    "You can define a dictionary by enclosing a comma-separated list of key-value pairs in curly braces ```{}``` and A colon ```:``` separates each key from its associated value:\n",
    "\n",
    "```python\n",
    "a = {\n",
    "    <key_1>: <value_1>,\n",
    "    <key_2>: <value_2>,\n",
    "      .\n",
    "      .\n",
    "      .\n",
    "    <key_n>: <value_n>\n",
    "}\n",
    "```"
   ]
  },
  {
   "cell_type": "code",
   "execution_count": 5,
   "metadata": {},
   "outputs": [],
   "source": [
    "HW={'Max':88,'Opie':75,'Bea':95,'Hank':71,'Rey':98}"
   ]
  },
  {
   "cell_type": "markdown",
   "metadata": {},
   "source": [
    "Example above with HW dictionary \n",
    "``` python\n",
    "HW={'Max':88,'Opie':75,'Bea':95,'Hank':71,'Rey':98}\n",
    "```\n",
    "we can see that ```'Max'``` is a key and ```88``` is its value. "
   ]
  },
  {
   "cell_type": "code",
   "execution_count": null,
   "metadata": {},
   "outputs": [],
   "source": [
    "Max={'HW':[100,23,55,67],'Exams':{98,67,90},'Labs':(98,67,90,45),'Projects':{'A':67,'B':90}}\n",
    "print(type(Max))\n",
    "print(type(Max['HW']))\n",
    "print(type(Max['Exams']))\n",
    "print(type(Max['Labs']))\n",
    "print(type(Max['Projects']))"
   ]
  },
  {
   "cell_type": "code",
   "execution_count": 13,
   "metadata": {},
   "outputs": [
    {
     "data": {
      "text/plain": [
       "dict_keys(['HW', 'Exams', 'Labs', 'Projects'])"
      ]
     },
     "execution_count": 13,
     "metadata": {},
     "output_type": "execute_result"
    }
   ],
   "source": [
    "# we can see keys of a dictionary \n",
    "Max.keys()"
   ]
  },
  {
   "cell_type": "code",
   "execution_count": 14,
   "metadata": {},
   "outputs": [
    {
     "data": {
      "text/plain": [
       "dict_values([[100, 23, 55, 67], {98, 67, 90}, (98, 67, 90, 45), {'A': 67, 'B': 90}])"
      ]
     },
     "execution_count": 14,
     "metadata": {},
     "output_type": "execute_result"
    }
   ],
   "source": [
    "# we can see values of a dictionary \n",
    "Max.values()"
   ]
  },
  {
   "cell_type": "markdown",
   "metadata": {},
   "source": [
    "## Other Dictionary Methods \n",
    "\n",
    "These are the methods of dictionary. We will use ```HW``` dictionary here.\n",
    "\n",
    "```HW={'Max':88,'Opie':75,'Bea':95,'Hank':71,'Rey':98}```\n",
    "\n",
    "* ```HW.clear()``` : Clears all keys and values. Results will be an empty dictionary.\n",
    "* ```HW.copy()``` :\tCreates a copy of the dictionary. If there is any value as list this could not create deepcopy. Use ```deepcopy``` from ```copy``` library. \n",
    "* ```HW.items()``` : Returns a list containing each key value pair\n",
    "* ```HW.keys()``` : Returns a list containing the dictionary's keys\n",
    "* ```HW.fromkeys()``` : Returns a new dictionary with the specified keys and values of the dictionary. If you want to create another dictionary let say for exam grades that could be used. \n",
    "* ```HW.get()```: Returns the value of the specified key.\n",
    "* ```pop(key)```: Removes the element with the specified key.\n",
    "* ```HW.popitem()```: Removes the last inserted key-value pair\n",
    "* ```HW.setdefault()```: Returns the value of the specified key. \n",
    "* ```HW.update()```: Updates the dictionary with the specified key-value pairs.\n",
    "* ```HW.values()```: Returns a list of all the values in the dictionary.\n",
    "* ```len(HW)```: Returns with dictionary element number (5 for this examle).\n",
    "* ```HW[key]```: Returns with the value of the key requested. \n",
    "* ```del HW[key]```: Deletes the value/key.\n",
    "* ```key in HW```: Checks if requested key is in HW. If the key is in the dictionary returns to ```True```, else ```False```. \n",
    "* ```key not in HW```: Checks if requested key is in HW. If the key is not in the dictionary returns to ```True```, else ```False```.  "
   ]
  },
  {
   "cell_type": "code",
   "execution_count": 37,
   "metadata": {},
   "outputs": [
    {
     "name": "stdout",
     "output_type": "stream",
     "text": [
      "{'Max': 88, 'Opie': 75, 'Bea': 95, 'Hank': 71, 'Rey': 98}\n",
      "{'Max': 88, 'Opie': 75, 'Bea': 95, 'Hank': 71, 'Rey': 98}\n",
      "{'Max': 91, 'Opie': 75, 'Bea': 95, 'Hank': 71, 'Rey': 98}\n",
      "{'Max': 91, 'Opie': 75, 'Bea': 95, 'Hank': 71, 'Rey': 98}\n",
      "{'Max': 88, 'Opie': 75, 'Bea': 95, 'Hank': 71, 'Rey': 98}\n",
      "{'Max': 88, 'Opie': 75, 'Bea': 95, 'Hank': 71, 'Rey': 98}\n",
      "{'Max': 91, 'Opie': 75, 'Bea': 95, 'Hank': 71, 'Rey': 98}\n",
      "{'Max': 88, 'Opie': 75, 'Bea': 95, 'Hank': 71, 'Rey': 98}\n",
      "{'Max': [88, 100], 'Opie': 75, 'Bea': 95, 'Hank': 71, 'Rey': 98}\n",
      "{'Max': [88, 100], 'Opie': 75, 'Bea': 95, 'Hank': 71, 'Rey': 98}\n",
      "{'Max': [91, 100], 'Opie': 75, 'Bea': 95, 'Hank': 71, 'Rey': 98}\n",
      "{'Max': [91, 100], 'Opie': 75, 'Bea': 95, 'Hank': 71, 'Rey': 98}\n",
      "{'Max': [88, 100], 'Opie': 75, 'Bea': 95, 'Hank': 71, 'Rey': 98}\n",
      "{'Max': [88, 100], 'Opie': 75, 'Bea': 95, 'Hank': 71, 'Rey': 98}\n",
      "{'Max': [91, 100], 'Opie': 75, 'Bea': 95, 'Hank': 71, 'Rey': 98}\n",
      "{'Max': [88, 100], 'Opie': 75, 'Bea': 95, 'Hank': 71, 'Rey': 98}\n"
     ]
    }
   ],
   "source": [
    "HW={'Max':88,'Opie':75,'Bea':95,'Hank':71,'Rey':98}\n",
    "HW_c=HW\n",
    "print(HW)\n",
    "print(HW_c)\n",
    "# This is shallow copy\n",
    "HW['Max']=91\n",
    "print(HW)\n",
    "print(HW_c)\n",
    "HW={'Max':88,'Opie':75,'Bea':95,'Hank':71,'Rey':98}\n",
    "HW_c=HW.copy()\n",
    "print(HW)\n",
    "print(HW_c)\n",
    "HW['Max']=91\n",
    "print(HW)\n",
    "print(HW_c)\n",
    "# This is still shallow copy\n",
    "HW={'Max':[88,100],'Opie':75,'Bea':95,'Hank':71,'Rey':98}\n",
    "HW_c=HW.copy()\n",
    "print(HW)\n",
    "print(HW_c)\n",
    "HW['Max'][0]=91\n",
    "print(HW)\n",
    "print(HW_c)\n",
    "# If you want deep copy\n",
    "import copy\n",
    "HW={'Max':[88,100],'Opie':75,'Bea':95,'Hank':71,'Rey':98}\n",
    "HW_c=copy.deepcopy(HW)\n",
    "print(HW)\n",
    "print(HW_c)\n",
    "HW['Max'][0]=91\n",
    "print(HW)\n",
    "print(HW_c)"
   ]
  },
  {
   "cell_type": "code",
   "execution_count": 58,
   "metadata": {},
   "outputs": [
    {
     "name": "stdout",
     "output_type": "stream",
     "text": [
      "{'Max': None, 'Opie': None, 'Bea': None, 'Hank': None, 'Rey': None}\n",
      "{'Max': 100, 'Opie': 100, 'Bea': 100, 'Hank': 100, 'Rey': 100}\n"
     ]
    },
    {
     "data": {
      "text/plain": [
       "{'Opie': 75, 'Bea': 95, 'Hank': 71, 'Rey': 98}"
      ]
     },
     "execution_count": 58,
     "metadata": {},
     "output_type": "execute_result"
    }
   ],
   "source": [
    "HW={'Max':[88,100],'Opie':75,'Bea':95,'Hank':71,'Rey':98}\n",
    "Exams={}\n",
    "Exams=Exams.fromkeys(HW)\n",
    "print(Exams)\n",
    "Exams=Exams.fromkeys(HW,100)\n",
    "print(Exams)\n",
    "len(HW)\n",
    "del HW['Max']\n",
    "HW"
   ]
  },
  {
   "cell_type": "code",
   "execution_count": 65,
   "metadata": {},
   "outputs": [
    {
     "name": "stdout",
     "output_type": "stream",
     "text": [
      "Max [88, 100]\n",
      "Opie 75\n",
      "Bea 95\n",
      "Hank 71\n",
      "Rey 98\n",
      "Max [88, 100]\n",
      "Opie 75\n",
      "Bea 95\n",
      "Hank 71\n",
      "Rey 98\n"
     ]
    }
   ],
   "source": [
    "HW={'Max':[88,100],'Opie':75,'Bea':95,'Hank':71,'Rey':98}\n",
    "\n",
    "# Dictionaries in Python are iterable. We can use iter(HW):\n",
    "\n",
    "for i in iter(HW):\n",
    "    print(i,HW[i])\n",
    "\n",
    "# Same can be done uisng Python 3x as below:\n",
    "for key, value in HW.items():\n",
    "    print(key,value)  "
   ]
  },
  {
   "cell_type": "code",
   "execution_count": 80,
   "metadata": {},
   "outputs": [
    {
     "name": "stdout",
     "output_type": "stream",
     "text": [
      "<class 'tuple'>\n",
      "<class 'list'>\n",
      "{'Max': [88, 100], 'Opie': 75, 'Bea': 95, 'Hank': 71, 'Rey': 98}\n",
      "{'Max': [88, 100], 'Opie': 75, 'Bea': 95, 'Hank': 71, 'Rey': 98}\n"
     ]
    }
   ],
   "source": [
    "HW=(('Max',[88,100]),('Opie',75),('Bea',95),('Hank',71),('Rey',98))\n",
    "print(type(HW))\n",
    "HW1=[('Max',[88,100]),('Opie',75),('Bea',95),('Hank',71),('Rey',98)]\n",
    "print(type(HW1))\n",
    "HHW=dict(HW)\n",
    "print(HHW)\n",
    "HHW=dict(HW1)\n",
    "print(HHW)"
   ]
  },
  {
   "cell_type": "code",
   "execution_count": 1,
   "metadata": {},
   "outputs": [],
   "source": [
    "States={\n",
    "'MI':['Michigan','Iowa'],\n",
    "'TX':'Texas',\n",
    "'NY':'New York',\n",
    "'NJ':'New Jersey'\n",
    "}"
   ]
  },
  {
   "cell_type": "code",
   "execution_count": 2,
   "metadata": {},
   "outputs": [
    {
     "name": "stdout",
     "output_type": "stream",
     "text": [
      "Please enter state:mi\n",
      "['Michigan', 'Iowa']\n"
     ]
    }
   ],
   "source": [
    "S=input('Please enter state:')\n",
    "print(States[S.upper()])"
   ]
  },
  {
   "cell_type": "code",
   "execution_count": 103,
   "metadata": {
    "scrolled": true
   },
   "outputs": [
    {
     "name": "stdout",
     "output_type": "stream",
     "text": [
      "{'name': 'Semih', 'lastName': 'Aslan', 'age': 21, 'State': 'Texas'}\n"
     ]
    }
   ],
   "source": [
    "# Here is another way to create a dictionary as well as adding key/values\n",
    "\n",
    "Employee={}\n",
    "Employee['name']='Semih'\n",
    "Employee['lastName']='Aslan'\n",
    "Employee['age']=21\n",
    "Employee['State']='Texas'\n",
    "print(Employee)"
   ]
  },
  {
   "cell_type": "markdown",
   "metadata": {},
   "source": [
    "# Sets in Python\n",
    "\n",
    "When we look at what we learned from **Set Theory** this could be applied to here as well. Similar to Set Theory there is a way to group objects in Python. \n",
    "\n",
    "<img src=\"pic/004.png\" width=\"300\" height=\"200\" >\n",
    "\n",
    "Set type in Python has following characteristics:\n",
    "\n",
    "* Sets are unordered. There is no way to access the elements of sets via indexing. These tow sets a,b are same:\n",
    "```python\n",
    ">>> a={1,2,3,4}\n",
    ">>> b={3,4,1,2}\n",
    ">>> a==b\n",
    "True\n",
    "```\n",
    "* Set elements are unique. Duplicate elements are not allowed.\n",
    "```python\n",
    ">>> a={1,2,3,4,1}\n",
    ">>> print(a)\n",
    "{1, 2, 3, 4}\n",
    "```\n",
    "* A set itself may be modified, but the elements contained in the set must be of an immutable type.\n",
    "```python\n",
    ">>> a={1,2,3,4,1}\n",
    ">>> print(a)\n",
    "{1, 2, 3, 4}\n",
    ">>> a.add(5)\n",
    ">>> print(a)\n",
    "{1, 2, 3, 4, 5}\n",
    "```\n",
    "A set can be created in two ways. First, you can define a set with the built-in set() function:\n",
    "```python\n",
    ">>> a=set([1,2,3,4,1])\n",
    ">>> print(a)\n",
    "{1, 2, 3, 4}\n",
    ">>> a=set((1,2,3,4,1))\n",
    ">>> print(a)\n",
    "{1, 2, 3, 4}\n",
    "```\n",
    "or you can create it using ```{ }``` .\n",
    "```python\n",
    ">>> a={1,2,3,4,1}\n",
    ">>> print(a)\n",
    "{1, 2, 3, 4}\n",
    "```\n"
   ]
  },
  {
   "cell_type": "code",
   "execution_count": 91,
   "metadata": {},
   "outputs": [
    {
     "name": "stdout",
     "output_type": "stream",
     "text": [
      "{1, 2, 3, 4, 5}\n",
      "{1, 2, 1.5, 3, 5, 4.0, 'hello', 'cool', 'Cool', 'zoom'}\n"
     ]
    }
   ],
   "source": [
    "a={4,5,1,1,2,3,4} # it will give us sorted set values\n",
    "print(a)\n",
    "b={'hello',5,1,1.5,2,3,4.0,4,'cool','Cool','zoom'} # it will give us sorted set values\n",
    "print(b)"
   ]
  },
  {
   "cell_type": "code",
   "execution_count": 96,
   "metadata": {},
   "outputs": [
    {
     "name": "stdout",
     "output_type": "stream",
     "text": [
      "{1, 2, 3, 4}\n"
     ]
    }
   ],
   "source": [
    ">>> a={1,2,3,4,1}\n",
    ">>> print(a)"
   ]
  },
  {
   "cell_type": "code",
   "execution_count": 97,
   "metadata": {},
   "outputs": [],
   "source": [
    "a.add(5)\n",
    "print(a)"
   ]
  },
  {
   "cell_type": "code",
   "execution_count": 102,
   "metadata": {},
   "outputs": [
    {
     "name": "stdout",
     "output_type": "stream",
     "text": [
      "{1, 2, 3, 4}\n"
     ]
    }
   ],
   "source": [
    ">>> a=set([1,2,3,4,1])\n",
    ">>> print(a)"
   ]
  },
  {
   "cell_type": "code",
   "execution_count": 110,
   "metadata": {},
   "outputs": [
    {
     "name": "stdout",
     "output_type": "stream",
     "text": [
      "{'hello'}\n",
      "{'h', 'o', 'e', 'l'}\n",
      "{'hello'}\n"
     ]
    }
   ],
   "source": [
    "# When we create set using ```set()```, we need to be carefull how we decleare it.\n",
    "a={'hello'}\n",
    "print(a)\n",
    "b=set('hello')\n",
    "print(b)\n",
    "c=set(['hello'])\n",
    "print(c)"
   ]
  },
  {
   "cell_type": "code",
   "execution_count": 120,
   "metadata": {},
   "outputs": [
    {
     "name": "stdout",
     "output_type": "stream",
     "text": [
      "{1, 2, 3, 4, 5}\n",
      "{2, 3, 4}\n",
      "{1}\n",
      "{4}\n",
      "{1, 2, 3, 4, 5}\n",
      "{1, 5}\n"
     ]
    }
   ],
   "source": [
    "a = {1, 2, 3, 4}\n",
    "b = {2, 3, 4, 5}\n",
    "c = {3, 4, 5, 6}\n",
    "d = {4, 5, 6, 7}\n",
    "print(a.union(b))\n",
    "print(a.intersection(b))\n",
    "print(a.difference(b))  # a-b\n",
    "print(a&b&c&d)\n",
    "print(a|b)\n",
    "print(a^b)"
   ]
  },
  {
   "cell_type": "code",
   "execution_count": null,
   "metadata": {},
   "outputs": [],
   "source": []
  }
 ],
 "metadata": {
  "author": "mes",
  "kernelspec": {
   "display_name": "Python 3",
   "language": "python",
   "name": "python3"
  },
  "language_info": {
   "codemirror_mode": {
    "name": "ipython",
    "version": 3
   },
   "file_extension": ".py",
   "mimetype": "text/x-python",
   "name": "python",
   "nbconvert_exporter": "python",
   "pygments_lexer": "ipython3",
   "version": "3.6.9"
  },
  "latex_envs": {
   "LaTeX_envs_menu_present": true,
   "autoclose": false,
   "autocomplete": true,
   "bibliofile": "biblio.bib",
   "cite_by": "apalike",
   "current_citInitial": 1,
   "eqLabelWithNumbers": true,
   "eqNumInitial": 1,
   "hotkeys": {
    "equation": "Ctrl-E",
    "itemize": "Ctrl-I"
   },
   "labels_anchors": false,
   "latex_user_defs": false,
   "report_style_numbering": false,
   "user_envs_cfg": false
  },
  "toc": {
   "base_numbering": 1,
   "nav_menu": {},
   "number_sections": false,
   "sideBar": true,
   "skip_h1_title": false,
   "title_cell": "Table of Contents",
   "title_sidebar": "Contents",
   "toc_cell": false,
   "toc_position": {},
   "toc_section_display": true,
   "toc_window_display": false
  }
 },
 "nbformat": 4,
 "nbformat_minor": 2
}
