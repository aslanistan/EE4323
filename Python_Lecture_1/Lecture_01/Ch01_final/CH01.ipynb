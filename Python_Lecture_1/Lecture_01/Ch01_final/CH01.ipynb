{
 "cells": [
  {
   "cell_type": "markdown",
   "metadata": {},
   "source": [
    "# 1. Introduction to Computers and Python"
   ]
  },
  {
   "cell_type": "markdown",
   "metadata": {},
   "source": [
    "### Objectives\n",
    "* Learn about exciting recent developments in computing.\n",
    "* Learn computer hardware, software and Internet basics.\n",
    "* Understand the data hierarchy from bits to databases.\n",
    "* Understand the different types of programming languages.\n",
    "* Understand object-oriented programming basics."
   ]
  },
  {
   "cell_type": "markdown",
   "metadata": {},
   "source": [
    "### Objectives (cont.)\n",
    "* Understand the strengths of Python and other leading programming languages.\n",
    "* Understand the importance of libraries.\n",
    "* Be introduced to key Python and data-science libraries you’ll use in this book.\n",
    "* Test-drive the IPython interpreter’s interactive mode for executing Python code.\n",
    "* Execute a Python script that animates a bar chart. "
   ]
  },
  {
   "cell_type": "markdown",
   "metadata": {},
   "source": [
    "### Objectives (cont.)\n",
    "* Create and test-drive a web-browser-based Jupyter Notebook for executing Python code. \n",
    "* Learn how big “big data” is and how quickly it’s getting even bigger.\n",
    "* Read a big-data case study on a mobile navigation app. \n",
    "* Be introduced to artificial intelligence—at the intersection of computer science and data science. "
   ]
  },
  {
   "cell_type": "markdown",
   "metadata": {},
   "source": [
    "# 1.1 Introduction\n",
    "* Python—one of the world’s most widely used computer programming languages\n",
    "* Introduce terminology and concepts that lay the groundwork for the Python programming \n",
    "* Overview _object-oriented programming_ terminology and concepts\n",
    "* Introduce the Python Standard Library and various data-science libraries that help you avoid “reinventing the wheel” \n",
    "    * Perform significant tasks with modest numbers of instructions"
   ]
  },
  {
   "cell_type": "markdown",
   "metadata": {},
   "source": [
    "# 1.1 Introduction (cont.)\n",
    "* Work through three test-drives showing how to execute Python code\n",
    "    * Use IPython to execute Python instructions interactively and immediately see their results\n",
    "    * Execute a Python script\n",
    "    * Introduce Jupyter Notebooks using JupyterLab—an interactive, web-browser-based tool in which you can conveniently write and execute Python instructions\n",
    "        * Can include text, images, audios, videos, animations and code"
   ]
  },
  {
   "cell_type": "markdown",
   "metadata": {},
   "source": [
    "# 1.1 Introduction (cont.)\n",
    "* Learn just how big “big data” is and how quickly it’s getting even bigger\n",
    "* Big-data case study on the Waze mobile navigation app, which uses many current technologies to provide dynamic driving directions that get you to your destination as quickly and as safely as possible\n",
    "    * We’ll mention where you’ll use many of the same technologies in this book\n",
    "* First **Intro to Data Science** section discusses a key intersection between computer science and data science—artificial intelligence"
   ]
  },
  {
   "cell_type": "markdown",
   "metadata": {},
   "source": [
    "------\n",
    "&copy;1992&ndash;2020 by Pearson Education, Inc. All Rights Reserved. This content is based on Chapter 1 of the book [**Intro to Python for Computer Science and Data Science: Learning to Program with AI, Big Data and the Cloud**](https://amzn.to/2VvdnxE).\n",
    "\n",
    "DISCLAIMER: The authors and publisher of this book have used their \n",
    "best efforts in preparing the book. These efforts include the \n",
    "development, research, and testing of the theories and programs \n",
    "to determine their effectiveness. The authors and publisher make \n",
    "no warranty of any kind, expressed or implied, with regard to these \n",
    "programs or to the documentation contained in these books. The authors \n",
    "and publisher shall not be liable in any event for incidental or \n",
    "consequential damages in connection with, or arising out of, the \n",
    "furnishing, performance, or use of these programs.                  "
   ]
  },
  {
   "cell_type": "markdown",
   "metadata": {},
   "source": [
    "# 1.2 Hardware and Software \n",
    "* Computers can perform calculations and make logical decisions phenomenally faster than human beings can\n",
    "* Today’s personal computers can perform billions of calculations in one second\n",
    "* Supercomputers are already performing thousands of trillions (quadrillions) of instructions per second! "
   ]
  },
  {
   "cell_type": "markdown",
   "metadata": {},
   "source": [
    "# 1.2 Hardware and Software (cont.)\n",
    "* Computers process data under the control of sequences of instructions called computer **programs**\n",
    "* Guide the computer through ordered actions specified by computer programmers\n",
    "* A computer consists of various physical devices referred to as **hardware (keyboard, screen, mouse, solid-state disks, hard disks, memory, DVD drives and processing units"
   ]
  },
  {
   "cell_type": "markdown",
   "metadata": {},
   "source": [
    "## 1.2.1 \tMoore’s Law\n",
    "* For many decades, hardware costs have fallen rapidly\n",
    "* Every year or two, the capacities of computers have approximately doubled inexpensively\n",
    "* This trend is called Moore’s Law\n"
   ]
  },
  {
   "cell_type": "markdown",
   "metadata": {},
   "source": [
    "## 1.2.2 \tComputer Organization\n",
    "* Computers can be envisioned as divided into various logical units or sections"
   ]
  },
  {
   "cell_type": "markdown",
   "metadata": {},
   "source": [
    "### Input Unit\n",
    "* “receiving” section \n",
    "* obtains information (data and computer programs) from input devices and places it at the disposal of the other units for processing"
   ]
  },
  {
   "cell_type": "markdown",
   "metadata": {},
   "source": [
    "### Output Unit\n",
    "* “shipping” section \n",
    "* Takes information the computer has processed and places it on various output devices to make it available for use outside the computer"
   ]
  },
  {
   "cell_type": "markdown",
   "metadata": {},
   "source": [
    "### Memory Unit\n",
    "* Rapid-access, relatively low-capacity “warehouse” section retains information that has been entered through the input unit, making it immediately available for processing when needed\n",
    "* Also retains processed information until it can be placed on output devices by the output unit\n",
    "* Information in the memory unit is **volatile**—it’s typically lost when the computer’s power is turned off\n",
    "* Often called memory, primary memory or RAM (Random Access Memory)\n",
    "* Main memories on desktop and notebook computers contain as much as 128 GB of RAM, though 8 to 16 GB is most common\n",
    "    * GB stands for gigabytes\n",
    "    * A gigabyte is approximately one billion bytes\n",
    "    * A byte is eight bits\n",
    "    * A bit is either a 0 or a 1"
   ]
  },
  {
   "cell_type": "markdown",
   "metadata": {},
   "source": [
    "### Arithmetic and Logic Unit (ALU)\n",
    "* “Manufacturing” section \n",
    "* Performs calculations, such as addition, subtraction, multiplication and division\n",
    "* Also contains the decision mechanisms that allow the computer, for example, to compare two items from the memory unit to determine whether they’re equal\n",
    "* In today’s systems, the ALU is part of the next logical unit, the CPU"
   ]
  },
  {
   "cell_type": "markdown",
   "metadata": {},
   "source": [
    "### Central Processing Unit (CPU)\n",
    "* “Administrative” section \n",
    "* Coordinates and supervises the operation of the other sections\n",
    "* Tells the input unit when information should be read into the memory unit\n",
    "* Tells the ALU when information from the memory unit should be used in calculations \n",
    "* Tells the output unit when to send information from the memory unit to specific output devices\n",
    "* Most computers have **multicore processors** that implement multiple processors on a single integrated-circuit chip\n",
    "* A dual-core processor has two CPUs, a quad-core processor has four and an octa-core processor has eight\n",
    "    * Intel has some processors with up to 72 cores"
   ]
  },
  {
   "cell_type": "markdown",
   "metadata": {},
   "source": [
    "### Secondary Storage Unit\n",
    "* Long-term, high-capacity “warehousing” section\n",
    "* Programs or data not actively being used by the other units normally are placed on secondary storage devices until they’re needed\n",
    "* Information on secondary storage devices is persistent—it’s preserved even when the computer’s power is turned off\n",
    "* Secondary storage information takes much longer to access than information in primary memory, but its cost per unit is much less\n",
    "* Many current gsrd drives hold terabytes (TB) of data\n",
    "    * A terabyte is approximately one trillion bytes\n",
    "    * Typical hard drives on desktop and notebook computers hold up to 4 TB, and some recent desktop-computer hard drives hold up to 15 TB"
   ]
  },
  {
   "cell_type": "markdown",
   "metadata": {},
   "source": [
    "# 1.3 Data Hierarchy \n",
    "![Data hierarchy from bits to records](./ch01images/AAEMYSQ0.png)"
   ]
  },
  {
   "cell_type": "markdown",
   "metadata": {},
   "source": [
    "### Bits\n",
    "* A bit (short for “binary digit”—a digit that can assume one of two values) is the smallest data item in a computer\n",
    "* Can have the value 0 or 1\n",
    "* Bits are the basis of the binary number system"
   ]
  },
  {
   "cell_type": "markdown",
   "metadata": {},
   "source": [
    "### Characters \n",
    "* Decimal digits (0–9), letters (A–Z and a–z) and special symbols such as\n",
    ">`$  @  %  &  *  (  )  –  +  \"  :  ;  ,  ?  /` \n",
    "* Computer's character set contains the characters used to write programs and represent data items\n",
    "* Computers process only 1s and 0s, so a character set represents every character as a pattern of 1s and 0s"
   ]
  },
  {
   "cell_type": "markdown",
   "metadata": {},
   "source": [
    "### Characters (cont.)\n",
    "* Python uses Unicode<sup>®</sup> characters composed of one, two, three or four bytes (8, 16, 24 or 32 bits, respectively)—known as UTF-8 encoding\n",
    "* Unicode contains characters for many of the world’s languages\n",
    "* The ASCII (American Standard Code for Information Interchange) character set is a subset of Unicode that represents letters (a–z and A–Z), digits and some common special characters\n",
    "    * [ASCII subset of Unicode](https://www.unicode.org/charts/PDF/U0000.pdf)\n",
    "* [Unicode charts for all languages, symbols, emojis and more](http://www.unicode.org/charts/)"
   ]
  },
  {
   "cell_type": "markdown",
   "metadata": {},
   "source": [
    "### Fields\n",
    "* Fields are composed of characters or bytes\n",
    "* A field is a group of characters or bytes that conveys meaning\n",
    "    * a person’s name\n",
    "    * a person’s age\n",
    "    * etc."
   ]
  },
  {
   "cell_type": "markdown",
   "metadata": {},
   "source": [
    "### Records \n",
    "* A record is a group of related fields\n",
    "* A record for an employee might consist of \n",
    "    * Employee identification number (a whole number)\n",
    "    * Name (a string of characters)\n",
    "    * Address (a string of characters)\n",
    "    * Hourly pay rate (a number with a decimal point)\n",
    "    * Year-to-date earnings (a number with a decimal point)\n",
    "    * Amount of taxes withheld (a number with a decimal point)"
   ]
  },
  {
   "cell_type": "markdown",
   "metadata": {},
   "source": [
    "### Files\n",
    "* A file is a group of related records\n",
    "* More generally, a file contains arbitrary data in arbitrary formats\n",
    "* Any organization of the bytes in a file, such as organizing the data into records, is a view created by the application programmer\n",
    "* Not unusual for an organization to have many files, some containing billions, or even trillions, of characters of information"
   ]
  },
  {
   "cell_type": "markdown",
   "metadata": {},
   "source": [
    "### Databases\n",
    "* A database is a collection of data organized for easy access and manipulation\n",
    "* Most popular model is the relational database, in which data is stored in simple tables\n",
    "* A table includes records and fields\n",
    "* You can search, sort and otherwise manipulate the data, based on its relationship to multiple tables or databases"
   ]
  },
  {
   "cell_type": "markdown",
   "metadata": {},
   "source": [
    "### Big Data\n",
    "* Table below shows some common byte measurements: \n",
    "\n",
    "| Unit | Bytes | Which is approximately\n",
    "| :--- | :--- | :--- \n",
    "|  1 kilobyte (KB) | 1024 bytes | 10<sup>3</sup> (1024) bytes exactly\n",
    "|  1 megabyte (MB) | 1024 kilobytes | 10<sup>6</sup> (1,000,000) bytes\n",
    "|  1 gigabyte (GB) | 1024 megabytes | 10<sup>9</sup> (1,000,000,000) bytes\n",
    "|  1 terabyte (TB) | 1024 gigabytes | 10<sup>12</sup> (1,000,000,000,000) bytes\n",
    "|  1 petabyte (PB) | 1024 terabytes | 10<sup>15</sup> (1,000,000,000,000,000) bytes\n",
    "|  1 exabyte (EB) | 1024 petabytes | 10<sup>18</sup> (1,000,000,000,000,000,000) bytes\n",
    "|  1 zettabyte (ZB) | 1024 exabytes | 10<sup>21</sup> (1,000,000,000,000,000,000,000) bytes"
   ]
  },
  {
   "cell_type": "markdown",
   "metadata": {},
   "source": [
    "### Big Data (cont.)\n",
    "* Amount of data being produced worldwide is enormous and its growth is accelerating\n",
    "* Big data applications deal with massive amounts of data\n",
    "* Field is growing quickly\n",
    "* Lots of opportunity for software developers"
   ]
  },
  {
   "cell_type": "markdown",
   "metadata": {},
   "source": [
    "# 1.4   Machine Languages, Assembly Languages and High-Level Languages\n",
    "* Programmers write instructions in various programming languages\n",
    "    * Some directly understandable by computers \n",
    "    * Others require intermediate translation steps\n",
    "* Three general types\n",
    "\t1.\tMachine languages\n",
    "\t2.\tAssembly languages\n",
    "\t3.\tHigh-level languages"
   ]
  },
  {
   "cell_type": "markdown",
   "metadata": {},
   "source": [
    "### Machine Languages\n",
    "* Any computer understands only its own machine language, defined by its hardware design\n",
    "* Generally consist of strings of numbers (ultimately 1s and 0s) that instruct computers to perform their most elementary operations \n",
    "* Cumbersome for humans\n",
    "* Section of an early machine-language payroll program that adds overtime pay to base pay and stores the result in gross pay\n",
    ">```\n",
    "+1300042774\n",
    "+1400593419\n",
    "+1200274027\n",
    "```"
   ]
  },
  {
   "cell_type": "markdown",
   "metadata": {},
   "source": [
    "### Assembly Languages and Assemblers\n",
    "* English-like abbreviations to represent elementary operations\n",
    "* Formed the basis of assembly languages\n",
    "* Assemblers were developed to convert assembly-language programs to machine language at computer speeds\n",
    "* Section of an assembly-language payroll program that adds overtime pay to base pay and stores the result in gross pay\n",
    ">```\n",
    "load    basepay\n",
    "add     overpay\n",
    "store   grosspay\n",
    "```"
   ]
  },
  {
   "cell_type": "markdown",
   "metadata": {},
   "source": [
    "### High-Level Languages and Compilers\n",
    "* With the advent of assembly languages, computer usage increased rapidly\n",
    "* Programmers still needed numerous instructions to accomplish even simple tasks\n",
    "* High-level languages enable single statements to accomplish substantial tasks\n",
    "* A typical high-level-language program contains many statements, known as the program’s source code "
   ]
  },
  {
   "cell_type": "markdown",
   "metadata": {},
   "source": [
    "### High-Level Languages and Compilers (cont.)\n",
    "* Compilers convert high-level-language source code into machine language\n",
    "* High-level languages look almost like everyday English and contain commonly used mathematical notations\n",
    "* Payroll program written in a high-level language might contain a statement such as\n",
    ">```\n",
    "grossPay = basePay + overTimePay\n",
    "```\n",
    "* Python is among the world’s most widely used high-level programming languages"
   ]
  },
  {
   "cell_type": "markdown",
   "metadata": {},
   "source": [
    "# Interpreters\n",
    "* Interpreter programs execute high-level language programs directly and avoid the delay of compilation\n",
    "* Interpreted programs run slower than compiled programs\n",
    "* Most widely used Python implementation—CPython—uses a clever mixture of compilation and interpretation to run programs"
   ]
  },
  {
   "cell_type": "markdown",
   "metadata": {},
   "source": [
    "# 1.5 Introduction to Object Technology\n",
    "* Building software quickly, correctly and economically is important\n",
    "* _Objects_, or more precisely, the _classes_ objects come from, are essentially _reusable_ software components\n",
    "* Almost any _noun_ can be reasonably represented as a software object in terms of _attributes_ (e.g., name, color and size) and _behaviors_ (e.g., calculating, moving and communicating)"
   ]
  },
  {
   "cell_type": "markdown",
   "metadata": {},
   "source": [
    "### Automobile as an Object\n",
    "* Before you can drive a car, someone has to _design_ it\n",
    "* A car typically begins as engineering drawings, similar to the _blueprints_ that describe the design of a house\n",
    "* These drawings include the design for an accelerator pedal\n",
    "* The accelerator pedal _hides_ from the driver the complex mechanisms that make the car go faster\n",
    "* The brake pedal “hides” the mechanisms that slow the car\n",
    "* The steering wheel “hides” the mechanisms that turn the car\n",
    "* Enables people with little or no knowledge of how engines, braking and steering mechanisms work to drive a car easily"
   ]
  },
  {
   "cell_type": "markdown",
   "metadata": {},
   "source": [
    "### Automobile as an Object\n",
    "* Cannot drive a car’s engineering drawings\n",
    "* First, must _build_ a car from the engineering drawings that describe it\n",
    "* A completed car has an _actual_ accelerator pedal to make it go faster when the driver _presses_ it"
   ]
  },
  {
   "cell_type": "markdown",
   "metadata": {},
   "source": [
    "### Methods and Classes\n",
    "* Performing a task in a program requires a **method**\n",
    "    * Houses the program statements that perform its tasks\n",
    "    * Method hides these statements from its user, just as the accelerator pedal of a car hides from the driver the mechanisms of making the car go faster\n",
    "* A program unit called a **class** houses the set of methods that perform the class’s tasks\n",
    "    * A class that represents a bank account might contain one method to _deposit_ money to an account, another to _withdraw_ money from an account and a third to _inquire_ what the account’s balance is\n",
    "* A class is similar in concept to a car’s engineering drawings"
   ]
  },
  {
   "cell_type": "markdown",
   "metadata": {},
   "source": [
    "### Instantiation \n",
    "* You must _build an object_ of a class before a program can perform the tasks that the class’s methods define\n",
    "* This is called _instantiation_\n",
    "* An object is then referred to as an **instance** of its class"
   ]
  },
  {
   "cell_type": "markdown",
   "metadata": {},
   "source": [
    "### Reuse\n",
    "* A car’s engineering drawings can be _reused_ many times to build many cars\n",
    "* Similarly, you can _reuse_ a class many times to build many objects\n",
    "* Reuse of existing classes when building new classes and programs saves time and effort\n",
    "* Also helps you build more reliable and effective systems because existing classes and components often have undergone extensive _testing_, _debugging_ and _performance tuning_\n",
    "* In Python, you’ll typically use a _building-block approach_ \n",
    "    * Use existing high-quality pieces wherever possible\n",
    "    "
   ]
  },
  {
   "cell_type": "markdown",
   "metadata": {},
   "source": [
    "### Messages and Method Calls\n",
    "* When you drive a car, pressing its gas pedal sends a _message_ to the car to perform a task—that is, to go faster\n",
    "* You _send messages to an object_\n",
    "* Each message is implemented as a method call that tells a method of the object to perform its task\n",
    "    * E.g., call a bank-account object’s _deposit_ method to increase the account’s balance"
   ]
  },
  {
   "cell_type": "markdown",
   "metadata": {},
   "source": [
    "### Attributes and Instance Variables\n",
    "* A car, also has _attributes_, such as its color, its number of doors, the amount of gas in its tank, its current speed and its record of total miles driven (i.e., its odometer reading)\n",
    "* Attributes are represented as part of its design in its engineering diagrams \n",
    "* As you drive an actual car, these attributes are carried along with the car\n",
    "* Every car maintains its _own_ attributes\n",
    "    * e.g., each car knows how much gas is in its own gas tank, but _not_ how much is in the tanks of _other_ cars"
   ]
  },
  {
   "cell_type": "markdown",
   "metadata": {},
   "source": [
    "### Attributes and Instance Variables (cont.)\n",
    "* An object has attributes that it carries along as it’s used in a program\n",
    "* Specified as part of the object’s class\n",
    "    * A bank-account object has a _balance attribute_ that represents the amount of money in the account\n",
    "    * Each bank-account object knows the balance in the account it represents, but _not_ the balances of the _other_ accounts in the bank\n",
    "* Attributes are specified by the class’s **instance variables**\n",
    "* A class’s attributes and methods are intimately related, so classes wrap together their attributes and methods"
   ]
  },
  {
   "cell_type": "markdown",
   "metadata": {},
   "source": [
    "### Inheritance\n",
    "* A new class of objects can be created conveniently by **inheritance**\n",
    "* The new class (called the **subclass**) starts with the characteristics of an existing class (called the **superclass**), possibly customizing them and adding unique characteristics of its own"
   ]
  },
  {
   "cell_type": "markdown",
   "metadata": {},
   "source": [
    "### Object-Oriented Analysis and Design (OOAD)\n",
    "* Large and complex projects should follow a detailed **analysis** process for determining the project’s **requirements** (_what_ the system is supposed to do), then develop a **design** that satisfies them (_how_ the system should do it)\n",
    "* Should go through this process and carefully review the design (and have others review the design) before writing any code\n",
    "* If this process involves analyzing and designing your system from an object-oriented point of view, it’s called an **object-oriented analysis-and-design (OOAD) process**\n",
    "* Languages like Python are object-oriented\n",
    "* Programming in such a language, called **object-oriented programming (OOP)**, allows you to implement an object-oriented design as a working system"
   ]
  },
  {
   "cell_type": "markdown",
   "metadata": {},
   "source": [
    "# 1.6 Operating Systems\n",
    "* Make using computers more convenient for users, application developers and system administrators\n",
    "* Provide services that allow each application to execute safely, efficiently and concurrently with other applications\n",
    "* Core components of the operating system are implemented in the kernel\n",
    "* Linux, Windows and macOS are popular desktop computer operating systems\n",
    "* Google’s Android and Apple’s iOS are the most popular mobile operating systems"
   ]
  },
  {
   "cell_type": "markdown",
   "metadata": {},
   "source": [
    "### Windows—A Proprietary Operating System\n",
    "* In the mid-1980s, Microsoft developed the Windows operating system, consisting of a graphical user interface built on top of DOS (Disk Operating System)\n",
    "* Windows 10 is Microsoft’s latest operating system\n",
    "* Windows is a proprietary operating system controlled by Microsoft \n",
    "* Windows is by far the world’s most widely used desktop operating system"
   ]
  },
  {
   "cell_type": "markdown",
   "metadata": {},
   "source": [
    "### Linux—An Open-Source Operating System\n",
    "* Among the greatest successes of the open-source movement\n",
    "* With open-source development, individuals and companies contribute their efforts in developing, maintaining and evolving software in exchange for the right to use that software for their own purposes, typically at no charge\n",
    "* Open-source code is often scrutinized by a much larger audience than proprietary software, so errors often get removed faster\n",
    "* Open source also encourages innovation"
   ]
  },
  {
   "cell_type": "markdown",
   "metadata": {},
   "source": [
    "### Linux—An Open-Source Operating System (cont.)\n",
    "* Some key open-source organizations:\n",
    "    * Python Software Foundation (responsible for Python)\n",
    "    * GitHub (tools for managing open-source projects)\n",
    "    * The Apache Software Foundation (originally creators of Apache web server, now oversees 350 open-source projects)\n",
    "    * The Eclipse Foundation (the Eclipse Integrated Development Environment helps programmers conveniently develop software)\n",
    "    * The Mozilla Foundation (creators of the Firefox web browser and more)\n",
    "    * OpenML (focuses on open-source tools and data for machine learning)\n",
    "    * OpenAI (does research on artificial intelligence and publishes open-source tools used in AI reinforcement-learning research) \n",
    "    * OpenCV (focuses on open-source computer-vision tools that can be used across a range of operating systems and programming languages)"
   ]
  },
  {
   "cell_type": "markdown",
   "metadata": {},
   "source": [
    "### Linux—An Open-Source Operating System (cont.)\n",
    "* The Linux kernel is developed by a loosely organized team of volunteers \n",
    "* Linux is popular in servers, personal computers and embedded systems (such as the computer systems at the heart of smartphones, smart TVs and automobile systems)\n",
    "* Linux source code (the program code) is available to the public for examination and modification and is free to download and install"
   ]
  },
  {
   "cell_type": "markdown",
   "metadata": {},
   "source": [
    "### Apple’s macOS and Apple’s iOS for iPhone® and iPad® Devices\n",
    "* Apple, founded in 1976 by Steve Jobs and Steve Wozniak, quickly became a leader in personal computing\n",
    "* In 1979, Jobs and several Apple employees visited Xerox PARC (Palo Alto Research Center) to learn about Xerox’s desktop computer that featured a graphical user interface (GUI)\n",
    "* That GUI served as the inspiration for the Apple Macintosh, launched in 1984. "
   ]
  },
  {
   "cell_type": "markdown",
   "metadata": {},
   "source": [
    "### Apple’s macOS and Apple’s iOS for iPhone® and iPad® Devices (cont.)\n",
    "* Objective-C programming language, created by Stepstone, added capabilities for object-oriented programming (OOP) to the C programming language\n",
    "* In 1988, NeXT licensed Objective-C from Stepstone and developed an Objective-C compiler and libraries \n",
    "    * Used as the platform for the NeXTSTEP operating system’s user interface, and Interface Builder—used to construct graphical user interfaces\n",
    "* Apple’s macOS operating system is a descendant of NeXTSTEP\n",
    "* Apple’s proprietary operating system, iOS, is derived from macOS and is used in the iPhone, iPad, Apple Watch and Apple TV devices\n",
    "* In 2014, Apple introduced the Swift programming language\n",
    "    * Became open source in 2015\n",
    "    * The iOS app-development community has largely shifted from Objective-C to Swift"
   ]
  },
  {
   "cell_type": "markdown",
   "metadata": {},
   "source": [
    "### Google’s Android \n",
    "* Android—the fastest growing mobile and smartphone operating system—is based on the Linux kernel and the Java programming language\n",
    "* Android is open source and free. \n",
    "* According to idc.com, as of 2018, Android had 86.8% of the global smartphone market share, compared to 13.2% for Apple\n",
    "* Android is used in numerous smartphones, e-reader devices, tablets, in-store touch-screen kiosks, cars, robots, multimedia players and more"
   ]
  },
  {
   "cell_type": "markdown",
   "metadata": {},
   "source": [
    "### Billions of Devices\n",
    "* In use today are billions of personal computers and an even larger number of mobile devices\n",
    "* Explosive growth of mobile phones, tablets and other devices is creating significant opportunities for programming mobile apps\n",
    "* There are now various tools that enable you to use Python for Android and iOS app development, including BeeWare, Kivy, PyMob, Pythonista and others\n",
    "* Many are cross-platform, meaning that you can use them to develop apps that will run portably on Android, iOS and other platforms (like the web)"
   ]
  },
  {
   "cell_type": "markdown",
   "metadata": {},
   "source": [
    "# 1.7 Python\n",
    "* Python is an object-oriented scripting language\n",
    "* Released publicly in 1991\n",
    "* Developed by Guido van Rossum of the National Research Institute for Mathematics and Computer Science in Amsterdam.\n",
    "* Has rapidly become one of the world’s most popular programming languages\n",
    "* Particularly popular for educational and scientific computing\n",
    "* Recently surpassed the programming language R as the most popular data-science programming language"
   ]
  },
  {
   "cell_type": "markdown",
   "metadata": {},
   "source": [
    "# 1.7 Python (cont.)\n",
    "* Some reasons why Python is popular:\n",
    "    * Open source, free and widely available with a massive open-source community\n",
    "    * Easier to learn than many other languages, enabling novices and professional developers to get up to speed quickly\n",
    "    * Easier to read than many other popular programming languages\n",
    "    * Widely used in education.\n",
    "    * Enhances developer productivity with extensive standard libraries and third-party open-source libraries\n",
    "        * Programmers can write code faster and perform complex tasks with minimal code\n",
    "    * Massive numbers of free open-source Python applications\n",
    "    * Popular in web development (e.g., Django, Flask)\n",
    "    * Supports popular procedural, functional-style and object-oriented programming\n",
    "    * Build anything from simple scripts to complex apps with massive numbers of users, such as Dropbox, YouTube, Reddit, Instagram and Quora\n",
    "    * Popular in artificial intelligence, which is enjoying explosive growth, in part because of its special relationship with data science\n",
    "    * Widely used in the financial community\n",
    "    * Extensive job market for Python programmers across many disciplines, especially in data-science-oriented positions, and Python jobs are among the highest paid of all programming jobs"
   ]
  },
  {
   "cell_type": "markdown",
   "metadata": {},
   "source": [
    "### Anaconda Python Distribution\n",
    "* Easy to install on Windows, macOS and Linux and supports the latest versions of Python, the IPython interpreter and Jupyter Notebooks \n",
    "* Also includes other software packages and libraries commonly used in Python programming and data science\n",
    "* IPython interpreter "
   ]
  },
  {
   "cell_type": "markdown",
   "metadata": {},
   "source": [
    "### Zen of Python\n",
    "* Tim Peters’ _The Zen of Python_ summarizes Python creator Guido van Rossum’s design principles for the language\n",
    "* List can be viewed in IPython with the command `import this`\n",
    "* The Zen of Python is defined in Python Enhancement Proposal (PEP) 20\n",
    "    * “A PEP is a design document providing information to the Python community, or describing a new feature for Python or its processes or environment”"
   ]
  },
  {
   "cell_type": "markdown",
   "metadata": {},
   "source": [
    "# 1.8 It’s the Libraries!\n",
    "* Existing libraries to help you avoid “reinventing the wheel” \n",
    "* Leverage your program-development efforts\n",
    "* Perform significant tasks with modest amounts of code"
   ]
  },
  {
   "cell_type": "markdown",
   "metadata": {},
   "source": [
    "## 1.8.1 Python Standard Library\n",
    "* The **Python Standard Library** provides rich capabilities for \n",
    "    * text/binary data processing, mathematics\n",
    "    * functional-style programming\n",
    "    * file/directory access\n",
    "    * data persistence\n",
    "    * data compression/archiving\n",
    "    * cryptography\n",
    "    * operating-system services\n",
    "    * concurrent programming\n",
    "    * interprocess communication\n",
    "    * networking protocols\n",
    "    * JSON/XML/other Internet data formats\n",
    "    * multimedia\n",
    "    * internationalization\n",
    "    * GUI\n",
    "    * debugging\n",
    "    * profiling\n",
    "    * and more"
   ]
  },
  {
   "cell_type": "markdown",
   "metadata": {},
   "source": [
    "| Some of the Python Standard Library modules we use in the book \n",
    "| :--------------------:\n",
    "| `collections`—Additional data structures beyond lists, tuples, dictionaries and sets.\n",
    "| `csv`—Processing comma-separated value files.\n",
    "| `datetime`, `time`—Date and time manipulations. \n",
    "| `decimal`—Fixed-point and floating-point arithmetic, including monetary calculations.\n",
    "| `doctest`—Simple unit testing via validation tests and expected results embedded in docstrings. \n",
    "| `json`—JavaScript Object Notation (JSON) processing for use with web services and NoSQL document databases.\n",
    "| `math`—Common math constants and operations.\n",
    "| `os`—Interacting with the operating system.\n",
    "| `queue`—First-in, first-out data structure.\n",
    "| `random`—Pseudorandom numbers.\n",
    "| `re`—Regular expressions for pattern matching.\n",
    "| `sqlite3`—SQLite relational database access.\n",
    "| `statistics`—Mathematical statistics functions like `mean`, `median`, `mode` and `variance`.\n",
    "| `string`—String processing.\n",
    "| `sys`—Command-line argument processing; standard input, standard output and standard error streams.\n",
    "| `timeit`—Performance analysis."
   ]
  },
  {
   "cell_type": "markdown",
   "metadata": {},
   "source": [
    "## 1.8.2 Data-Science Libraries\n",
    "* Enormous and rapidly growing community of open-source developers in many fields\n",
    "* One of the biggest reasons for Python’s popularity is the extraordinary range of open-source libraries developed by its open-source community\n",
    "* The following table lists various popular data-science libraries\n",
    "    * You’ll use many of these as you work through our data-science examples\n",
    "    * For visualization, we’ll use Matplotlib, Seaborn and Folium, but there are many more\n",
    "        * [A nice summary of Python visualization libraries](http://pyviz.org/)"
   ]
  },
  {
   "cell_type": "markdown",
   "metadata": {},
   "source": [
    "| Popular Python libraries used in data science\n",
    "| ----------------------\n",
    "| **_Scientific Computing and Statistics_**\n",
    "| **_NumPy_** (Numerical Python)—Python does not have a built-in array data structure. It uses lists, which are convenient but relatively slow. NumPy provides the high-performance `ndarray` data structure to represent lists and matrices, and it also provides routines for processing such data structures. \n",
    "| **_SciPy_** (Scientific Python)—Built on NumPy, SciPy adds routines for scientific processing, such as integrals, differential equations, additional matrix processing and more. `scipy.org` controls SciPy and NumPy. \n",
    "| **_StatsModels_**—Provides support for estimations of statistical models, statistical tests and statistical data exploration.\n",
    "| **_Data Manipulation and Analysis_**\n",
    "| **_Pandas_**—An extremely popular library for data manipulations. Pandas makes abundant use of NumPy’s `ndarray`. Its two key data structures are `Series` (one dimensional) and `DataFrames` (two dimensional). \n",
    "| **_Visualization_**\n",
    "| **_Matplotlib_**—A highly customizable visualization and plotting library. Supported plots include regular, scatter, bar, contour, pie, quiver, grid, polar axis, 3D and text.\n",
    "| **_Seaborn_**—A higher-level visualization library built on Matplotlib. Seaborn adds a nicer look-and-feel, additional visualizations and enables you to create visualizations with less code. \n",
    "| **_Machine Learning, Deep Learning and Reinforcement Learning_**\n",
    "| **_scikit-learn_**—Top machine-learning library. Machine learning is a subset of AI. Deep learning is a subset of machine learning that focuses on neural networks. \n",
    "| **_Keras_**—One of the easiest to use deep-learning libraries. Keras runs on top of TensorFlow (Google), CNTK (Microsoft’s cognitive toolkit for deep learning) or Theano (Université de Montréal).\n",
    "| **_TensorFlow_**—From Google, this is the most widely used deep learning library. TensorFlow works with GPUs (graphics processing units) or Google’s custom TPUs (Tensor processing units) for performance. TensorFlow is important in AI and big data analytics—where processing demands are huge. You’ll use the version of Keras that’s built into TensorFlow.\n",
    "| **_OpenAI Gym_**—A library and environment for developing, testing and comparing reinforcement-learning algorithms. \n",
    "| **_Natural Language Processing (NLP)_**\n",
    "| **_NLTK_** (Natural Language Toolkit)—Used for natural language processing (NLP) tasks.\n",
    "| **_TextBlob_**—An object-oriented NLP text-processing library built on the NLTK and pattern NLP libraries. TextBlob simplifies many NLP tasks.\n",
    "| **_Gensim_**—Similar to NLTK. Commonly used to build an index for a collection of documents, then determine how similar another document is to each of those in the index. "
   ]
  },
  {
   "cell_type": "markdown",
   "metadata": {},
   "source": [
    "# 1.9 Other Popular Programming Languages \n",
    "* **Basic** \n",
    "    * Developed in the 1960s at Dartmouth College to familiarize novices with programming techniques\n",
    "    * Many of its latest versions are object-oriented\n",
    "* **C** \n",
    "    * Developed in the early 1970s by Dennis Ritchie at Bell Laboratories\n",
    "    * Initially known as the UNIX operating system’s development language\n",
    "    * General-purpose operating systems and other performance-critical systems often are written in C or C++\n",
    "* **C++**\n",
    "    * Based on C\n",
    "    * Developed by Bjarne Stroustrup in the early 1980s at Bell Laboratories\n",
    "    * Enhances C and adds capabilities for object-oriented programming"
   ]
  },
  {
   "cell_type": "markdown",
   "metadata": {},
   "source": [
    "# 1.9   \tOther Popular Programming Languages  (cont.)\n",
    "* **Java**\n",
    "    * Sun Microsystems in 1991 funded an internal corporate research project led by James Gosling, which resulted in the C++-based object-oriented programming language called Java\n",
    "    * “write once, run anywhere” &mdash;Enable developers to write programs that will run on a great variety of computer systems\n",
    "    * Used in enterprise applications, to enhance the functionality of web servers, to provide applications for consumer devices (e.g., smartphones, tablets, television set-top boxes, appliances, automobiles and more) and for many other purposes\n",
    "    * Originally the key language for developing Android smartphone and tablet apps, though several other languages are now supported"
   ]
  },
  {
   "cell_type": "markdown",
   "metadata": {},
   "source": [
    "# 1.9   \tOther Popular Programming Languages (cont.)\n",
    "* **C#** \n",
    "    * Based on C++ and Java\n",
    "    * One of Microsoft’s three primary object-oriented programming languages—others are Visual C++ and Visual Basic\n",
    "    * Developed to integrate the web into computer applications and is now widely used to develop many types of applications\n",
    "    * Microsoft now offers open-source versions of C# and Visual Basic\n",
    "* **JavaScript** \n",
    "    * Most widely used scripting language\n",
    "    * Primarily used to add programmability to web pages\n",
    "    * All major web browsers support it\n",
    "    * Many Python visualization libraries output JavaScript as part of visualizations that you can interact with in your web browser\n",
    "    * Tools like NodeJS also enable JavaScript to run outside of web browsers"
   ]
  },
  {
   "cell_type": "markdown",
   "metadata": {},
   "source": [
    "# 1.9   \tOther Popular Programming Languages (cont.) \n",
    "* **Swift**,\n",
    "    * Introduced in 2014\n",
    "    * Apple’s programming language for developing iOS and macOS apps\n",
    "    * A contemporary language that includes popular features from languages such as Objective-C, Java, C#, Ruby, Python and others\n",
    "    * Open source, so it can be used on non-Apple platforms as well\n",
    "* **R** \n",
    "    * A popular open-source programming language for statistical applications and visualization\n",
    "    * Python and R are the two most widely used data-science languages"
   ]
  },
  {
   "cell_type": "markdown",
   "metadata": {},
   "source": [
    "------\n",
    "&copy;1992&ndash;2020 by Pearson Education, Inc. All Rights Reserved. This content is based on Chapter 1 of the book [**Intro to Python for Computer Science and Data Science: Learning to Program with AI, Big Data and the Cloud**](https://amzn.to/2VvdnxE).\n",
    "\n",
    "DISCLAIMER: The authors and publisher of this book have used their \n",
    "best efforts in preparing the book. These efforts include the \n",
    "development, research, and testing of the theories and programs \n",
    "to determine their effectiveness. The authors and publisher make \n",
    "no warranty of any kind, expressed or implied, with regard to these \n",
    "programs or to the documentation contained in these books. The authors \n",
    "and publisher shall not be liable in any event for incidental or \n",
    "consequential damages in connection with, or arising out of, the \n",
    "furnishing, performance, or use of these programs.                  "
   ]
  }
 ],
 "metadata": {
  "kernelspec": {
   "display_name": "Python 3",
   "language": "python",
   "name": "python3"
  },
  "language_info": {
   "codemirror_mode": {
    "name": "ipython",
    "version": 3
   },
   "file_extension": ".py",
   "mimetype": "text/x-python",
   "name": "python",
   "nbconvert_exporter": "python",
   "pygments_lexer": "ipython3",
   "version": "3.6.9"
  },
  "latex_envs": {
   "LaTeX_envs_menu_present": true,
   "autoclose": false,
   "autocomplete": true,
   "bibliofile": "biblio.bib",
   "cite_by": "apalike",
   "current_citInitial": 1,
   "eqLabelWithNumbers": true,
   "eqNumInitial": 1,
   "hotkeys": {
    "equation": "Ctrl-E",
    "itemize": "Ctrl-I"
   },
   "labels_anchors": false,
   "latex_user_defs": false,
   "report_style_numbering": false,
   "user_envs_cfg": false
  },
  "toc": {
   "base_numbering": 1,
   "nav_menu": {},
   "number_sections": false,
   "sideBar": true,
   "skip_h1_title": false,
   "title_cell": "Table of Contents",
   "title_sidebar": "Contents",
   "toc_cell": false,
   "toc_position": {},
   "toc_section_display": true,
   "toc_window_display": true
  }
 },
 "nbformat": 4,
 "nbformat_minor": 2
}
