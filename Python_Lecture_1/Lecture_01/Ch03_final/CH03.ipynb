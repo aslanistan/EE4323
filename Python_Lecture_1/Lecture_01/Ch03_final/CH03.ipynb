{
 "cells": [
  {
   "cell_type": "markdown",
   "metadata": {
    "slideshow": {
     "slide_type": "slide"
    }
   },
   "source": [
    "# 3. Control Statements and Program Development"
   ]
  },
  {
   "cell_type": "markdown",
   "metadata": {
    "slideshow": {
     "slide_type": "slide"
    }
   },
   "source": [
    "### Objectives \n",
    "* Decide whether to execute actions with the statements `if`, `if`…`else` and if…elif…else.\n",
    "* Execute statements repeatedly with `while` and `for`.\n",
    "* Shorten assignment expressions with augmented assignments.\n",
    "* Use the `for` statement and the built-in `range` function to repeat actions for a sequence of values.\n",
    "* Perform sentinel-controlled iteration with `while`."
   ]
  },
  {
   "cell_type": "markdown",
   "metadata": {
    "slideshow": {
     "slide_type": "slide"
    }
   },
   "source": [
    "### Objectives (cont.)\n",
    "* Learn problem-solving skills: understanding problem requirements, dividing problems into smaller pieces, developing algorithms to solve problems and implementing those algorithms in code. \n",
    "* Develop algorithms through the process of top-down, stepwise refinement. \n",
    "* Create compound conditions with the Boolean operators `and`, `or` and `not`."
   ]
  },
  {
   "cell_type": "markdown",
   "metadata": {
    "slideshow": {
     "slide_type": "slide"
    }
   },
   "source": [
    "### Objectives (cont.)\n",
    "* Stop looping with `break`.\n",
    "* Force the next iteration of a loop with `continue`.\n",
    "* Use some functional-style programming features to write scripts that are more concise, clearer, easier to debug and easier to parallelize."
   ]
  },
  {
   "cell_type": "markdown",
   "metadata": {
    "slideshow": {
     "slide_type": "slide"
    }
   },
   "source": [
    "# 3.2 Algorithms"
   ]
  },
  {
   "cell_type": "markdown",
   "metadata": {
    "slideshow": {
     "slide_type": "slide"
    }
   },
   "source": [
    "* Any computing problem can be solved by executing a series of actions in a specific order. \n",
    "* An algorithm is a procedure for solving a problem in terms of\n",
    "    * the actions to execute and\n",
    "    * the order in which these actions execute\n",
    "* Specifying the order in which statements (actions) execute in a program is called program control. \n"
   ]
  },
  {
   "cell_type": "markdown",
   "metadata": {
    "slideshow": {
     "slide_type": "slide"
    }
   },
   "source": [
    "# 3.3 Pseudocode"
   ]
  },
  {
   "cell_type": "markdown",
   "metadata": {
    "slideshow": {
     "slide_type": "slide"
    }
   },
   "source": [
    "* An informal language that helps you develop algorithms without having to worry about the strict details of Python syntax. \n",
    "* Similar to everyday English.\n",
    "* Helps you “think out” a program before attempting to write it in a programming language. \n",
    "* Carefully prepared pseudocode can easily be converted to a corresponding program. \n",
    "* Pseudocode normally describes only statements representing the actions that occur (e.g., input, output or calculations) after you convert a program from pseudocode to Python and run the program. \n"
   ]
  },
  {
   "cell_type": "markdown",
   "metadata": {
    "slideshow": {
     "slide_type": "slide"
    }
   },
   "source": [
    "# 3.4 Control Statements"
   ]
  },
  {
   "cell_type": "markdown",
   "metadata": {
    "slideshow": {
     "slide_type": "slide"
    }
   },
   "source": [
    "* Usually, statements in a program execute in the order in which they’re written. \n",
    "    * Called sequential execution. \n",
    "* Various Python statements enable you to specify that the next statement to execute may be other than the next one in sequence. \n",
    "    * Called transfer of control and is achieved with Python control statements. "
   ]
  },
  {
   "cell_type": "markdown",
   "metadata": {
    "slideshow": {
     "slide_type": "slide"
    }
   },
   "source": [
    "### Forms of Control\n",
    "* All programs can be written using three forms of control\n",
    "    * Sequential execution\n",
    "    * The selection statement \n",
    "    * The iteration statement. \n",
    "* Python statements execute one after the other “in sequence,” unless directed otherwise. "
   ]
  },
  {
   "cell_type": "markdown",
   "metadata": {},
   "source": [
    "### Flowcharts (1 of 3)\n",
    "* Graphical representation of an algorithm or a part of one. \n",
    "* Drawn using rectangles, diamonds, rounded rectangles and small circles connected by arrows called flowlines. \n",
    "* Clearly show how forms of control operate. "
   ]
  },
  {
   "cell_type": "markdown",
   "metadata": {},
   "source": [
    "### Flowcharts (2 of 3)\n",
    "* Flowchart segment showing sequential execution: \n",
    "![Flowchart segment showing sequential execution of two statements](./ch03images/AAHBDOB0.png \"Flowchart segment showing sequential execution of two statements\")"
   ]
  },
  {
   "cell_type": "markdown",
   "metadata": {},
   "source": [
    "### Flowcharts (3 of 3)\n",
    "* Rectangle (or action) symbol indicates any action\n",
    "* Flowlines show the order in which the actions execute. \n",
    "* In a flowchart for a complete algorithm, the first symbol is a rounded rectangle containing the word “Begin.” The last symbol is a rounded rectangle containing the word “End.” \n",
    "* In a flowchart for only a part of an algorithm, use small circles called connector symbols."
   ]
  },
  {
   "cell_type": "markdown",
   "metadata": {},
   "source": [
    "### Selection Statements\n",
    "* Three selection statements that execute code based on a condition—an expression that evaluates to either `True` or `False`: \n",
    "    * `if` performs an action if a condition is `True` or skips the action if the condition is `False`. \n",
    "    * `if`…`else` statement performs an action if a condition is `True` or performs a different action if the condition is `False`. \n",
    "    * `if`…`elif`…`else` statement performs one of many different actions, depending on the truth or falsity of several conditions. \n",
    "* Anywhere a single action can be placed, a group of actions can be placed. "
   ]
  },
  {
   "cell_type": "markdown",
   "metadata": {},
   "source": [
    "### Iteration Statements\n",
    "* Two iteration statements\n",
    "    * `while`  repeats an action (or a group of actions) as long as a condition remains True. \n",
    "    * `for` statement repeats an action (or a group of actions) for every item in a sequence of items. "
   ]
  },
  {
   "cell_type": "markdown",
   "metadata": {},
   "source": [
    "### Keywords\n",
    "* Notice that a few (shown in **bold**) start with an uppercase letter.\n",
    "\n",
    "| &nbsp; | &nbsp; | &nbsp; | &nbsp; | &nbsp; |\n",
    "| :------ | :------ | :------ | :------ | :------ | \n",
    "| `and` | `as` | `assert` | `async` | `await` |\n",
    "| `break` | `class` | `continue` | `def` | `del` |\n",
    "| `elif` | `else` | `except` | **`False`** | `finally` |\n",
    "| `for` | `from` | `global` | `if` | `import` \n",
    "| `in` | `is` | `lambda` | **`None`** | `nonlocal` |\n",
    "| `not` | `or` | `pass`| `raise` | `return` |\n",
    "| **`True`** | `try` | `while` | `with` | `yield` |"
   ]
  },
  {
   "cell_type": "markdown",
   "metadata": {},
   "source": [
    "### Control Statements Summary\n",
    "* You form each Python program by combining as many control statements of each type as you need for the algorithm the program implements. \n",
    "* With Single-entry/single-exit (one way in/one way out) control statements, the exit point of one connects to the entry point of the next. \n",
    "    * Similar to the way a child stacks building blocks—hence, the term control-statement stacking. "
   ]
  },
  {
   "cell_type": "markdown",
   "metadata": {},
   "source": [
    "# 3.5 `if` Statement\n",
    "* Pseudocode: Suppose that a passing grade on an examination is 60. The pseudocode\n",
    "\n",
    "> If student’s grade is greater than or equal to 60  \n",
    "> &nbsp;&nbsp;&nbsp;&nbsp;&nbsp;&nbsp;Display 'Passed'\n",
    "\n",
    "* If the condition is true, 'Passed' is displayed. Then, the next pseudocode statement in order is “performed.”\n",
    "* If the condition is false, nothing is displayed, and the next pseudocode statement is “performed.” \n",
    "* Indentation emphasizes that 'Passed' is displayed only if the condition is true. "
   ]
  },
  {
   "cell_type": "markdown",
   "metadata": {},
   "source": [
    "**Corresponding `if` Statement**"
   ]
  },
  {
   "cell_type": "code",
   "execution_count": null,
   "metadata": {},
   "outputs": [],
   "source": [
    "grade = 85"
   ]
  },
  {
   "cell_type": "code",
   "execution_count": null,
   "metadata": {},
   "outputs": [],
   "source": [
    "if grade >= 60:\n",
    "    print('Passed')"
   ]
  },
  {
   "cell_type": "markdown",
   "metadata": {},
   "source": [
    "### Suite Indentation\n",
    "* Indenting a suite is required."
   ]
  },
  {
   "cell_type": "code",
   "execution_count": null,
   "metadata": {},
   "outputs": [],
   "source": [
    "if grade >= 60:\n",
    "print('Passed')  # statement is not indented properly"
   ]
  },
  {
   "cell_type": "markdown",
   "metadata": {},
   "source": [
    "* Statements in a suite must have the same indentation."
   ]
  },
  {
   "cell_type": "code",
   "execution_count": null,
   "metadata": {},
   "outputs": [],
   "source": [
    "if grade >= 60:\n",
    "    print('Passed')\n",
    "  print('Good job!)"
   ]
  },
  {
   "cell_type": "markdown",
   "metadata": {},
   "source": [
    "### `if` Statement Flowchart\n",
    "![Flowchart segment showing an if statement](./ch03images/AAHBDOC0.png \"Flowchart segment showing an if statement\")\n",
    "\n",
    "* The decision (diamond) symbol contains a condition that can be either `True` or `False`. \n",
    "* Two flowlines emerging from it: \n",
    "    * One indicates the direction to follow when the condition in the symbol is `True`. \n",
    "    * The other indicates the direction to follow when the condition is `False`. "
   ]
  },
  {
   "cell_type": "markdown",
   "metadata": {},
   "source": [
    "### Every Expression Can Be Treated as `True` or `False`"
   ]
  },
  {
   "cell_type": "code",
   "execution_count": null,
   "metadata": {},
   "outputs": [],
   "source": [
    "if 1:\n",
    "    print('Nonzero values are true, so this will print')"
   ]
  },
  {
   "cell_type": "code",
   "execution_count": null,
   "metadata": {},
   "outputs": [],
   "source": [
    "if 0:\n",
    "    print('Zero is false, so this will not print')"
   ]
  },
  {
   "cell_type": "markdown",
   "metadata": {},
   "source": [
    "### An Additional Note on Confusing `==` and `=` \n",
    "* Using `==` instead of `=` in an assignment statement can lead to subtle problems. \n",
    "* Writing `grade == 85` when we intend to define a variable with `grade = 85` would cause a `NameError`.\n",
    "* Logic error: If `grade` had been defined **before** the preceding statement, then `grade == 85` would evaluate to `True` or `False`, depending on `grade`’s value, and not perform the intended assignment. "
   ]
  },
  {
   "cell_type": "markdown",
   "metadata": {},
   "source": [
    "# 3.6 `if`…`else` and `if`…`elif`…`else` Statements\n",
    "* Performs different suites, based on whether a condition is `True` or `False`.\n",
    "* Pseudocode:\n",
    "\n",
    "> _If student’s grade is greater than or equal to 60  \n",
    "> &nbsp;&nbsp;&nbsp;&nbsp;&nbsp;&nbsp;Display 'Passed'  \n",
    "> Else  \n",
    "> &nbsp;&nbsp;&nbsp;&nbsp;&nbsp;&nbsp;Display 'Failed'_\n",
    "\n",
    "* Correspondong Python code with variable `grade` initalized to `85`"
   ]
  },
  {
   "cell_type": "code",
   "execution_count": null,
   "metadata": {},
   "outputs": [],
   "source": [
    "grade = 85"
   ]
  },
  {
   "cell_type": "code",
   "execution_count": null,
   "metadata": {},
   "outputs": [],
   "source": [
    "if grade >= 60: \n",
    "    print('Passed')\n",
    "else:\n",
    "    print('Failed')"
   ]
  },
  {
   "cell_type": "markdown",
   "metadata": {},
   "source": [
    "* Assign `57` to `grade`, then shows the `if`…`else` statement again to demonstrate that only the `else` suite executes"
   ]
  },
  {
   "cell_type": "code",
   "execution_count": null,
   "metadata": {},
   "outputs": [],
   "source": [
    "grade = 57"
   ]
  },
  {
   "cell_type": "code",
   "execution_count": null,
   "metadata": {},
   "outputs": [],
   "source": [
    "if grade >= 60: \n",
    "    print('Passed')\n",
    "else:\n",
    "    print('Failed')"
   ]
  },
  {
   "cell_type": "markdown",
   "metadata": {},
   "source": [
    "**In IPython**:\n",
    "* The up and down arrow keys navigate backwards and forwards through the current interactive session’s snippets. \n",
    "* Pressing _Enter_ re-executes the snippet that’s displayed. \n",
    "* In JupyterLab, you can select a cell in its left margin, press _C_ to copy it and _V_ to paste it below the currently selected cell."
   ]
  },
  {
   "cell_type": "code",
   "execution_count": null,
   "metadata": {},
   "outputs": [],
   "source": [
    "grade = 99"
   ]
  },
  {
   "cell_type": "code",
   "execution_count": null,
   "metadata": {},
   "outputs": [],
   "source": [
    "if grade >= 60: \n",
    "    print('Passed')\n",
    "else:\n",
    "    print('Failed')"
   ]
  },
  {
   "cell_type": "markdown",
   "metadata": {},
   "source": [
    "### `if`…`else` Statement Flowchart\n",
    "![Flowchart of the if…else statement’s flow of control.](./ch03images/AAHBDOD0.png \"Flowchart of the if…else statement’s flow of control\")"
   ]
  },
  {
   "cell_type": "markdown",
   "metadata": {},
   "source": [
    "### Conditional Expressions\n",
    "* Sometimes the suites in an `if`…`else` statement assign different values to a variable, based on a condition"
   ]
  },
  {
   "cell_type": "code",
   "execution_count": null,
   "metadata": {},
   "outputs": [],
   "source": [
    "grade = 87"
   ]
  },
  {
   "cell_type": "code",
   "execution_count": null,
   "metadata": {},
   "outputs": [],
   "source": [
    "if grade >= 60:\n",
    "    result = 'Passed'\n",
    "else:\n",
    "    result = 'Failed'"
   ]
  },
  {
   "cell_type": "code",
   "execution_count": null,
   "metadata": {},
   "outputs": [],
   "source": [
    "result"
   ]
  },
  {
   "cell_type": "markdown",
   "metadata": {},
   "source": [
    "* Can write statements like this using a concise conditional expression.\n",
    "* The parentheses are not required, but they make it clear that the statement assigns the conditional expression’s value to `result`."
   ]
  },
  {
   "cell_type": "code",
   "execution_count": null,
   "metadata": {},
   "outputs": [],
   "source": [
    "result = ('Passed' if grade >= 60 else 'Failed')"
   ]
  },
  {
   "cell_type": "code",
   "execution_count": null,
   "metadata": {},
   "outputs": [],
   "source": [
    "result"
   ]
  },
  {
   "cell_type": "markdown",
   "metadata": {},
   "source": [
    "* In interactive mode, you also can evaluate the conditional expression directly."
   ]
  },
  {
   "cell_type": "code",
   "execution_count": null,
   "metadata": {},
   "outputs": [],
   "source": [
    "'Passed' if grade >= 60 else 'Failed'"
   ]
  },
  {
   "cell_type": "markdown",
   "metadata": {},
   "source": [
    "### Multiple Statements in a Suite"
   ]
  },
  {
   "cell_type": "code",
   "execution_count": null,
   "metadata": {},
   "outputs": [],
   "source": [
    "grade = 49"
   ]
  },
  {
   "cell_type": "code",
   "execution_count": null,
   "metadata": {},
   "outputs": [],
   "source": [
    "if grade >= 60:\n",
    "    print('Passed')\n",
    "else:\n",
    "    print('Failed')\n",
    "    print('You must take this course again')"
   ]
  },
  {
   "cell_type": "markdown",
   "metadata": {},
   "source": [
    "* If you do not indent the second `print`, then it’s not in the `else`’s suite. \n",
    "* In that case the statement always executes, creating strange incorrect output."
   ]
  },
  {
   "cell_type": "code",
   "execution_count": null,
   "metadata": {},
   "outputs": [],
   "source": [
    "grade = 100"
   ]
  },
  {
   "cell_type": "code",
   "execution_count": null,
   "metadata": {},
   "outputs": [],
   "source": [
    "if grade >= 60:\n",
    "    print('Passed')\n",
    "else:\n",
    "    print('Failed')\n",
    "print('You must take this course again')"
   ]
  },
  {
   "cell_type": "markdown",
   "metadata": {},
   "source": [
    "### `if`…`elif`…`else` Statement\n",
    "* Can test for many cases.\n",
    "* Only the action for the first `True` condition executes."
   ]
  },
  {
   "cell_type": "code",
   "execution_count": null,
   "metadata": {},
   "outputs": [],
   "source": [
    "grade = 77"
   ]
  },
  {
   "cell_type": "code",
   "execution_count": null,
   "metadata": {},
   "outputs": [],
   "source": [
    "if grade >= 90:\n",
    "    print('A')\n",
    "elif grade >= 80:\n",
    "    print('B')\n",
    "elif grade >= 70:\n",
    "    print('C')\n",
    "elif grade >= 60:\n",
    "    print('D')\n",
    "else:\n",
    "    print('F')"
   ]
  },
  {
   "cell_type": "markdown",
   "metadata": {},
   "source": [
    "### `if`…`elif`…`else` Statement Flowchart\n",
    "![Flowchart of the if…`elif`…else statement’s flow of control.](./ch03images/AAHBDOH0.png \"Flowchart of the if…`elif`…else statement’s flow of control\")"
   ]
  },
  {
   "cell_type": "markdown",
   "metadata": {},
   "source": [
    "### `else` Is Optional\n",
    "* Handle values that do not satisfy any of the conditions. \n",
    "* Without an `else`, if no conditions are `True`, the program does not execute any of the statement’s suites. "
   ]
  },
  {
   "cell_type": "markdown",
   "metadata": {},
   "source": [
    "### Logic Errors\n",
    "* For a nonfatal logic error, code executes, but produces incorrect results. \n",
    "* For a fatal logic error in a script, an exception occurs, Python displays a traceback, then the script terminates. \n",
    "* A fatal error in interactive mode terminates the current snippet, then IPython waits for your next input."
   ]
  },
  {
   "cell_type": "markdown",
   "metadata": {},
   "source": [
    "# 3.7 `while` Statement\n",
    "* Repeats one or more actions while a condition remains `True`. "
   ]
  },
  {
   "cell_type": "code",
   "execution_count": null,
   "metadata": {},
   "outputs": [],
   "source": [
    "product = 3"
   ]
  },
  {
   "cell_type": "code",
   "execution_count": null,
   "metadata": {},
   "outputs": [],
   "source": [
    "while product <= 50:\n",
    "    product = product * 3    "
   ]
  },
  {
   "cell_type": "code",
   "execution_count": null,
   "metadata": {},
   "outputs": [],
   "source": [
    "product"
   ]
  },
  {
   "cell_type": "markdown",
   "metadata": {},
   "source": [
    "* To prevent an infinite loop, something in the `while` suite must change `product`’s value, so the condition eventually becomes `False`. "
   ]
  },
  {
   "cell_type": "markdown",
   "metadata": {},
   "source": [
    "### `while` Statement Flowchart\n",
    "![Flowchart of the while statement’s flow of control.](./ch03images/AAHBDOG0.png \"Flowchart of the while statement’s flow of control\")"
   ]
  },
  {
   "cell_type": "markdown",
   "metadata": {},
   "source": [
    "# 3.8 `for` Statement\n",
    "* Repeat an action or several actions for each item in a sequence of items.\n",
    "* A string is a sequence of individual characters."
   ]
  },
  {
   "cell_type": "code",
   "execution_count": null,
   "metadata": {},
   "outputs": [],
   "source": [
    "for character in 'Programming':\n",
    "    print(character, end='  ')"
   ]
  },
  {
   "cell_type": "markdown",
   "metadata": {},
   "source": [
    "* Upon entering the `for` loop, Python assigns the 'P' in 'Programming' to the **target variable** between keywords `for` and `in`.\n",
    "* After executing the suite, Python assigns to character the next item in the sequence (that is, the '`r`' in '`Programming`'), then executes the suite again. \n",
    "* Continues while there are more items in the sequence.\n",
    "* Using the target variable in the suite is common but not required. "
   ]
  },
  {
   "cell_type": "markdown",
   "metadata": {},
   "source": [
    "### `for` Statement Flowchart\n",
    "![Flowchart of the for statement’s flow of control.](./ch03images/AAHBDOF0.png \"Flowchart of the for statement’s flow of control\")"
   ]
  },
  {
   "cell_type": "markdown",
   "metadata": {},
   "source": [
    "### Function `print`’s `end` Keyword Argument \n",
    "* `print` displays its argument(s), then moves the cursor to the next line. \n",
    "* Can change this behavior with the argument `end`:\n",
    ">```python\n",
    "print(character, end='  ') \n",
    "```\n",
    "* `end` is a **keyword argument**, but it's not a Python keyword. \n",
    "* The _Style Guide for Python Code_ recommends placing no spaces around a keyword argument’s =. \n",
    "* Keyword arguments are sometimes called named arguments."
   ]
  },
  {
   "cell_type": "markdown",
   "metadata": {},
   "source": [
    "### Function `print`’s `sep` Keyword Argument \n",
    "* Keyword argument `sep` (short for separator) specifies the string that appears between the items that print displays. \n",
    "* A space character by default. \n",
    "* To remove the spaces, use an empty string with no characters between its quotes."
   ]
  },
  {
   "cell_type": "code",
   "execution_count": null,
   "metadata": {},
   "outputs": [],
   "source": [
    "print(10, 20, 30, sep=', ')"
   ]
  },
  {
   "cell_type": "markdown",
   "metadata": {},
   "source": [
    "## 3.8.1 Iterables, Lists and Iterators\n",
    "* The sequence to the right of the `for` statement’s in keyword must be an iterable. \n",
    "    * An object from which the `for` statement can take one item at a time. \n",
    "* One of the most common iterables is a list, which is a comma-separated collection of items enclosed in square brackets (`[` and `]`). "
   ]
  },
  {
   "cell_type": "code",
   "execution_count": null,
   "metadata": {},
   "outputs": [],
   "source": [
    "total = 0"
   ]
  },
  {
   "cell_type": "code",
   "execution_count": null,
   "metadata": {},
   "outputs": [],
   "source": [
    "for number in [2, -3, 0, 17, 9]:\n",
    "    total = total + number"
   ]
  },
  {
   "cell_type": "code",
   "execution_count": null,
   "metadata": {},
   "outputs": [],
   "source": [
    "total"
   ]
  },
  {
   "cell_type": "markdown",
   "metadata": {},
   "source": [
    "* Each sequence has an iterator. \n",
    "* The for statement uses the iterator “behind the scenes” to get each consecutive item until there are no more to process. "
   ]
  },
  {
   "cell_type": "markdown",
   "metadata": {},
   "source": [
    "## 3.8.2 Built-In `range` Function and Generators\n",
    "* Creates an iterable object that represents a sequence of consecutive integer values starting from 0 and continuing up to, but not including, the argument value."
   ]
  },
  {
   "cell_type": "code",
   "execution_count": null,
   "metadata": {},
   "outputs": [],
   "source": [
    "for counter in range(10):\n",
    "    print(counter, end=' ')"
   ]
  },
  {
   "cell_type": "markdown",
   "metadata": {},
   "source": [
    "### Off-By-One Errors\n",
    "A logic error known as an off-by-one error occurs when you assume that `range`’s argument value is included in the generated sequence. \n"
   ]
  },
  {
   "cell_type": "markdown",
   "metadata": {},
   "source": [
    "# 3.9 Augmented Assignments \n",
    "* Abbreviate assignment expressions in which the same variable name appears on the left and right of the `=`."
   ]
  },
  {
   "cell_type": "code",
   "execution_count": null,
   "metadata": {},
   "outputs": [],
   "source": [
    "total = 0"
   ]
  },
  {
   "cell_type": "code",
   "execution_count": null,
   "metadata": {},
   "outputs": [],
   "source": [
    "for number in [1, 2, 3, 4, 5]:\n",
    "    total += number  # add number to total and store in number"
   ]
  },
  {
   "cell_type": "code",
   "execution_count": null,
   "metadata": {},
   "outputs": [],
   "source": [
    "total"
   ]
  },
  {
   "cell_type": "markdown",
   "metadata": {},
   "source": [
    "* In the following table assume: `c = 3`, `d = 5`, `e = 4`, `f = 2`, `g = 9`, `h = 12`\n",
    "\n",
    "| Augmented assignment | Sample expression| Explanation| Assigns\n",
    "| :----- | :----- | :----- | :-----\n",
    "| `+=` | `c += 7` | `c = c + 7` | `10 to c`\n",
    "| `-=` | `d -= 4` | `d = d - 4` | `1 to d`\n",
    "| `*=` | `e *= 5`  | `e = e * 5` | `20 to e`\n",
    "| `**=` | `f **= 3` | `f = f ** 3` | `8 to f`\n",
    "| `/=` | `g /= 2` | `g = g / 2` | `4.5 to g`\n",
    "| `//=` | `g //= 2` | `g = g // 2` | `4 to g`\n",
    "| `%=` | `h %= 9` | `h = h % 9` | `3 to h`"
   ]
  },
  {
   "cell_type": "markdown",
   "metadata": {},
   "source": [
    "# 3.10 Program Development: Sequence-Controlled Iteration\n",
    "* Most challenging part of solving a problem on a computer is developing an algorithm for the solution. \n",
    "* Once a correct algorithm has been specified, creating a working Python program from the algorithm is typically straightforward. "
   ]
  },
  {
   "cell_type": "markdown",
   "metadata": {},
   "source": [
    "## 3.10.1 Requirements Statement\n",
    "* A **requirements statement** describes what a program is supposed to do, but not how the program should do it. \n",
    "* Consider the following simple requirements statement:\n",
    "> A class of ten students took a quiz. Their grades (integers in the range 0 – 100) are 98, 76, 71, 87, 83, 90, 57, 79, 82, 94. Determine the class average on the quiz.\n",
    "* Once you know the problem’s requirements, you can begin creating an algorithm to solve it. Then, you can implement that solution as a program.\n",
    "* The algorithm for solving this problem must: \n",
    "    * Keep a running total of the grades. \n",
    "    * Calculate the average—the total of the grades divided by the number of grades. \n",
    "    * Display the result. "
   ]
  },
  {
   "cell_type": "markdown",
   "metadata": {},
   "source": [
    "## 3.10.2 Pseudocode for the Algorithm\n",
    "_Set total to zero_  \n",
    "_Set grade counter to zero_  \n",
    "_Set grades to a list of the ten grades_  \n",
    "  \n",
    "_For each grade in the grades list:_  \n",
    "> _Add the grade to the total_  \n",
    "> _Add one to the grade counter_  \n",
    "  \n",
    "_Set the class average to the total divided by the number of grades_  \n",
    "_Display the class average_\n",
    "\n",
    "* Note the mentions of **total** and **grade counter**. \n",
    "* We'll use these in the script to calculate the average. \n",
    "* Variables for totaling and counting normally are initialized to zero."
   ]
  },
  {
   "cell_type": "markdown",
   "metadata": {},
   "source": [
    "## 3.10.3 Coding the Algorithm in Python\n",
    "```python\n",
    "# fig03_01.py\n",
    "\"\"\"Class average program with sequence-controlled iteration.\"\"\"\n",
    "\n",
    "# initialization phase\n",
    "total = 0  # sum of grades\n",
    "grade_counter = 0  \n",
    "grades = [98, 76, 71, 87, 83, 90, 57, 79, 82, 94]  # list of 10 grades\n",
    "\n",
    "# processing phase\n",
    "for grade in grades:  \n",
    "    total += grade  # add current grade to the running total\n",
    "    grade_counter += 1  # indicate that one more grade was processed\n",
    "\n",
    "# termination phase\n",
    "average = total / grade_counter\n",
    "print(f'Class average is {average}')\n",
    "```"
   ]
  },
  {
   "cell_type": "code",
   "execution_count": null,
   "metadata": {},
   "outputs": [],
   "source": [
    "run fig03_01.py"
   ]
  },
  {
   "cell_type": "markdown",
   "metadata": {},
   "source": [
    "### Execution Phases\n",
    "* Initialization phase creates the variables needed to process the grades and set these variables to appropriate initial values.\n",
    "* Processing phase processes the grades, calculating the running total and counting the number of grades processed so far.\n",
    "* Termination phase calculates and displays the class average.\n",
    "* Many scripts can be decomposed into these three phases."
   ]
  },
  {
   "cell_type": "markdown",
   "metadata": {},
   "source": [
    "## 3.10.4 Introduction to Formatted Strings\n",
    "* An **f-string** (short for formatted string) allows inserting values into a string.\n",
    "* The letter f before the string’s opening quote indicates it’s an f-string. \n",
    "* You specify where to insert values by using placeholders delimited by curly braces ({ and }). \n",
    "* `{average}` converts the variable average’s value to a string representation, then replaces `{average}` with that *&replacement text**. \n",
    "* Replacement-text expressions may contain values, variables or other expressions."
   ]
  },
  {
   "cell_type": "markdown",
   "metadata": {},
   "source": [
    "# 3.11 Program Development: Sentinel-Controlled Iteration\n",
    "* Generalized class-average problem requirements statement:\n",
    "> Develop a class-averaging program that processes an arbitrary number of grades each time the program executes.\n",
    "* Does not state what the grades are or how many there are. \n",
    "* The program processes an arbitrary number of grades.\n",
    "* Use a **sentinel value** (also called a **signal value**, a **dummy value** or a **flag value**) to indicate “end of data entry.” \n",
    "* Sentinel-controlled iteration is often called **indefinite iteration** because the number of iterations is not known before the loop begins executing.\n",
    "* A sentinel value must not be confused with any acceptable input value."
   ]
  },
  {
   "cell_type": "markdown",
   "metadata": {},
   "source": [
    "### Developing the Pseudocode Algorithm with Top-Down, Stepwise Refinement\n",
    "* Begin with a pseudocode representation of the **top**: \n",
    "> _Determine the class average for the quiz_\n",
    "* Single statement that conveys the program’s overall function.\n",
    "* Rarely conveys enough detail from which to write a program.\n",
    "* Specifies what should be done, but not how to implement it. \n",
    "* Begin the refinement process by decomposing the top into a sequence of smaller tasks&mdash;**divide and conquer**. "
   ]
  },
  {
   "cell_type": "markdown",
   "metadata": {},
   "source": [
    "### First refinement:\n",
    "> _Initialize variables  \n",
    "> Input, sum and count the quiz grades  \n",
    "> Calculate and display the class average_\n",
    "\n",
    "* Each refinement represents the complete algorithm.\n",
    "* These pseudocode statements correspond to the three execution phases described in the preceding section. "
   ]
  },
  {
   "cell_type": "markdown",
   "metadata": {},
   "source": [
    "### Second Refinement\n",
    "* Commit to specific variables. \n",
    "    * a grade variable in which each successive user input will be stored,\n",
    "    * a running total of the grades, \n",
    "    * a count of how many grades have been processed and\n",
    "    * a variable that contains the calculated average. \n",
    "\n",
    "\"_Initialize variables_\" can be refined as follows:\n",
    "> _Initialize total to zero  \n",
    "> Initialize grade counter to zero_\n",
    "\n",
    "* Other variables created when they’re needed. \n",
    "\n",
    "\"_Input, sum and count the quiz grades_\" can be refined as follows:\n",
    "> _Input the first grade (possibly the sentinel)  \n",
    "> While the user has not entered the sentinel_  \n",
    ">> _Add this grade into the running total  \n",
    ">> Add one to the grade counter  \n",
    ">> Input the next grade (possibly the sentinel)_\n",
    "\n",
    "\"_Calculate and display the class average_\" can be refined as follows:\n",
    ">_If the counter is not equal to zero_  \n",
    ">>_Set the average to the total divided by the grade counter  \n",
    ">>Display the average_    \n",
    "\n",
    ">_Else_  \n",
    ">>_Display “No grades were entered”_\n",
    "\n",
    "**Complete second refinement**: \n",
    "> _Initialize total to zero_  \n",
    "> _Initialize grade counter to zero_  \n",
    ">  \n",
    "> _Input the first grade (possibly the sentinel_)  \n",
    "> _While the user has not entered the sentinel_  \n",
    ">> _Add this grade into the running total_  \n",
    ">> _Add one to the grade counter_  \n",
    ">> _Input the next grade (possibly the sentinel)_  \n",
    ">  \n",
    "> _If the counter is not equal to zero_  \n",
    ">> _Set the average to the total divided by the counter_  \n",
    ">> _Display the average_  \n",
    "\n",
    "> _Else_  \n",
    ">> _Display “No grades were entered”_  \n",
    "\n",
    "* Sometimes more than two refinements are necessary. \n",
    "* Dtop refining when there is enough detail to convert the pseudocode to Python. \n",
    "* Blank lines for readability. \n"
   ]
  },
  {
   "cell_type": "markdown",
   "metadata": {},
   "source": [
    "### Implementing Sentinel-Controlled Iteration \n",
    "```python\n",
    "# fig03_02.py\n",
    "\"\"\"Class average program with sentinel-controlled iteration.\"\"\"\n",
    "\n",
    "# initialization phase\n",
    "total = 0  # sum of grades\n",
    "grade_counter = 0  # number of grades entered\n",
    "\n",
    "# processing phase\n",
    "grade = int(input('Enter grade, -1 to end: '))  # get one grade\n",
    "\n",
    "while grade != -1:\n",
    "    total += grade\n",
    "    grade_counter += 1\n",
    "    grade = int(input('Enter grade, -1 to end: '))\n",
    "\n",
    "# termination phase\n",
    "if grade_counter != 0:\n",
    "    average = total / grade_counter\n",
    "    print(f'Class average is {average:.2f}')\n",
    "else:\n",
    "    print('No grades were entered')\n",
    "```"
   ]
  },
  {
   "cell_type": "code",
   "execution_count": null,
   "metadata": {},
   "outputs": [],
   "source": [
    "run fig03_02.py"
   ]
  },
  {
   "cell_type": "markdown",
   "metadata": {},
   "source": [
    "### Program Logic for Sentinel-Controlled Iteration \n",
    "* Read the first value before reaching the `while` statement. \n",
    "* The value input determines whether the program’s flow of control should enter the `while`’s suite. \n",
    "* If the condition is `False`, the user entered `-1`, so the suite does not execute. \n",
    "* If the condition is `True`, the suite executes, adding the `grade` value to the `total` and incrementing the `grade_counter`. \n",
    "* Then we input another grade from the user and the `while`’s condition is tested again. \n",
    "* `grade` is always input immediately before the program tests the `while` condition. \n",
    "* When the sentinel value is input, the loop terminates, and the program does not add `–1` to the `total`. \n",
    "* After the loop terminates, the `if`…`else` statement executes."
   ]
  },
  {
   "cell_type": "markdown",
   "metadata": {},
   "source": [
    "### Formatting the Class Average with Two Decimal Places\n",
    "* We formatted the class average with two digits to the right of the decimal point. \n",
    "* In an f-string, you can optionally follow a replacement-text expression with a colon (`:`) and a **format specifier** that describes how to format the replacement text.\n",
    "* The format specifier `.2f` formats the average as a floating-point number (`f`) with two digits to the right of the decimal point (`.2`). \n",
    "* Rounds to the hundredths position"
   ]
  },
  {
   "cell_type": "markdown",
   "metadata": {},
   "source": [
    "### Control-Statement Stacking\n",
    "* In this example, notice that control statements are stacked in sequence. \n",
    "* The `while` statement is followed immediately by an `if`…`else` statement."
   ]
  },
  {
   "cell_type": "markdown",
   "metadata": {},
   "source": [
    "# 3.12 Program Development: Nested Control Statements\n",
    "### Requirements statement:\n",
    "> A college offers a course that prepares students for the state licensing exam for real-estate brokers. Last year, several of the students who completed this course took the licensing examination. The college wants to know how well its students did on the exam. You have been asked to write a program to summarize the results. You have been given a list of these 10 students. Next to each name is written a 1 if the student passed the exam and a 2 if the student failed.\n",
    "\n",
    "> Analyze the results of the exam as follows:\n",
    ">> Input each test result (i.e., a 1 or a 2). Display the message “Enter result” each time the program requests another test result.  \n",
    "\n",
    ">> Count the number of test results of each type.\n",
    "\n",
    ">> Display a summary of the test results indicating the number of students who passed and the number of students who failed.\n",
    "\n",
    ">> If more than eight students passed the exam, display “Bonus to instructor.”\n",
    "\n",
    "* Observations about the problem:\n",
    "    * The program must process 10 test results. We’ll use a for statement and the range function to control iteration.\n",
    "    * Each test result is a number—either a 1 or a 2. Each time the program reads a test result, the program must determine if the number is a 1 or a 2. We test for a 1 in our algorithm. If the number is not a 1, we assume that it’s a 2. \n",
    "    * We’ll use two counters—one to count the number of students who passed the exam and one to count the number of students who failed.\n",
    "    * After the script processes all the results, it must decide if more than eight students passed the exam so that it can bonus the instructor."
   ]
  },
  {
   "cell_type": "markdown",
   "metadata": {},
   "source": [
    "### Top-Down, Stepwise Refinement\n",
    "* Pseudocode representation of the top:\n",
    "> Analyze exam results and decide whether instructor should receive a bonus\n",
    "\n",
    "* **First Refinement**\n",
    "> Initialize variables  \n",
    "> Input the ten exam grades and count passes and failures  \n",
    "> Summarize the exam results and decide whether instructor should receive a bonus\n",
    "\n",
    "* **Second Refinement**\n",
    "    * Commit to specific variables. \n",
    "    * Need counters to record the passes and failures, and a variable to store the user input. \n",
    "    * _Initialize variables_ can be refined as follows:\n",
    ">>Initialize passes to zero  \n",
    ">>Initialize failures to zero\n",
    "* _Input the ten exam grades and count passes and failures_ requires a loop that successively inputs the result of each exam. \n",
    "* We know there are ten exam results, so the `for` statement and the `range` function are appropriate. \n",
    "* The refinement is\n",
    "\n",
    "> For each of the ten students   \n",
    ">> Input the next exam result\n",
    ">>  \n",
    ">> If the student passed  \n",
    "&nbsp;&nbsp;&nbsp;&nbsp;&nbsp;Add one to passes  \n",
    ">> Else  \n",
    "&nbsp;&nbsp;&nbsp;&nbsp;&nbsp;Add one to failures\n",
    "\n",
    "* _Summarize the exam results and decide whether instructor should receive a bonus_ may be refined as follows:\n",
    "> Display the number of passes  \n",
    "> Display the number of failures\n",
    ">  \n",
    "> If more than eight students passed  \n",
    "&nbsp;&nbsp;&nbsp;&nbsp;&nbsp;Display “Bonus to instructor”"
   ]
  },
  {
   "cell_type": "markdown",
   "metadata": {},
   "source": [
    "### Complete Pseudocode Algorithm\n",
    "> Initialize passes to zero  \n",
    "> Initialize failures to zero  \n",
    ">  \n",
    "> For each of the ten students  \n",
    ">> Input the next exam result  \n",
    ">>  \n",
    ">> If the student passed  \n",
    "&nbsp;&nbsp;&nbsp;&nbsp;&nbsp;Add one to passes\n",
    "\n",
    ">> Else  \n",
    "&nbsp;&nbsp;&nbsp;&nbsp;&nbsp;Add one to failures\n",
    "\n",
    "> Display the number of passes  \n",
    "> Display the number of failures  \n",
    ">  \n",
    "> If more than eight students passed   \n",
    "&nbsp;&nbsp;&nbsp;&nbsp;&nbsp;Display “Bonus to instructor”"
   ]
  },
  {
   "cell_type": "markdown",
   "metadata": {},
   "source": [
    "### Implementing the Algorithm\n",
    "\n",
    "```python\n",
    "# fig03_03.py\n",
    "\"\"\"Using nested control statements to analyze examination results.\"\"\"\n",
    "\n",
    "# initialize variables\n",
    "passes = 0  # number of passes\n",
    "failures = 0  # number of failures\n",
    "\n",
    "# process 10 students\n",
    "for student in range(10):\n",
    "    # get one exam result\n",
    "    result = int(input('Enter result (1=pass, 2=fail): '))\n",
    "\n",
    "    if result == 1:\n",
    "        passes = passes + 1\n",
    "    else:\n",
    "        failures = failures + 1\n",
    "\n",
    "# termination phase\n",
    "print('Passed:', passes)\n",
    "print('Failed:', failures)\n",
    "\n",
    "if passes > 8:\n",
    "    print('Bonus to instructor')\n",
    "```"
   ]
  },
  {
   "cell_type": "code",
   "execution_count": 1,
   "metadata": {},
   "outputs": [
    {
     "name": "stdin",
     "output_type": "stream",
     "text": [
      "Enter result (1=pass, 2=fail):  1\n",
      "Enter result (1=pass, 2=fail):  2\n",
      "Enter result (1=pass, 2=fail):  2\n",
      "Enter result (1=pass, 2=fail):  1\n",
      "Enter result (1=pass, 2=fail):  1\n",
      "Enter result (1=pass, 2=fail):  2\n",
      "Enter result (1=pass, 2=fail):  2\n",
      "Enter result (1=pass, 2=fail):  1\n",
      "Enter result (1=pass, 2=fail):  1\n",
      "Enter result (1=pass, 2=fail):  2\n"
     ]
    },
    {
     "name": "stdout",
     "output_type": "stream",
     "text": [
      "Passed: 5\n",
      "Failed: 5\n"
     ]
    }
   ],
   "source": [
    "run fig03_03.py"
   ]
  },
  {
   "cell_type": "code",
   "execution_count": 2,
   "metadata": {},
   "outputs": [
    {
     "name": "stdin",
     "output_type": "stream",
     "text": [
      "Enter result (1=pass, 2=fail):  1\n",
      "Enter result (1=pass, 2=fail):  1\n",
      "Enter result (1=pass, 2=fail):  2\n",
      "Enter result (1=pass, 2=fail):  1\n",
      "Enter result (1=pass, 2=fail):  1\n",
      "Enter result (1=pass, 2=fail):  1\n",
      "Enter result (1=pass, 2=fail):  1\n",
      "Enter result (1=pass, 2=fail):  1\n",
      "Enter result (1=pass, 2=fail):  1\n",
      "Enter result (1=pass, 2=fail):  1\n"
     ]
    },
    {
     "name": "stdout",
     "output_type": "stream",
     "text": [
      "Passed: 9\n",
      "Failed: 1\n",
      "Bonus to instructor\n"
     ]
    }
   ],
   "source": [
    "run fig03_03.py"
   ]
  },
  {
   "cell_type": "markdown",
   "metadata": {},
   "source": [
    "# 3.13 Built-In Function `range`: A Deeper Look\n",
    "* Function `range`’s two-argument version produces a sequence of consecutive integers from its first argument’s value up to, but not including, the second argument’s value"
   ]
  },
  {
   "cell_type": "code",
   "execution_count": null,
   "metadata": {},
   "outputs": [],
   "source": [
    "for number in range(5, 10):\n",
    "    print(number, end=' ')"
   ]
  },
  {
   "cell_type": "markdown",
   "metadata": {},
   "source": [
    "* Function `range`’s three-argument version produces a sequence of integers from its first argument’s value up to, but not including, the second argument’s value, incrementing by the third argument’s value (the step)"
   ]
  },
  {
   "cell_type": "code",
   "execution_count": null,
   "metadata": {},
   "outputs": [],
   "source": [
    "for number in range(0, 10, 2):\n",
    "    print(number, end=' ')"
   ]
  },
  {
   "cell_type": "markdown",
   "metadata": {},
   "source": [
    "* If the third argument is negative, the sequence progresses from the first argument’s value down to, but not including the second argument’s value, decrementing by the third argument’s value"
   ]
  },
  {
   "cell_type": "code",
   "execution_count": null,
   "metadata": {},
   "outputs": [],
   "source": [
    "for number in range(10, 0, -2):\n",
    "    print(number, end=' ')"
   ]
  },
  {
   "cell_type": "markdown",
   "metadata": {},
   "source": [
    "------\n",
    "&copy;1992&ndash;2020 by Pearson Education, Inc. All Rights Reserved. This content is based on Chapter 3 of the book [**Intro to Python for Computer Science and Data Science: Learning to Program with AI, Big Data and the Cloud**](https://amzn.to/2VvdnxE).\n",
    "\n",
    "DISCLAIMER: The authors and publisher of this book have used their \n",
    "best efforts in preparing the book. These efforts include the \n",
    "development, research, and testing of the theories and programs \n",
    "to determine their effectiveness. The authors and publisher make \n",
    "no warranty of any kind, expressed or implied, with regard to these \n",
    "programs or to the documentation contained in these books. The authors \n",
    "and publisher shall not be liable in any event for incidental or \n",
    "consequential damages in connection with, or arising out of, the \n",
    "furnishing, performance, or use of these programs.                  "
   ]
  },
  {
   "cell_type": "markdown",
   "metadata": {},
   "source": [
    "# 3.14 Using Type Decimal for Monetary Amounts\n",
    "* Python’s built-in floating-point numbers work well for most applications. \n",
    "* Floating-point values are stored in binary format. \n",
    "* Some floating-point values are represented only approximately when they’re converted to binary. "
   ]
  },
  {
   "cell_type": "code",
   "execution_count": null,
   "metadata": {},
   "outputs": [],
   "source": [
    "amount = 112.31"
   ]
  },
  {
   "cell_type": "code",
   "execution_count": null,
   "metadata": {},
   "outputs": [],
   "source": [
    "print(amount)"
   ]
  },
  {
   "cell_type": "markdown",
   "metadata": {},
   "source": [
    "* Print `amount` with 20 digits of precision to the right of the decimal point to see that the actual floating-point value in memory is not exactly `112.31`—it’s only an approximation:"
   ]
  },
  {
   "cell_type": "code",
   "execution_count": null,
   "metadata": {},
   "outputs": [],
   "source": [
    "print(f'{amount:.20f}')"
   ]
  },
  {
   "cell_type": "markdown",
   "metadata": {},
   "source": [
    "* The **Python Standard Library** provides many predefined capabilities you can use in your Python code to avoid “reinventing the wheel.” \n",
    "* Type **`Decimal`**, which uses a special coding scheme to solve the problem of to-the-penny precision. \n",
    "    * Banks also have to deal with issues like using a _fair rounding algorithm_ when calculating daily interest on accounts&mdash;type `Decimal` offers such capabilities.\n"
   ]
  },
  {
   "cell_type": "markdown",
   "metadata": {},
   "source": [
    "### Importing Type Decimal from the decimal Module \n",
    "* The Python Standard Library is divided into groups of related capabilities called **modules**. \n",
    "* The **`decimal`** module defines type `Decimal` and its capabilities. \n",
    "* Must **`import`** to use capabilities from a module."
   ]
  },
  {
   "cell_type": "code",
   "execution_count": null,
   "metadata": {},
   "outputs": [],
   "source": [
    "from decimal import Decimal"
   ]
  },
  {
   "cell_type": "markdown",
   "metadata": {},
   "source": [
    "### Creating Decimals"
   ]
  },
  {
   "cell_type": "markdown",
   "metadata": {},
   "source": [
    "* Typically create a `Decimal` from a string."
   ]
  },
  {
   "cell_type": "code",
   "execution_count": null,
   "metadata": {},
   "outputs": [],
   "source": [
    "principal = Decimal('1000.00')"
   ]
  },
  {
   "cell_type": "code",
   "execution_count": null,
   "metadata": {},
   "outputs": [],
   "source": [
    "principal"
   ]
  },
  {
   "cell_type": "code",
   "execution_count": null,
   "metadata": {},
   "outputs": [],
   "source": [
    "rate = Decimal('0.05')"
   ]
  },
  {
   "cell_type": "code",
   "execution_count": null,
   "metadata": {},
   "outputs": [],
   "source": [
    "rate"
   ]
  },
  {
   "cell_type": "markdown",
   "metadata": {},
   "source": [
    "### Decimal Arithmetic \n",
    "* `Decimal`s support the standard arithmetic operators and augmented assignments."
   ]
  },
  {
   "cell_type": "code",
   "execution_count": null,
   "metadata": {},
   "outputs": [],
   "source": [
    "x = Decimal('10.5')"
   ]
  },
  {
   "cell_type": "code",
   "execution_count": null,
   "metadata": {},
   "outputs": [],
   "source": [
    "y = Decimal('2')"
   ]
  },
  {
   "cell_type": "code",
   "execution_count": null,
   "metadata": {},
   "outputs": [],
   "source": [
    "x + y"
   ]
  },
  {
   "cell_type": "code",
   "execution_count": null,
   "metadata": {},
   "outputs": [],
   "source": [
    "x // y"
   ]
  },
  {
   "cell_type": "code",
   "execution_count": null,
   "metadata": {},
   "outputs": [],
   "source": [
    "x += y"
   ]
  },
  {
   "cell_type": "code",
   "execution_count": null,
   "metadata": {},
   "outputs": [],
   "source": [
    "x"
   ]
  },
  {
   "cell_type": "markdown",
   "metadata": {},
   "source": [
    "* May perform arithmetic between `Decimal`s and integers, but _not_ between `Decimal`s and floating-point numbers."
   ]
  },
  {
   "cell_type": "markdown",
   "metadata": {},
   "source": [
    "### Compound-Interest Problem Requirements Statement\n",
    "Requirements statement: \n",
    ">_A person invests $1000 in a savings account yielding 5% interest. Assuming that the person leaves all interest on deposit in the account, calculate and display the amount of money in the account at the end of each year for 10 years. Use the following formula for determining these amounts:_\n",
    "\n",
    ">> _a_ = _p_(1 + _r_)<sup><em>n</em></sup>\n",
    "\n",
    "> _where_\n",
    "\n",
    ">> _p_ is the original amount invested (i.e., the principal),\n",
    "\n",
    ">> _r_ is the annual interest rate,\n",
    "\n",
    ">> _n_ is the number of years and\n",
    "\n",
    ">> _a_ is the amount on deposit at the end of the *n* <sup>th</sup> year."
   ]
  },
  {
   "cell_type": "markdown",
   "metadata": {},
   "source": [
    "### Calculating Compound Interest\n",
    "* For each year, the loop displays a formatted string containing the year number and the amount on deposit at the end of that year"
   ]
  },
  {
   "cell_type": "code",
   "execution_count": null,
   "metadata": {},
   "outputs": [],
   "source": [
    "for year in range(1, 11):\n",
    "    amount = principal * (1 + rate) ** year \n",
    "    print(f'{year:>2}{amount:>10.2f}')"
   ]
  },
  {
   "cell_type": "markdown",
   "metadata": {},
   "source": [
    "### Formatting the Year and Amount on Deposit\n",
    "```python\n",
    "print(f'{year:>2}{amount:>10.2f}')\n",
    "```\n",
    "\n",
    "* Uses an f-string with two placeholders to format the loop’s output. \n",
    "\n",
    "```python\n",
    "{year:>2}\n",
    "```\n",
    "\n",
    "* Uses the format specifier `>2` to indicate that `year`’s value should be **right aligned (`>`)** in a field of width `2`\n",
    "* The **field width** specifies the number of character positions to use when displaying the value. \n",
    "\n",
    "![The numbers 1 and 10 each formatted in a field width of 2](ch03images/formatting.png \"The numbers 1 and 10 each formatted in a field width of 2\")\n",
    "\n",
    "* Can **left align** values with <. \n",
    "\n",
    "```python\n",
    "{amount:>10.2f}\n",
    "```\n",
    "* Formats `amount` as a floating-point number (`f`) right aligned (`>`) in a field width of `10` with a decimal point and two digits to the right of the decimal point (`.2`). \n",
    "\n",
    "![1050.0 formatted with The format specifier 10.2f](ch03images/formatting2.png \"1050.0 formatted with The format specifier 10.2f\")"
   ]
  },
  {
   "cell_type": "markdown",
   "metadata": {},
   "source": [
    "# 3.15 `break` and `continue` Statements"
   ]
  },
  {
   "cell_type": "markdown",
   "metadata": {},
   "source": [
    "* Executing a `break` statement in a `while` or `for` immediately exits that statement. "
   ]
  },
  {
   "cell_type": "code",
   "execution_count": null,
   "metadata": {},
   "outputs": [],
   "source": [
    "for number in range(100):\n",
    "    if number == 10:\n",
    "        break\n",
    "    print(number, end=' ')"
   ]
  },
  {
   "cell_type": "markdown",
   "metadata": {},
   "source": [
    "* Executing a `continue` statement in a `while` or `for` loop skips the remainder of the loop’s suite. \n",
    "    * In a `while`, the condition is then tested to determine whether the loop should continue executing. \n",
    "    * In a `for`, the loop processes the next item in the sequence (if any)"
   ]
  },
  {
   "cell_type": "code",
   "execution_count": null,
   "metadata": {},
   "outputs": [],
   "source": [
    "for number in range(10):\n",
    "    if number == 5:\n",
    "        continue\n",
    "    print(number, end=' ')"
   ]
  },
  {
   "cell_type": "markdown",
   "metadata": {},
   "source": [
    "------\n",
    "&copy;1992&ndash;2020 by Pearson Education, Inc. All Rights Reserved. This content is based on Chapter 3 of the book [**Intro to Python for Computer Science and Data Science: Learning to Program with AI, Big Data and the Cloud**](https://amzn.to/2VvdnxE).\n",
    "\n",
    "DISCLAIMER: The authors and publisher of this book have used their \n",
    "best efforts in preparing the book. These efforts include the \n",
    "development, research, and testing of the theories and programs \n",
    "to determine their effectiveness. The authors and publisher make \n",
    "no warranty of any kind, expressed or implied, with regard to these \n",
    "programs or to the documentation contained in these books. The authors \n",
    "and publisher shall not be liable in any event for incidental or \n",
    "consequential damages in connection with, or arising out of, the \n",
    "furnishing, performance, or use of these programs.                  "
   ]
  },
  {
   "cell_type": "markdown",
   "metadata": {},
   "source": [
    "# 3.16 Boolean Operators `and`, `or` and `not` "
   ]
  },
  {
   "cell_type": "markdown",
   "metadata": {},
   "source": [
    "### Boolean Operator `and`\n",
    "* Ensure that two conditions are both `True` with the **Boolean `and` operator**. "
   ]
  },
  {
   "cell_type": "code",
   "execution_count": null,
   "metadata": {},
   "outputs": [],
   "source": [
    "gender = 'Female'"
   ]
  },
  {
   "cell_type": "code",
   "execution_count": null,
   "metadata": {},
   "outputs": [],
   "source": [
    "age = 70"
   ]
  },
  {
   "cell_type": "code",
   "execution_count": null,
   "metadata": {},
   "outputs": [],
   "source": [
    "if gender == 'Female' and age >= 65:\n",
    "    print('Senior female')"
   ]
  },
  {
   "cell_type": "markdown",
   "metadata": {},
   "source": [
    "* _Truth table_ for the `and` operator:\n",
    "\n",
    "expression1 | expression2 | expression1 `and` expression2\n",
    ":-------- | :-------- | :--------\n",
    "`False` \t| `False` \t| `False` \n",
    "`False` \t| `True`  \t| `False` \n",
    "`True`  \t| `False` \t| `False` \n",
    "`True`  \t| `True`  \t| `True`  "
   ]
  },
  {
   "cell_type": "markdown",
   "metadata": {},
   "source": [
    "### Boolean Operator `or`\n",
    "* Ensure that one _or_ both of two conditions are `True` with the **Boolean `or` operator**."
   ]
  },
  {
   "cell_type": "code",
   "execution_count": null,
   "metadata": {},
   "outputs": [],
   "source": [
    "semester_average = 83"
   ]
  },
  {
   "cell_type": "code",
   "execution_count": null,
   "metadata": {},
   "outputs": [],
   "source": [
    "final_exam = 95"
   ]
  },
  {
   "cell_type": "code",
   "execution_count": null,
   "metadata": {},
   "outputs": [],
   "source": [
    "if semester_average >= 90 or final_exam >= 90:\n",
    "    print('Student gets an A')"
   ]
  },
  {
   "cell_type": "markdown",
   "metadata": {},
   "source": [
    "* _Truth table_ for the `or` operator:\n",
    "\n",
    "expression1 | expression2 | expression1 or expression2\n",
    ":-------- | :-------- | :--------\n",
    "`False` \t| `False` \t| `False` \n",
    "`False` \t| `True` \t| `True` \n",
    "`True` \t| `False` \t| `True` \n",
    "`True` \t| `True` \t| `True` "
   ]
  },
  {
   "cell_type": "markdown",
   "metadata": {},
   "source": [
    "### Improving Performance with Short-Circuit Evaluation\n",
    "* Python stops evaluating an `and` expression as soon as it knows whether the entire condition is `False`. \n",
    "* Python stops evaluating an `or` expression as soon as it knows whether the entire condition is `True`. \n",
    "* In expressions that use `and`, make the condition that’s more likely to be `False` the leftmost condition. \n",
    "* In `or` operator expressions, make the condition that’s more likely to be `True` the leftmost condition. \n"
   ]
  },
  {
   "cell_type": "markdown",
   "metadata": {},
   "source": [
    "### Boolean Operator `not` \n",
    "* “Reverse” the meaning of a condition.\n",
    "* **Unary operator**—it has only _one_ operand. "
   ]
  },
  {
   "cell_type": "code",
   "execution_count": null,
   "metadata": {},
   "outputs": [],
   "source": [
    "grade = 87"
   ]
  },
  {
   "cell_type": "code",
   "execution_count": null,
   "metadata": {},
   "outputs": [],
   "source": [
    "if not grade == -1:\n",
    "    print('The next grade is', grade)"
   ]
  },
  {
   "cell_type": "code",
   "execution_count": null,
   "metadata": {},
   "outputs": [],
   "source": [
    "if grade != -1:\n",
    "    print('The next grade is', grade)"
   ]
  },
  {
   "cell_type": "markdown",
   "metadata": {},
   "source": [
    "* Truth table for the `not` operator. \n",
    "\n",
    "expression | not expression\n",
    ":-------- | :---------\n",
    "`False` \t| `True` \n",
    "`True` \t| `False` "
   ]
  },
  {
   "cell_type": "markdown",
   "metadata": {},
   "source": [
    "* Precedence and grouping of the operators introduced so far&mdash;shown in decreasing order of precedence. \n",
    "\n",
    "| Operators  | Grouping\n",
    "| :--------- | : ---------\n",
    "| `()` | left to right\n",
    "| `**` | right to left\n",
    "| `*` &nbsp;&nbsp;&nbsp; `/` &nbsp;&nbsp;&nbsp; `//` &nbsp;&nbsp;&nbsp;% | left to right\n",
    "| `+` &nbsp;&nbsp;&nbsp; `-` | left to right\n",
    "| `<` &nbsp;&nbsp;&nbsp; `<=` &nbsp;&nbsp;&nbsp; `>` &nbsp;&nbsp;&nbsp; `>=` &nbsp;&nbsp;&nbsp; `==` &nbsp;&nbsp;&nbsp; `!=` | left to right\n",
    "| `not` | left to  right\n",
    "| `and` | left to right\n",
    "| `or` | left to right"
   ]
  },
  {
   "cell_type": "markdown",
   "metadata": {},
   "source": [
    "# 3.17 Intro to Data Science: Measures of Central Tendency—Mean, Median and Mode \n",
    "* **Measures of central tendency**:\n",
    "    * **mean**—the _average value_ in a set of values. \n",
    "    * **median**—the _middle value_ when all the values are arranged in sorted order.\n",
    "    * **mode**—the _most frequently occurring value_.\n",
    "* Each represents a “central” value in a set of values.\n",
    "    * A value which is in some sense typical of the others."
   ]
  },
  {
   "cell_type": "code",
   "execution_count": null,
   "metadata": {},
   "outputs": [],
   "source": [
    "grades = [85, 93, 45, 89, 85]"
   ]
  },
  {
   "cell_type": "code",
   "execution_count": null,
   "metadata": {},
   "outputs": [],
   "source": [
    "sum(grades) / len(grades)"
   ]
  },
  {
   "cell_type": "markdown",
   "metadata": {},
   "source": [
    "* `sum` and `len` are both examples of functional-style programming reductions\n",
    "* The Python Standard Library’s **`statistics`** module provides functions for calculating the **reductions** mean, median and mode."
   ]
  },
  {
   "cell_type": "code",
   "execution_count": null,
   "metadata": {},
   "outputs": [],
   "source": [
    "import statistics"
   ]
  },
  {
   "cell_type": "code",
   "execution_count": null,
   "metadata": {},
   "outputs": [],
   "source": [
    "statistics.mean(grades)"
   ]
  },
  {
   "cell_type": "code",
   "execution_count": null,
   "metadata": {},
   "outputs": [],
   "source": [
    "statistics.median(grades)"
   ]
  },
  {
   "cell_type": "code",
   "execution_count": null,
   "metadata": {},
   "outputs": [],
   "source": [
    "statistics.mode(grades)"
   ]
  },
  {
   "cell_type": "markdown",
   "metadata": {},
   "source": [
    "* Sorting `grades` helps you see the median and mode. "
   ]
  },
  {
   "cell_type": "code",
   "execution_count": null,
   "metadata": {},
   "outputs": [],
   "source": [
    "sorted(grades)"
   ]
  },
  {
   "cell_type": "markdown",
   "metadata": {},
   "source": [
    "------\n",
    "&copy;1992&ndash;2020 by Pearson Education, Inc. All Rights Reserved. This content is based on Chapter 3 of the book [**Intro to Python for Computer Science and Data Science: Learning to Program with AI, Big Data and the Cloud**](https://amzn.to/2VvdnxE).\n",
    "\n",
    "DISCLAIMER: The authors and publisher of this book have used their \n",
    "best efforts in preparing the book. These efforts include the \n",
    "development, research, and testing of the theories and programs \n",
    "to determine their effectiveness. The authors and publisher make \n",
    "no warranty of any kind, expressed or implied, with regard to these \n",
    "programs or to the documentation contained in these books. The authors \n",
    "and publisher shall not be liable in any event for incidental or \n",
    "consequential damages in connection with, or arising out of, the \n",
    "furnishing, performance, or use of these programs.                  "
   ]
  }
 ],
 "metadata": {
  "kernelspec": {
   "display_name": "Python 3",
   "language": "python",
   "name": "python3"
  },
  "language_info": {
   "codemirror_mode": {
    "name": "ipython",
    "version": 3
   },
   "file_extension": ".py",
   "mimetype": "text/x-python",
   "name": "python",
   "nbconvert_exporter": "python",
   "pygments_lexer": "ipython3",
   "version": "3.6.9"
  },
  "latex_envs": {
   "LaTeX_envs_menu_present": true,
   "autoclose": false,
   "autocomplete": true,
   "bibliofile": "biblio.bib",
   "cite_by": "apalike",
   "current_citInitial": 1,
   "eqLabelWithNumbers": true,
   "eqNumInitial": 1,
   "hotkeys": {
    "equation": "Ctrl-E",
    "itemize": "Ctrl-I"
   },
   "labels_anchors": false,
   "latex_user_defs": false,
   "report_style_numbering": false,
   "user_envs_cfg": false
  },
  "toc": {
   "base_numbering": 1,
   "nav_menu": {},
   "number_sections": false,
   "sideBar": true,
   "skip_h1_title": false,
   "title_cell": "Table of Contents",
   "title_sidebar": "Contents",
   "toc_cell": false,
   "toc_position": {},
   "toc_section_display": true,
   "toc_window_display": false
  }
 },
 "nbformat": 4,
 "nbformat_minor": 2
}
