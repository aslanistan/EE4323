{
 "cells": [
  {
   "cell_type": "markdown",
   "metadata": {},
   "source": [
    "# Example 1: \n",
    "\n",
    "1. Write a Python program to convert temperatures to and from celsius, fahrenheit\n",
    "2. Write 1 as a function (F2C and C2F)"
   ]
  },
  {
   "cell_type": "code",
   "execution_count": 7,
   "metadata": {},
   "outputs": [
    {
     "name": "stdout",
     "output_type": "stream",
     "text": [
      "212.0\n",
      "100.0\n"
     ]
    }
   ],
   "source": [
    "# T(°F) = T(°C) × 9/5 + 32\n",
    "def C2F(C):\n",
    "    F=C*9/5+32\n",
    "    return F\n",
    "print(C2F(100))\n",
    "\n",
    "#T(°C) = (T(°F) -32) x 5/9\n",
    "def F2C(F):\n",
    "    C=(F-32)*5/9\n",
    "    return C\n",
    "print(F2C(212))"
   ]
  },
  {
   "cell_type": "code",
   "execution_count": 8,
   "metadata": {},
   "outputs": [],
   "source": [
    "x=100\n",
    "x==F2C(C2F(100))\n",
    "for i in range(100,200,1):\n",
    "    if i!=F2C(C2F(i)):\n",
    "        print(f\"ERROR at {i}\")\n"
   ]
  },
  {
   "cell_type": "markdown",
   "metadata": {},
   "source": [
    "# Example 2: \n",
    "\n",
    "1. Write a Python program to find those numbers which are divisible by 3 and multiple of 5, between 1000 and 3000 (both included).\n",
    "2. Modify the example above \n",
    "    - Ask user input a number\n",
    "    - Check if that number is divisible by 3 and multiple of 5\n",
    "3. Write a function that checks any number and divisibility of two numbers.\n",
    "    - def check_div(Number,DivI,DivII) \n",
    "    - Return will be a message display\n",
    "4. Write a function that checks any number and divisibility of any numbers.\n",
    "    - def check_div(Number,*Div) \n",
    "    - Return will be a message display"
   ]
  },
  {
   "cell_type": "code",
   "execution_count": 4,
   "metadata": {
    "code_folding": []
   },
   "outputs": [
    {
     "name": "stdout",
     "output_type": "stream",
     "text": [
      "1005,1020,1035,1050,1065,1080,1095,1110,1125,1140,1155,1170,1185,1200,1215,1230,1245,1260,1275,1290,1305,1320,1335,1350,1365,1380,1395,1410,1425,1440,1455,1470,1485,1500,1515,1530,1545,1560,1575,1590,1605,1620,1635,1650,1665,1680,1695,1710,1725,1740,1755,1770,1785,1800,1815,1830,1845,1860,1875,1890,1905,1920,1935,1950,1965,1980,1995,2010,2025,2040,2055,2070,2085,2100,2115,2130,2145,2160,2175,2190,2205,2220,2235,2250,2265,2280,2295,2310,2325,2340,2355,2370,2385,2400,2415,2430,2445,2460,2475,2490,2505,2520,2535,2550,2565,2580,2595,2610,2625,2640,2655,2670,2685,2700,2715,2730,2745,2760,2775,2790,2805,2820,2835,2850,2865,2880,2895,2910,2925,2940,2955,2970,2985,3000\n"
     ]
    },
    {
     "data": {
      "text/plain": [
       "str"
      ]
     },
     "execution_count": 4,
     "metadata": {},
     "output_type": "execute_result"
    }
   ],
   "source": [
    "x=[]\n",
    "for i in range(1000, 3001):\n",
    "    if (i%3==0) and (i%5==0):\n",
    "        x.append(str(i))\n",
    "A=','.join(x)\n",
    "print (A)\n",
    "type(A)\n",
    "AA=list(A)\n"
   ]
  },
  {
   "cell_type": "code",
   "execution_count": null,
   "metadata": {},
   "outputs": [],
   "source": [
    "x=[]\n",
    "for i in range(1000, 3001):\n",
    "    if (i%3==0) and (i%5==0):\n",
    "        x.append(i)\n",
    "print (x)\n",
    "type(x)"
   ]
  },
  {
   "cell_type": "code",
   "execution_count": null,
   "metadata": {
    "code_folding": []
   },
   "outputs": [],
   "source": [
    "# find the bug\n",
    "number=int(input(\"Please enter a number: \"))\n",
    "if (number%3==0) and (number%5==0):\n",
    "    print(f'Number {number} is divisible by 5 and 3')\n",
    "else:\n",
    "    print(f'Number {number} is not divisible by 5 or 3')    "
   ]
  },
  {
   "cell_type": "code",
   "execution_count": null,
   "metadata": {},
   "outputs": [],
   "source": [
    "def check_div(number,Div1=1,Div2=1):\n",
    "    if (number%Div1==0) and (number%Div2==0):\n",
    "        print(f'Number {number} is divisible by {Div1} and {Div2}')\n",
    "    else:\n",
    "        print(f'Number {number} is NOT divisible by {Div1} and {Div2}')    "
   ]
  },
  {
   "cell_type": "code",
   "execution_count": null,
   "metadata": {},
   "outputs": [],
   "source": [
    "check_div(12,3)"
   ]
  },
  {
   "cell_type": "markdown",
   "metadata": {},
   "source": [
    "# Example 3: \n",
    "\n",
    "Write a Python program to guess a number between 1 to 9. \n",
    "\n",
    "- Create a number to guess\n",
    "    - static\n",
    "    - random\n",
    "- Ask user enter a number\n",
    "- Check if that is a number correct\n",
    " - If it is not as another number\n",
    " - If it is correct display the number and number of guess\n",
    "\n"
   ]
  },
  {
   "cell_type": "code",
   "execution_count": null,
   "metadata": {},
   "outputs": [],
   "source": [
    "i=1\n",
    "while True:\n",
    "    x=3\n",
    "    number=int(input(\"Please enter a number: \"))\n",
    "    if number != x:\n",
    "       # print('Please Enter another number')\n",
    "        i=i+1\n",
    "    else:\n",
    "        break\n",
    "print(f'Your guess {number} matches with {x}. You used {i} guesses!')"
   ]
  },
  {
   "cell_type": "code",
   "execution_count": 4,
   "metadata": {},
   "outputs": [
    {
     "name": "stdout",
     "output_type": "stream",
     "text": [
      "Please enter a number: 1\n",
      "Please enter a number: 2\n",
      "Please enter a number: 3\n",
      "Please enter a number: 4\n",
      "Your guess 4 matches with 4. You used 4 guesses!\n"
     ]
    }
   ],
   "source": [
    "# find the bug\n",
    "from random import randint \n",
    "i=1\n",
    "x=randint(1,9)\n",
    "while True:\n",
    "    \n",
    "    number=int(input(\"Please enter a number: \"))\n",
    "    if number != x:\n",
    "       # print('Please Enter another number')\n",
    "        i=i+1\n",
    "    else:\n",
    "        break\n",
    "print(f'Your guess {number} matches with {x}. You used {i} guesses!')"
   ]
  },
  {
   "cell_type": "markdown",
   "metadata": {},
   "source": [
    "# Example 4: \n",
    "\n",
    "Write a Python program to construct the following pattern, using a nested for loop.\n",
    "\n",
    "<img src=./pic/0001.png alt=\"ex4\"\n",
    "\ttitle=\"A cute kitten\" width=\"100\" height=\"80\" />"
   ]
  },
  {
   "cell_type": "code",
   "execution_count": 5,
   "metadata": {},
   "outputs": [
    {
     "name": "stdout",
     "output_type": "stream",
     "text": [
      "\n",
      "*\n",
      "**\n",
      "***\n",
      "****\n",
      "*****\n",
      "****\n",
      "***\n",
      "**\n",
      "*\n"
     ]
    }
   ],
   "source": [
    "n=5\n",
    "for i in range(n):\n",
    "    for j in range(i):\n",
    "        print ('*', end='')\n",
    "    print('')\n",
    "\n",
    "for i in range(n,0,-1):\n",
    "    for j in range(i):\n",
    "        print('*',end='')\n",
    "    print('')"
   ]
  },
  {
   "cell_type": "markdown",
   "metadata": {},
   "source": [
    "# Example 5:\n",
    "\n",
    "1. Write a Python program that accepts a word from the user and reverse it. \n",
    "\n",
    "2. Write a Python program that accepts a list from the user and reverse it. \n"
   ]
  },
  {
   "cell_type": "code",
   "execution_count": 9,
   "metadata": {},
   "outputs": [
    {
     "name": "stdout",
     "output_type": "stream",
     "text": [
      "Input a word to reverse: SEMIH\n",
      "HIMES\n",
      "\n"
     ]
    }
   ],
   "source": [
    "# x = input(\"Input a word to reverse: \")\n",
    "\n",
    "# for i in range(len(x) - 1, -1, -1):\n",
    "#  print(x[i], end=\"\")\n",
    "# print(\"\\n\")\n",
    "x = input(\"Input a word to reverse: \")\n",
    "\n",
    "for i in range(-1,-len(x)-1,-1):\n",
    "  print(x[i], end=\"\")\n",
    "print(\"\\n\")"
   ]
  },
  {
   "cell_type": "code",
   "execution_count": 10,
   "metadata": {},
   "outputs": [
    {
     "name": "stdout",
     "output_type": "stream",
     "text": [
      "Input a word to reverse: SEMIH\n",
      "HIMES\n"
     ]
    }
   ],
   "source": [
    "# easy way to do it\n",
    "x = input(\"Input a word to reverse: \")\n",
    "x_r=x[::-1]\n",
    "print(x_r)"
   ]
  },
  {
   "cell_type": "code",
   "execution_count": 11,
   "metadata": {},
   "outputs": [],
   "source": [
    "def list_rev(*numbers):\n",
    "    numbers = list(numbers)\n",
    "    return numbers[::-1] \n",
    "\n",
    "def list_rev1(numbers):\n",
    "    return numbers[::-1] "
   ]
  },
  {
   "cell_type": "code",
   "execution_count": 14,
   "metadata": {},
   "outputs": [
    {
     "data": {
      "text/plain": [
       "[8, 7, 6, 5, 5, 4, 3, 2, 1]"
      ]
     },
     "execution_count": 14,
     "metadata": {},
     "output_type": "execute_result"
    }
   ],
   "source": [
    "xr=list_rev(1,2,3,4,5,5,6,7,8)\n",
    "xr"
   ]
  },
  {
   "cell_type": "markdown",
   "metadata": {},
   "source": [
    "# Example 6:\n",
    "\n",
    "1. Write a Python program to count the number of even and odd numbers from a series of numbers.\n",
    "2. Write a Python program that finds x[2n] from x[n]."
   ]
  },
  {
   "cell_type": "code",
   "execution_count": 16,
   "metadata": {},
   "outputs": [
    {
     "name": "stdout",
     "output_type": "stream",
     "text": [
      "Number of even numbers : 5\n",
      "Number of odd numbers : 6\n"
     ]
    }
   ],
   "source": [
    "x = [1, 2, 3, 4, 5, 6, 7, 8, 9,10,11]\n",
    "odd = 0\n",
    "even = 0\n",
    "for i in x:\n",
    "    if not i % 2:  # i%2 == 0\n",
    "        even=even+1\n",
    "    else:\n",
    "        odd=odd+1\n",
    "print(\"Number of even numbers :\",even)\n",
    "print(\"Number of odd numbers :\",odd)"
   ]
  },
  {
   "cell_type": "code",
   "execution_count": 17,
   "metadata": {},
   "outputs": [
    {
     "name": "stdout",
     "output_type": "stream",
     "text": [
      "x[n] = [1, 2, 3, 4, 5, 6, 7, 8, 9, 10]\n",
      "x[2n] = [2, 4, 6, 8, 10]\n"
     ]
    }
   ],
   "source": [
    "x = [1, 2, 3, 4, 5, 6, 7, 8, 9,10]\n",
    "xe=[]\n",
    "for i in x:\n",
    "    if i % 2 == 0:\n",
    "        xe.append(i)\n",
    "print(f\"x[n] = {x}\")\n",
    "print(f\"x[2n] = {xe}\")"
   ]
  },
  {
   "cell_type": "markdown",
   "metadata": {},
   "source": [
    "# Example 7:\n",
    "\n",
    "1. Write a Python program that prints all the numbers from 0 to 20 except 3, 9, and 15."
   ]
  },
  {
   "cell_type": "code",
   "execution_count": null,
   "metadata": {},
   "outputs": [],
   "source": [
    "for x in range(20):\n",
    "    if (x == 3 or x==9 or x==15):\n",
    "        continue\n",
    "    print(x,end=' ')\n",
    "print(\"\\n\")"
   ]
  },
  {
   "cell_type": "code",
   "execution_count": null,
   "metadata": {},
   "outputs": [],
   "source": [
    "n=[]\n",
    "for x in range(20):\n",
    "    if (x == 3 or x==9 or x==15):\n",
    "        continue\n",
    "    n.append(x)\n",
    "print(n)"
   ]
  },
  {
   "cell_type": "code",
   "execution_count": 20,
   "metadata": {},
   "outputs": [
    {
     "name": "stdout",
     "output_type": "stream",
     "text": [
      "[0, 1, 2, 4, 5, 6, 7, 8, 10, 11, 12, 13, 14, 16, 17, 18, 19]\n"
     ]
    }
   ],
   "source": [
    "# find tyhe bug\n",
    "i=-1\n",
    "x=[]\n",
    "while i<19:\n",
    "    i=i+1\n",
    "    if (i == 3 or i==9 or i==15):\n",
    "        continue\n",
    "    x.append(i)\n",
    "\n",
    "print(x)"
   ]
  },
  {
   "cell_type": "code",
   "execution_count": null,
   "metadata": {},
   "outputs": [],
   "source": []
  },
  {
   "cell_type": "code",
   "execution_count": null,
   "metadata": {},
   "outputs": [],
   "source": []
  }
 ],
 "metadata": {
  "kernelspec": {
   "display_name": "Python 3",
   "language": "python",
   "name": "python3"
  },
  "language_info": {
   "codemirror_mode": {
    "name": "ipython",
    "version": 3
   },
   "file_extension": ".py",
   "mimetype": "text/x-python",
   "name": "python",
   "nbconvert_exporter": "python",
   "pygments_lexer": "ipython3",
   "version": "3.7.6"
  },
  "latex_envs": {
   "LaTeX_envs_menu_present": true,
   "autoclose": false,
   "autocomplete": true,
   "bibliofile": "biblio.bib",
   "cite_by": "apalike",
   "current_citInitial": 1,
   "eqLabelWithNumbers": true,
   "eqNumInitial": 1,
   "hotkeys": {
    "equation": "Ctrl-E",
    "itemize": "Ctrl-I"
   },
   "labels_anchors": false,
   "latex_user_defs": false,
   "report_style_numbering": false,
   "user_envs_cfg": false
  },
  "toc": {
   "base_numbering": 1,
   "nav_menu": {},
   "number_sections": false,
   "sideBar": true,
   "skip_h1_title": false,
   "title_cell": "Table of Contents",
   "title_sidebar": "Contents",
   "toc_cell": false,
   "toc_position": {},
   "toc_section_display": true,
   "toc_window_display": true
  }
 },
 "nbformat": 4,
 "nbformat_minor": 4
}
