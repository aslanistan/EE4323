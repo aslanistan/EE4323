{
 "cells": [
  {
   "cell_type": "markdown",
   "metadata": {},
   "source": [
    "### II. Trigonometric, Power, and Logarithmic  Simplification"
   ]
  },
  {
   "cell_type": "markdown",
   "metadata": {},
   "source": [
    "#### 1) Trigonometric Simplification"
   ]
  },
  {
   "cell_type": "code",
   "execution_count": 6,
   "metadata": {},
   "outputs": [],
   "source": [
    "# import sympy as sp\n",
    "# sp.init_printing() # Pretty printing \n",
    "# import numpy as np"
   ]
  },
  {
   "cell_type": "markdown",
   "metadata": {},
   "source": [
    "##########################################################################"
   ]
  },
  {
   "cell_type": "code",
   "execution_count": 7,
   "metadata": {},
   "outputs": [],
   "source": [
    "# x,y = sp.symbols('x y') # Create multiple variable symbols\n",
    "# f1=sp.cos(x)\n",
    "# f2=sp.sin(x)\n",
    "# sp.acos(f1)\n",
    "# sp.simplify(sp.acos(f1))\n",
    "# f1+f2\n",
    "# f1**2+f2**2\n",
    "# (f1**2+f2**2).subs(x,0)\n",
    "# f=f1**2+f2**2\n",
    "# a=np.linspace(-np.pi,np.pi,10)\n",
    "# g=sp.lambdify(x,f,'numpy')\n",
    "# g(a)\n",
    "# for i in a:\n",
    "#     print(f.subs(x,i))"
   ]
  },
  {
   "cell_type": "markdown",
   "metadata": {},
   "source": [
    "#### 1.1) Trigsimp"
   ]
  },
  {
   "cell_type": "code",
   "execution_count": 8,
   "metadata": {},
   "outputs": [],
   "source": [
    "# sp.cos(sp.pi/2-x)\n",
    "# sp.sin(x)*sp.cos(y)+sp.sin(y)*sp.cos(x)\n",
    "# sp.trigsimp(sp.sin(x)*sp.cos(y)+sp.sin(y)*sp.cos(x))\n",
    "# sp.trigsimp(sp.sin(x)*sp.cos(y)-sp.sin(y)*sp.cos(x))\n",
    "# sp.trigsimp((sp.cot(x)*sp.cot(y)-1)/(sp.cot(y)+sp.cot(x))) # may have limitations\n",
    "# sp.trigsimp(sp.sinh(x)/sp.tanh(x))"
   ]
  },
  {
   "cell_type": "markdown",
   "metadata": {},
   "source": [
    "#### 1.2) Expand_trig"
   ]
  },
  {
   "cell_type": "code",
   "execution_count": 9,
   "metadata": {},
   "outputs": [],
   "source": [
    "# sp.sin(x)*sp.cos(y)+sp.sin(y)*sp.cos(x)\n",
    "# sp.expand_trig(sp.sin(x+y))\n",
    "# sp.expand_trig(sp.cot(x+y))\n",
    "# k=sp.expand_trig(sp.cot(x+y))\n",
    "# k\n",
    "# sp.trigsimp(k) # limitation"
   ]
  },
  {
   "cell_type": "markdown",
   "metadata": {},
   "source": [
    "##########################################################################"
   ]
  },
  {
   "cell_type": "markdown",
   "metadata": {},
   "source": [
    "#### 2) Power Simplification"
   ]
  },
  {
   "cell_type": "markdown",
   "metadata": {},
   "source": [
    "I. $\\displaystyle {x^ax^b = x^{a+b}}$ \n",
    "\n",
    "II. $\\displaystyle {x^ay^a = (xy)^a}$ \n",
    "\n",
    "III. $\\displaystyle {(x^a)^b = x^{ab}}$ "
   ]
  },
  {
   "cell_type": "code",
   "execution_count": 15,
   "metadata": {},
   "outputs": [],
   "source": [
    "# x, y = sp.symbols('x y', positive=True)\n",
    "# a, b, c = sp.symbols('a b c', real=True)\n",
    "# z, t, r = sp.symbols('z t r')\n",
    "# sp.sqrt(x) == x**sp.Rational(1, 2)"
   ]
  },
  {
   "cell_type": "markdown",
   "metadata": {},
   "source": [
    "#### 2.1) Powsimp"
   ]
  },
  {
   "cell_type": "code",
   "execution_count": 16,
   "metadata": {},
   "outputs": [],
   "source": [
    "# f = x**2*x**3\n",
    "# f = x**a*x**b*x**c\n",
    "# f.powsimp()\n",
    "# sp.powsimp(x**a*x**b*x**c)\n",
    "# sp.powsimp(x**a*y**a*z**a)\n",
    "# sp.powsimp(x**a*y**a*z**a)\n",
    "# sp.powsimp(x**a*y**a*z**a, force=True)\n",
    "# f=x**a*y**a*z**a\n",
    "# f.powsimp(force=True) # may not work ??"
   ]
  },
  {
   "cell_type": "markdown",
   "metadata": {},
   "source": [
    "#### 2.2) Expand_power_exp / Expand_power_base"
   ]
  },
  {
   "cell_type": "code",
   "execution_count": 17,
   "metadata": {},
   "outputs": [],
   "source": [
    "# sp.expand_power_exp(x**(a + b+c))\n",
    "# sp.expand_power_exp((x*y)**(a + b+c))\n",
    "# sp.expand_power_base((x*y*z)**a)\n",
    "# sp.expand_power_base(sp.expand_power_exp((x*y)**(a + b+c)))"
   ]
  },
  {
   "cell_type": "markdown",
   "metadata": {},
   "source": [
    "#### 2.3) Powdenest"
   ]
  },
  {
   "cell_type": "code",
   "execution_count": 20,
   "metadata": {},
   "outputs": [],
   "source": [
    "# sp.powdenest((x**a)**b)\n",
    "# sp.powdenest((x**a)**b, force=True)"
   ]
  },
  {
   "cell_type": "markdown",
   "metadata": {},
   "source": [
    "#### 3) Exponentials and Logarithms"
   ]
  },
  {
   "cell_type": "code",
   "execution_count": 24,
   "metadata": {},
   "outputs": [],
   "source": [
    "# sp.log(x)\n",
    "# sp.ln(x)\n",
    "# sp.log(10)\n",
    "# sp.log(10).evalf()"
   ]
  },
  {
   "cell_type": "markdown",
   "metadata": {},
   "source": [
    "#### 3.1) Expand_log"
   ]
  },
  {
   "cell_type": "code",
   "execution_count": 25,
   "metadata": {},
   "outputs": [],
   "source": [
    "# f1=sp.log(x*y)\n",
    "# f2=sp.log(x/y)\n",
    "# f3=sp.log(x**n)\n",
    "# sp.expand_log(f1)\n",
    "# sp.expand_log(f2)\n",
    "# sp.expand_log(f3)\n",
    "# n = sp.symbols('n', real=True)\n",
    "# f3=sp.log(x**n)\n",
    "# sp.expand_log(f3)"
   ]
  },
  {
   "cell_type": "markdown",
   "metadata": {},
   "source": [
    "#### 3.2) Logcombine"
   ]
  },
  {
   "cell_type": "code",
   "execution_count": 28,
   "metadata": {},
   "outputs": [],
   "source": [
    "# x,y,z = sp.symbols('x y z', positive=True)\n",
    "# n = sp.symbols('n', real=True)\n",
    "# f=f1+f2+f3\n",
    "# f\n",
    "# sp.logcombine(f)\n",
    "# f=f1+f2-f3\n",
    "# f\n",
    "# sp.logcombine(f)\n",
    "# f=n*f1\n",
    "# f\n",
    "# sp.logcombine(f)\n",
    "# f=n*f1+f2-f3/n\n",
    "# f\n",
    "# sp.logcombine(f)"
   ]
  },
  {
   "cell_type": "markdown",
   "metadata": {},
   "source": [
    "#### 4) Special Functions\n",
    "Yoy can see list of all functions at [Sympy Document website](http://docs.sympy.org/latest/modules/functions/index.html#functions-contents)."
   ]
  },
  {
   "cell_type": "markdown",
   "metadata": {},
   "source": [
    "#### 4.1) Factorial"
   ]
  },
  {
   "cell_type": "code",
   "execution_count": 31,
   "metadata": {},
   "outputs": [],
   "source": [
    "# sp.factorial(n)\n",
    "# sp.factorial(4)"
   ]
  },
  {
   "cell_type": "markdown",
   "metadata": {},
   "source": [
    "#### 4.2) Binomial"
   ]
  },
  {
   "cell_type": "code",
   "execution_count": 32,
   "metadata": {},
   "outputs": [],
   "source": [
    "# n,k = sp.symbols('n k', real=True)\n",
    "# sp.binomial(n,k)\n",
    "# sp.binomial(5,2)\n",
    "# sp.factorial(5)/(sp.factorial(2)*sp.factorial(5-2))\n",
    "# sp.binomial(10,4)\n",
    "# sp.factorial(10)/(sp.factorial(4)*sp.factorial(10-4))"
   ]
  },
  {
   "cell_type": "markdown",
   "metadata": {},
   "source": [
    "#### 4.3) Rewrite"
   ]
  },
  {
   "cell_type": "code",
   "execution_count": null,
   "metadata": {},
   "outputs": [],
   "source": [
    "# sp.tan(x).rewrite(sp.sin)\n",
    "# sp.tan(x).rewrite(sp.cos)\n",
    "# sp.cot(x).rewrite(sp.sin)\n",
    "# sp.cot(x).rewrite(sp.cos)"
   ]
  }
 ],
 "metadata": {
  "kernelspec": {
   "display_name": "Python 3",
   "language": "python",
   "name": "python3"
  },
  "language_info": {
   "codemirror_mode": {
    "name": "ipython",
    "version": 3
   },
   "file_extension": ".py",
   "mimetype": "text/x-python",
   "name": "python",
   "nbconvert_exporter": "python",
   "pygments_lexer": "ipython3",
   "version": "3.6.9"
  }
 },
 "nbformat": 4,
 "nbformat_minor": 4
}
