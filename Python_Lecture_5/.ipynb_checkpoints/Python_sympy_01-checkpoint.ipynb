{
 "cells": [
  {
   "cell_type": "markdown",
   "metadata": {},
   "source": [
    "# Lecture 5- Introduction to Sympy and Numpy\n",
    "<center>Dr. Aslan</center>\n",
    "## Introduction to Sympy"
   ]
  },
  {
   "cell_type": "markdown",
   "metadata": {},
   "source": [
    "\"SymPy is a Python library for symbolic mathematics. It aims to become a full-featured computer algebra system (CAS) while keeping the code as simple as possible in order to be comprehensible and easily extensible. SymPy is written entirely in Python.\" - http://www.sympy.org/"
   ]
  },
  {
   "cell_type": "markdown",
   "metadata": {},
   "source": [
    "### I. Basic Operations\n",
    "#### 1) Installation and Creating Variable Symbols"
   ]
  },
  {
   "cell_type": "code",
   "execution_count": 30,
   "metadata": {},
   "outputs": [],
   "source": [
    "# import sympy \n",
    "# import sympy as sp\n",
    "# from sympy import *\n",
    "# from sympy import sqrt"
   ]
  },
  {
   "cell_type": "code",
   "execution_count": 2,
   "metadata": {},
   "outputs": [],
   "source": [
    "## Other libraries Numpy, Scipy etc\n",
    "# import numpy as np\n",
    "# import matplotlib.pyplot as ply"
   ]
  },
  {
   "cell_type": "code",
   "execution_count": 3,
   "metadata": {},
   "outputs": [],
   "source": [
    "# sp.init_printing() # Pretty printing "
   ]
  },
  {
   "cell_type": "code",
   "execution_count": 4,
   "metadata": {},
   "outputs": [],
   "source": [
    "# x = sp.Symbol(\"x\") # Create s single variable symbol\n",
    "# x,y = sp.symbols('x y') # Create multiple variable symbols\n",
    "# z = sp.symbols('z') # Can be used for creating single variable symbol"
   ]
  },
  {
   "cell_type": "code",
   "execution_count": 5,
   "metadata": {},
   "outputs": [],
   "source": [
    "## We can also declere type of variables when we create the variables\n",
    "# y = sp.symbols(\"y\", complex=True)\n",
    "# y.is_complex"
   ]
  },
  {
   "cell_type": "markdown",
   "metadata": {},
   "source": [
    "#### Examples"
   ]
  },
  {
   "cell_type": "code",
   "execution_count": 4,
   "metadata": {},
   "outputs": [],
   "source": [
    "# from math import sqrt\n",
    "# sqrt(2)   # square root calculation using Python math library\n",
    "# sp.sqrt(2) # square root calculation using sympy library\n",
    "# sqrt(2)*sqrt(2)\n",
    "# sp.sqrt(2)*sp.sqrt(2)\n",
    "# x,y = sp.symbols('x y') # Create multiple variable symbols\n",
    "# x+x"
   ]
  },
  {
   "cell_type": "markdown",
   "metadata": {},
   "source": [
    "#### Exercise 1.\n",
    "Create four variables x(real),y(complex),z(default),t(imaginary)"
   ]
  },
  {
   "cell_type": "markdown",
   "metadata": {},
   "source": [
    "##########################################################################"
   ]
  },
  {
   "cell_type": "markdown",
   "metadata": {},
   "source": [
    "#### 2) Substitution"
   ]
  },
  {
   "cell_type": "code",
   "execution_count": 5,
   "metadata": {},
   "outputs": [],
   "source": [
    "# x, y, z = sp.symbols('x y z')"
   ]
  },
  {
   "cell_type": "code",
   "execution_count": 6,
   "metadata": {},
   "outputs": [],
   "source": [
    "# f = sp.sin(x)+1\n",
    "# f.subs(x,1)\n",
    "# f.subs(x,y)\n",
    "# f.subs(x,sp.pi/2)\n",
    "# f.subs(x,-sp.pi/2)\n",
    "# k = sp.sin(x)+sp.cos(y)+z+1\n",
    "# k.subs([(x, sp.pi/2), (y, sp.pi), (z, 2)])"
   ]
  },
  {
   "cell_type": "markdown",
   "metadata": {},
   "source": [
    "#### Exercise 2.\n",
    "I. Calculate $c = \\sqrt{a^2 + b^2}$ for a=2 and b=3.\n",
    "\n",
    "II. Calculate $c = \\sqrt{a^2 + b^2}$ for a=(2,3,4) and b=(3,8,3)."
   ]
  },
  {
   "cell_type": "markdown",
   "metadata": {},
   "source": [
    "##########################################################################"
   ]
  },
  {
   "cell_type": "markdown",
   "metadata": {},
   "source": [
    "#### 3) Evaluating Numerical Expressions"
   ]
  },
  {
   "cell_type": "code",
   "execution_count": 8,
   "metadata": {},
   "outputs": [],
   "source": [
    "# f = sp.sin(x)+1\n",
    "# f.subs(x,2)\n",
    "# f.subs(x,2).evalf()\n",
    "# a=sp.sqrt(2)\n",
    "# a.evalf()\n",
    "# sp.pi\n",
    "# sp.pi.evalf()\n",
    "# sp.pi.evalf(100)\n",
    "# f = sp.sin(x)+1\n",
    "# f.subs(x,2).evalf()\n",
    "# f.evalf(subs={x:2})\n",
    "# f=sp.cos(x)**2+sp.sin(x)**2\n",
    "# f.evalf(subs={x:2})\n",
    "# f.subs(x,2)\n",
    "# (1-f.subs(x,2)).evalf()\n",
    "# (1-f.subs(x,2)).evalf(chop=True)"
   ]
  },
  {
   "cell_type": "markdown",
   "metadata": {},
   "source": [
    "#### Exercise 3.\n",
    "I. Find numarical values of $c = \\sqrt{a^2 + b^2}$ for a=2 and b=3.\n",
    "\n",
    "II. Find numarical values of  $c = \\sqrt{a^2 + b^2}$ for a=(2,3,4) and b=(3,8,3)."
   ]
  },
  {
   "cell_type": "markdown",
   "metadata": {},
   "source": [
    "##########################################################################"
   ]
  },
  {
   "cell_type": "markdown",
   "metadata": {},
   "source": [
    "#### 4) Multiple Point Evaluation\n",
    "\n",
    "Assume we want to calulate _f = sin(x)+1_ for x=[1,2,3,4,5]. We can do it using for loop as follows:"
   ]
  },
  {
   "cell_type": "code",
   "execution_count": 1,
   "metadata": {},
   "outputs": [],
   "source": [
    "# f = sp.sin(x)+1\n",
    "# for i in range(1,6):\n",
    "#    print(f.subs(x,i).evalf())\n",
    "## We can do same by converting f into function. \n",
    "# import numpy as np\n",
    "# a=np.arange(1,6)\n",
    "# g=sp.lambdify(x,f,'numpy') # g will be function - more will come\n",
    "# type(g)\n",
    "# g(a)\n",
    "# g=sp.lambdify(x,f,'math') # you can use other libraries\n",
    "# g(1)\n",
    "## lambdify can be used as functions - creates functions \n",
    "## for example if we want to calculate f(x) = 2x^2\n",
    "# f=sp.lambdify(x,2*x**2)\n",
    "# f(1)"
   ]
  },
  {
   "cell_type": "markdown",
   "metadata": {},
   "source": [
    "#### Exercise 4.\n",
    "Find numarical values of  $c = \\sqrt{a^2 + b^2}$ for a=(2,3,4) and b=(3,8,3) using lambdify."
   ]
  },
  {
   "cell_type": "markdown",
   "metadata": {},
   "source": [
    "##########################################################################"
   ]
  },
  {
   "cell_type": "markdown",
   "metadata": {},
   "source": [
    "#### 5) Converting Strings to SymPy Expressions"
   ]
  },
  {
   "cell_type": "code",
   "execution_count": 14,
   "metadata": {},
   "outputs": [],
   "source": [
    "# m = 'x**2 + y**2 + z'\n",
    "# type(m)\n",
    "# f=sp.sympify(m)   # it is not simplify\n",
    "# f\n",
    "# f.subs([(x,2),(y,1),(z,3)])\n",
    "# x,y,z=sp.symbols('x y z')\n",
    "# f.subs([(x,2),(y,1),(z,3)])"
   ]
  },
  {
   "cell_type": "markdown",
   "metadata": {},
   "source": [
    "#### Exercise 5.\n",
    "Write a function as string and convert it to Sympy expression and evaluate if for 4 values. "
   ]
  },
  {
   "cell_type": "markdown",
   "metadata": {},
   "source": [
    "##########################################################################"
   ]
  },
  {
   "cell_type": "markdown",
   "metadata": {},
   "source": [
    "#### 5) Simplification of SymPy Expressions\n",
    "##### 5.1) Simplify "
   ]
  },
  {
   "cell_type": "code",
   "execution_count": 29,
   "metadata": {},
   "outputs": [],
   "source": [
    "# x,y,z = sp.symbols('x y z')\n",
    "# f=(x**2-1)/(x-1)\n",
    "# f\n",
    "# f.simplify()\n",
    "# sp.simplify((x**2-1)/(x-1))\n",
    "# sp.simplify(sp.sin(x)**2+sp.cos(x)**2)\n",
    "# sp.simplify((x-1)*(x+1))"
   ]
  },
  {
   "cell_type": "markdown",
   "metadata": {},
   "source": [
    "##### 5.2) Factor"
   ]
  },
  {
   "cell_type": "code",
   "execution_count": 17,
   "metadata": {},
   "outputs": [],
   "source": [
    "# sp.factor(x**2- 4*x +4)\n",
    "# sp.factor(x**2- 4*x)\n",
    "# sp.factor(x**2- 4*x +1)\n",
    "# sp.factor(x**3- 6*x**2 +12*x-8)"
   ]
  },
  {
   "cell_type": "markdown",
   "metadata": {},
   "source": [
    "##### 5.3) Expand"
   ]
  },
  {
   "cell_type": "code",
   "execution_count": 19,
   "metadata": {},
   "outputs": [],
   "source": [
    "# sp.expand((x-2)**3)\n",
    "# sp.expand((x-2)**2)\n",
    "# sp.expand((x + 1)*(x - 2) - (x - 1)*x)\n",
    "# f=(x**2 + 3*x - x*(x+3))\n",
    "# f.factor()\n",
    "# f.expand()\n",
    "# f.simplify()"
   ]
  },
  {
   "cell_type": "markdown",
   "metadata": {},
   "source": [
    "##### 5.4) Collect"
   ]
  },
  {
   "cell_type": "code",
   "execution_count": 20,
   "metadata": {},
   "outputs": [],
   "source": [
    "# f=x*y+x**2-3*x+x*z+z*x**2\n",
    "# f.collect(x)\n",
    "# f.collect(z)\n",
    "# f.collect(x).coeff(x,2)\n",
    "# f.collect(x).coeff(x,1)\n",
    "# f.collect(z).coeff(z,2)\n",
    "# f.collect(z).coeff(z,1)\n",
    "# m=f.collect(x) \n",
    "# m.coeff(x,1)"
   ]
  },
  {
   "cell_type": "markdown",
   "metadata": {},
   "source": [
    "##### 5.5) Cancel"
   ]
  },
  {
   "cell_type": "code",
   "execution_count": 31,
   "metadata": {},
   "outputs": [],
   "source": [
    "# f=(x**2 - 2*x +1)*(x-1)/(x**2-1)\n",
    "# f.factor()\n",
    "# f.cancel()\n",
    "# f=(x**2 - 2*x +1)*(x+1)/(x**2-1)\n",
    "# f.factor()\n",
    "# f.cancel()"
   ]
  },
  {
   "cell_type": "markdown",
   "metadata": {},
   "source": [
    "##### 5.6) Apart\n",
    "Performs a partial fraction decomposition on a rational function."
   ]
  },
  {
   "cell_type": "code",
   "execution_count": 32,
   "metadata": {},
   "outputs": [],
   "source": [
    "# f=(x**2 - 2*x +1)*(x-1)/(x**2-1)\n",
    "# f.apart()\n",
    "# f=(x**2 - 2*x +1)*(x+3)/((x+2)*(x**2-1))\n",
    "# f.apart()"
   ]
  }
 ],
 "metadata": {
  "kernelspec": {
   "display_name": "Python 3",
   "language": "python",
   "name": "python3"
  },
  "language_info": {
   "codemirror_mode": {
    "name": "ipython",
    "version": 3
   },
   "file_extension": ".py",
   "mimetype": "text/x-python",
   "name": "python",
   "nbconvert_exporter": "python",
   "pygments_lexer": "ipython3",
   "version": "3.6.9"
  }
 },
 "nbformat": 4,
 "nbformat_minor": 4
}
