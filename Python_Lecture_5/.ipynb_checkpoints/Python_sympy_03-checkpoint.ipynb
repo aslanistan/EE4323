{
 "cells": [
  {
   "cell_type": "markdown",
   "metadata": {},
   "source": [
    "### III. Calculus"
   ]
  },
  {
   "cell_type": "markdown",
   "metadata": {},
   "source": [
    "#### 1) Derivatives\n",
    "In this section we will be looking into derivatives. \n",
    "\n",
    "$$\\frac{d}{dt}f(t)$$ where f(t) is function of t.  "
   ]
  },
  {
   "cell_type": "code",
   "execution_count": 10,
   "metadata": {},
   "outputs": [],
   "source": [
    "# import sympy as sp\n",
    "# sp.init_printing() # Pretty printing \n",
    "# import numpy as np"
   ]
  },
  {
   "cell_type": "markdown",
   "metadata": {},
   "source": [
    "##########################################################################"
   ]
  },
  {
   "cell_type": "code",
   "execution_count": 11,
   "metadata": {},
   "outputs": [],
   "source": [
    "# x,y,z,n = sp.symbols('x y z n') # Create multiple variable symbols\n",
    "# f1=x**6\n",
    "# f2=3*x**2 - 4*x +2\n",
    "# f3=sp.cos(x)\n",
    "# f4=sp.sin(x)\n",
    "# sp.diff(f1)\n",
    "# sp.diff(f2)\n",
    "# sp.diff(f3)\n",
    "# sp.diff(f4)\n",
    "## The are few different way to do nth derivative.\n",
    "# sp.diff(f1,x,4)  # fourth derivative\n",
    "# sp.diff(f1,x,x,x,x)  # fourth derivative\n",
    "# sp.diff(sp.diff(sp.diff(sp.diff(f1))))  # fourth derivative\n",
    "# k = sp.Derivative(f1, x, y, y, z, 4)\n",
    "# k"
   ]
  },
  {
   "cell_type": "markdown",
   "metadata": {},
   "source": [
    "We can also perform partial derivative that can be perform for multiple variables.\n",
    "$$\\frac{\\partial ^n}{\\partial x \\partial y \\partial z ...}f(x,y,z,...)$$ \n",
    "\n",
    "##### Example 1. \n",
    "Assume we have $$f(x,y,z)=x^4y^2z+2x^2y^3+z$$ and we want to find\n",
    "$$\\frac{\\partial ^4}{\\partial x \\partial y^2 \\partial z}f(x,y,z)$$ \n",
    "\n"
   ]
  },
  {
   "cell_type": "code",
   "execution_count": 12,
   "metadata": {},
   "outputs": [],
   "source": [
    "# x,y,z,n = sp.symbols('x y z n') # Create multiple variable symbols\n",
    "# f1=x**4*y**2*z+2*x**2*y**3+z\n",
    "# f1\n",
    "# sp.diff(f1, x, y, y, z)"
   ]
  },
  {
   "cell_type": "markdown",
   "metadata": {},
   "source": [
    "#### 2) Integrals\n",
    "If we want to integrate a function f(t)\n",
    "$$\\int f(x) dx$$"
   ]
  },
  {
   "cell_type": "code",
   "execution_count": 13,
   "metadata": {},
   "outputs": [],
   "source": [
    "# x,y,z,n = sp.symbols('x y z n') # Create multiple variable symbols\n",
    "# f1=x**6\n",
    "# f2=3*x**2 - 4*x +2\n",
    "# f3=sp.cos(x)\n",
    "# f4=sp.sin(x)\n",
    "# sp.integrate(f1,x)\n",
    "# sp.integrate(f2,x)\n",
    "# sp.integrate(f3,x)\n",
    "# sp.integrate(f4,x)\n",
    "# sp.integrate(sp.integrate(f3,x),x)\n",
    "# sp.integrate(f3,x,x)\n",
    "# f5= x**x   # if sympy cannot integrate \n",
    "# sp.integrate(f5,x) # it will return to unevaluated integral\n",
    "# sp.Integral(f1,x) # if we want unevalauted integral, use Integral"
   ]
  },
  {
   "cell_type": "markdown",
   "metadata": {},
   "source": [
    "If we want to solve a definite integral\n",
    "\n",
    "$$\\int_{x_1}^{x_2} f(x) dx$$"
   ]
  },
  {
   "cell_type": "code",
   "execution_count": 14,
   "metadata": {},
   "outputs": [],
   "source": [
    "# x,y,z,n = sp.symbols('x y z n') # Create multiple variable symbols\n",
    "# f1=x**6\n",
    "# f2=3*x**2 - 4*x +2\n",
    "# f3=sp.cos(x)\n",
    "# f4=sp.sin(x)\n",
    "# f5=sp.exp(x)\n",
    "# sp.integrate(f1,(x,0,1))\n",
    "# sp.integrate(f2,(x,-1,1))\n",
    "# sp.integrate(f3,(x,-sp.pi/2,sp.pi/2))\n",
    "# sp.integrate(f4,(x,0,sp.pi))\n",
    "# sp.integrate(f5,(x,-sp.oo,0))\n",
    "# sp.integrate(f5,(x,0,sp.oo))"
   ]
  },
  {
   "cell_type": "markdown",
   "metadata": {},
   "source": [
    "If we have multilevel integrals:\n",
    "\n",
    "$$\\int_{x_1}^{x_2} \\int_{y_1}^{y_2}f(x,y) dxdy$$"
   ]
  },
  {
   "cell_type": "code",
   "execution_count": 15,
   "metadata": {},
   "outputs": [],
   "source": [
    "# x,y,z,n = sp.symbols('x y z n') # Create multiple variable symbols\n",
    "# f1=3*x**2*y- 4*x +2*y\n",
    "# f2=sp.sin(x)*sp.cos(y)\n",
    "# f3=sp.exp(x+y)\n",
    "# sp.integrate(f1,x,y)\n",
    "# sp.integrate(f2,x,y)\n",
    "# sp.integrate(f3,x,y)\n",
    "# sp.integrate(f1,(x,0,2),(y,0,1))\n",
    "# sp.integrate(f2,(x,0,sp.pi/2),(y,0,sp.pi/2))\n",
    "# sp.integrate(f3,(x,-sp.oo,0),(y,-sp.oo,0))\n",
    "# sp.integrate(f3,(x,0,2),(y,0,1))"
   ]
  },
  {
   "cell_type": "markdown",
   "metadata": {},
   "source": [
    "##########################################################################"
   ]
  },
  {
   "cell_type": "markdown",
   "metadata": {},
   "source": [
    "#### 3) Limits\n",
    "Sympy can be used to calculate limits.\n",
    "$$\\lim_{t\\rightarrow t_0}f(t)$$"
   ]
  },
  {
   "cell_type": "code",
   "execution_count": 16,
   "metadata": {},
   "outputs": [],
   "source": [
    "# x,y,z,n = sp.symbols('x y z n') # Create multiple variable symbols\n",
    "# f1=x**6\n",
    "# f2=sp.cos(x)\n",
    "# f3=sp.sin(x)\n",
    "# f4=sp.exp(-x)\n",
    "# sp.limit(f1,x,1)\n",
    "# sp.limit(f2,x,0)\n",
    "# sp.limit(f3,x,0)\n",
    "# sp.limit(sp.sin(x)/x,x,0) # remember sinc function\n",
    "# sp.limit(f4,x,0)\n",
    "# sp.limit(f4,x,sp.oo)"
   ]
  },
  {
   "cell_type": "markdown",
   "metadata": {},
   "source": [
    "If we are trying to find\n",
    "$$\\lim_{t\\rightarrow t_0^-}f(t) \\text { or } \\lim_{t\\rightarrow t_0^+}f(t)$$"
   ]
  },
  {
   "cell_type": "code",
   "execution_count": 17,
   "metadata": {},
   "outputs": [],
   "source": [
    "# f = 1/x\n",
    "# sp.limit(f,x,0,'-')\n",
    "# sp.limit(f,x,0,'+')"
   ]
  },
  {
   "cell_type": "markdown",
   "metadata": {},
   "source": [
    "#### 4) Series Expansion"
   ]
  },
  {
   "cell_type": "code",
   "execution_count": 18,
   "metadata": {},
   "outputs": [],
   "source": [
    "# x,y,z,n = sp.symbols('x y z n') # Create multiple variable symbols\n",
    "# f1=sp.exp(x)\n",
    "# f2=sp.cos(x)\n",
    "# f3=sp.sin(x)\n",
    "# f1.series(x,0,7)\n",
    "# f2.series(x,0,7)\n",
    "# f3.series(x,0,7)\n",
    "# f1.series(x,0,7).removeO()\n",
    "# f2.series(x,0,7).removeO()\n",
    "# f3.series(x,0,7).removeO()"
   ]
  },
  {
   "cell_type": "markdown",
   "metadata": {},
   "source": [
    "##### Example"
   ]
  },
  {
   "cell_type": "code",
   "execution_count": null,
   "metadata": {},
   "outputs": [],
   "source": [
    "# g=sp.sin(x)\n",
    "# g(1) # will give an error\n",
    "# g=sp.lambdify(x,sp.sin(x))\n",
    "# g(1) # will calculate sin(1)\n",
    "# f1=sp.sin(x)\n",
    "# f11=f1.series(x,0,7).removeO()\n",
    "# f11\n",
    "# f12=f1.series(x,0,14).removeO()\n",
    "# f12\n",
    "# f11=sp.lambdify(x,f1.series(x,0,7).removeO())\n",
    "# f11\n",
    "# f12=sp.lambdify(x,f1.series(x,0,14).removeO())\n",
    "# f12\n",
    "# e1=100*(f11(1)-g(1))/g(1) # The percent error is 100 times the relative error\n",
    "# e1\n",
    "# e2=100*(f12(1)-g(1))/g(1)\n",
    "# e2\n",
    "# e1/e2"
   ]
  }
 ],
 "metadata": {
  "kernelspec": {
   "display_name": "Python 3",
   "language": "python",
   "name": "python3"
  },
  "language_info": {
   "codemirror_mode": {
    "name": "ipython",
    "version": 3
   },
   "file_extension": ".py",
   "mimetype": "text/x-python",
   "name": "python",
   "nbconvert_exporter": "python",
   "pygments_lexer": "ipython3",
   "version": "3.6.9"
  }
 },
 "nbformat": 4,
 "nbformat_minor": 4
}
