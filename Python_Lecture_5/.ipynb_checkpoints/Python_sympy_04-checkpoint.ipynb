{
 "cells": [
  {
   "cell_type": "markdown",
   "metadata": {},
   "source": [
    "### IV. Solvers"
   ]
  },
  {
   "cell_type": "markdown",
   "metadata": {},
   "source": [
    "#### 1) Equations  "
   ]
  },
  {
   "cell_type": "code",
   "execution_count": 2,
   "metadata": {},
   "outputs": [],
   "source": [
    "# import sympy as sp\n",
    "# sp.init_printing() # Pretty printing \n",
    "# import numpy as np"
   ]
  },
  {
   "cell_type": "markdown",
   "metadata": {},
   "source": [
    "##########################################################################"
   ]
  },
  {
   "cell_type": "code",
   "execution_count": 3,
   "metadata": {},
   "outputs": [],
   "source": [
    "# x,y,z,n = sp.symbols('x y z n') \n",
    "# f=x**6  # this is a function\n",
    "# x+1 == -1 # this will return False\n",
    "# x+1 = -1 # this will create an error \n",
    "# sp.Eq(x+1,-1) # this will create the equation\n",
    "# f1 = sp.Eq(x+1,1) # assign the equations to object\n",
    "# f2 = sp.Eq(x**2-1,0) \n",
    "# f2\n",
    "# f2 = sp.Eq(x**2-1)\n",
    "# f2\n",
    "# f2 = sp.Eq(x**2,1)\n",
    "# f2"
   ]
  },
  {
   "cell_type": "code",
   "execution_count": 1,
   "metadata": {},
   "outputs": [],
   "source": [
    "# sp.solve(f1)\n",
    "# sp.solve(f1,x)\n",
    "# sp.solve(sp.Eq(x+1,-1),x)\n",
    "# sp.solve(sp.Eq(x+1,-1))\n",
    "# sp.solveset(sp.Eq(x+1,-1))\n",
    "# sp.solve(f2)\n",
    "# sp.solve(f2,x)\n",
    "# sp.solve(sp.Eq(x**2,1),x)\n",
    "# sp.solve(sp.Eq(x**2,1))\n",
    "# sp.solveset(sp.Eq(x**2,1))\n",
    "# sp.solve((x**2-1))\n",
    "# sp.solve((x**2-1),x)\n",
    "# sp.solveset((x**2-1))\n",
    "# sp.solveset((x**2-1),x)"
   ]
  },
  {
   "cell_type": "code",
   "execution_count": 13,
   "metadata": {},
   "outputs": [],
   "source": [
    "# sp.solveset(x - x, x) # This will return all complex numbers\n",
    "# sp.solveset(x - x, x, domain=sp.S.Reals) # All real numbers\n",
    "# sp.solveset(sp.cos(x) - 1, x, domain=sp.S.Reals) \n",
    "# sp.solveset(sp.sin(x) - 1, x, domain=sp.S.Reals) "
   ]
  },
  {
   "cell_type": "markdown",
   "metadata": {},
   "source": [
    "If we want to solve linear equation we need to use _linsolve_\n",
    "\n",
    "PS: The non linear system of equations is solved using nonlinsolve. The non linear solutions are not covered here. Please see [Sympy manual](http://docs.sympy.org/latest/tutorial/solvers.html) non linear equation examples.   "
   ]
  },
  {
   "cell_type": "code",
   "execution_count": 4,
   "metadata": {},
   "outputs": [],
   "source": [
    "# f1=sp.Eq(x+y,1)\n",
    "# f2=sp.Eq(x-y,2)\n",
    "# sp.linsolve([f1,f2], (x, y))\n",
    "## Another example with 3 variables\n",
    "## List of Equations form\n",
    "# f1=sp.Eq(x+y+z,1)\n",
    "# f2=sp.Eq(x+2*y-3*z,-2)\n",
    "# f3=sp.Eq(-2*x+3*y+z,0)\n",
    "## Augmented Matrix Form \n",
    "# m1=[1,1,1,1]\n",
    "# m2=[1,2,-3,-2]\n",
    "# m3=[-2,3,1,0]\n",
    "# M=sp.Matrix([m1,m2,m3])\n",
    "# sp.linsolve(M, (x, y,z))\n",
    "# A*x = b Form\n",
    "# system = A, b = M[:, :-1], M[:, -1] # A=M[:, :-1], b=M[:, -1]\n",
    "# sp.linsolve(system, (x, y,z))"
   ]
  },
  {
   "cell_type": "markdown",
   "metadata": {},
   "source": [
    "#### 2) Differential Equations  "
   ]
  },
  {
   "cell_type": "code",
   "execution_count": 5,
   "metadata": {},
   "outputs": [],
   "source": [
    "# f, g = sp.symbols('f g', cls=sp.Function) # we need to create function class\n",
    "# f(x)\n",
    "# g(x)\n",
    "# f(x).diff(x) # not evaluated"
   ]
  },
  {
   "cell_type": "markdown",
   "metadata": {},
   "source": [
    "if we want to enter $f'''(x) - 3f''(x)+f(x) = 3cos(x)$ in Sympy"
   ]
  },
  {
   "cell_type": "code",
   "execution_count": 6,
   "metadata": {},
   "outputs": [],
   "source": [
    "# eqq=sp.Eq(f(x).diff(x,x,x)-3*f(x).diff(x,x)+f(x),sp.cos(x))\n",
    "# eqq\n",
    "# sp.dsolve(eqq,f(x))\n",
    "# eqq=sp.Eq(f(x).diff(x,x)-2*f(x).diff(x)+f(x),sp.cos(x))\n",
    "# eqq\n",
    "# sp.dsolve(eqq,f(x))"
   ]
  },
  {
   "cell_type": "markdown",
   "metadata": {},
   "source": [
    "# EXAMPLES FROM LATHI'S BOOK GOES HERE "
   ]
  },
  {
   "cell_type": "code",
   "execution_count": 1,
   "metadata": {},
   "outputs": [
    {
     "name": "stderr",
     "output_type": "stream",
     "text": [
      "/Users/sa40/opt/anaconda3/envs/py36/lib/python3.6/site-packages/sympy/core/relational.py:470: SymPyDeprecationWarning: \n",
      "\n",
      "Eq(expr) with rhs default to 0 has been deprecated since SymPy 1.5.\n",
      "Use Eq(expr, 0) instead. See\n",
      "https://github.com/sympy/sympy/issues/16587 for more info.\n",
      "\n",
      "  deprecated_since_version=\"1.5\"\n"
     ]
    },
    {
     "name": "stdout",
     "output_type": "stream",
     "text": [
      "ODE:\n"
     ]
    },
    {
     "data": {
      "image/png": "[encoded data removed]",
      "text/latex": [
       "$\\displaystyle 5 y{\\left(t \\right)} + \\frac{d}{d t} y{\\left(t \\right)} = 0$"
      ],
      "text/plain": [
       "         d           \n",
       "5⋅y(t) + ──(y(t)) = 0\n",
       "         dt          "
      ]
     },
     "metadata": {},
     "output_type": "display_data"
    },
    {
     "name": "stdout",
     "output_type": "stream",
     "text": [
      "Generic solution:\n"
     ]
    },
    {
     "data": {
      "image/png": "[encoded data removed]",
      "text/latex": [
       "$\\displaystyle y{\\left(t \\right)} = C_{1} e^{- 5 t}$"
      ],
      "text/plain": [
       "           -5⋅t\n",
       "y(t) = C₁⋅ℯ    "
      ]
     },
     "metadata": {},
     "output_type": "display_data"
    },
    {
     "name": "stdout",
     "output_type": "stream",
     "text": [
      "Solution with initial conditions:\n"
     ]
    },
    {
     "data": {
      "image/png": "[encoded data removed]",
      "text/latex": [
       "$\\displaystyle y{\\left(t \\right)} = 5 e^{- 5 t}$"
      ],
      "text/plain": [
       "          -5⋅t\n",
       "y(t) = 5⋅ℯ    "
      ]
     },
     "metadata": {},
     "output_type": "display_data"
    }
   ],
   "source": [
    "#Solution to Exercise E2.1 - Lathi's Signals and System\n",
    "\n",
    "from IPython.display import display\n",
    "import sympy as sy\n",
    "\n",
    "sy.init_printing()  # LaTeX-like pretty printing for IPython\n",
    "t = sy.Symbol(\"t\", real=True)\n",
    "y = sy.Function('y')\n",
    "Eq1 = sy.Eq(sy.diff(y(t), t) + 5*(y(t)))\n",
    "print(\"ODE:\")\n",
    "display(Eq1)\n",
    "\n",
    "print(\"Generic solution:\")\n",
    "y_sl0 = sy.dsolve(Eq1, y(t)).rhs  # take only right hand side\n",
    "display(sy.Eq(y(t), y_sl0))\n",
    "\n",
    "# Initial conditions:\n",
    "cnd0 = sy.Eq(y_sl0.subs(t, 0), 5)  # y(0) = a0\n",
    "\n",
    "#  Solve for C1, C2:\n",
    "C1 = sy.symbols(\"C1\")  # generic constants\n",
    "C1_sl = sy.solve([cnd0], (C1))\n",
    "\n",
    "# Substitute back into solution:\n",
    "y_sl1 = sy.simplify(y_sl0.subs(C1_sl))\n",
    "print(\"Solution with initial conditions:\")\n",
    "display(sy.Eq(y(t), y_sl1))"
   ]
  },
  {
   "cell_type": "code",
   "execution_count": 2,
   "metadata": {},
   "outputs": [
    {
     "name": "stderr",
     "output_type": "stream",
     "text": [
      "/Users/sa40/opt/anaconda3/envs/py36/lib/python3.6/site-packages/sympy/core/relational.py:470: SymPyDeprecationWarning: \n",
      "\n",
      "Eq(expr) with rhs default to 0 has been deprecated since SymPy 1.5.\n",
      "Use Eq(expr, 0) instead. See\n",
      "https://github.com/sympy/sympy/issues/16587 for more info.\n",
      "\n",
      "  deprecated_since_version=\"1.5\"\n"
     ]
    },
    {
     "name": "stdout",
     "output_type": "stream",
     "text": [
      "ODE:\n"
     ]
    },
    {
     "data": {
      "image/png": "[encoded data removed]",
      "text/latex": [
       "$\\displaystyle 2 y{\\left(t \\right)} + 3 \\frac{d}{d t} y{\\left(t \\right)} + \\frac{d^{2}}{d t^{2}} y{\\left(t \\right)} = 0$"
      ],
      "text/plain": [
       "                        2          \n",
       "           d           d           \n",
       "2⋅y(t) + 3⋅──(y(t)) + ───(y(t)) = 0\n",
       "           dt           2          \n",
       "                      dt           "
      ]
     },
     "metadata": {},
     "output_type": "display_data"
    },
    {
     "name": "stdout",
     "output_type": "stream",
     "text": [
      "Generic solution:\n"
     ]
    },
    {
     "data": {
      "image/png": "[encoded data removed]",
      "text/latex": [
       "$\\displaystyle y{\\left(t \\right)} = \\left(C_{1} + C_{2} e^{- t}\\right) e^{- t}$"
      ],
      "text/plain": [
       "       ⎛         -t⎞  -t\n",
       "y(t) = ⎝C₁ + C₂⋅ℯ  ⎠⋅ℯ  "
      ]
     },
     "metadata": {},
     "output_type": "display_data"
    },
    {
     "name": "stdout",
     "output_type": "stream",
     "text": [
      "Solution with initial conditions:\n"
     ]
    },
    {
     "data": {
      "image/png": "[encoded data removed]",
      "text/latex": [
       "$\\displaystyle y{\\left(t \\right)} = 5 \\left(1 - e^{t}\\right) e^{- 2 t}$"
      ],
      "text/plain": [
       "         ⎛     t⎞  -2⋅t\n",
       "y(t) = 5⋅⎝1 - ℯ ⎠⋅ℯ    "
      ]
     },
     "metadata": {},
     "output_type": "display_data"
    }
   ],
   "source": [
    "#Solution to Example E2.2 - Lathi's Signals and System\n",
    "\n",
    "from IPython.display import display\n",
    "import sympy as sy\n",
    "\n",
    "sy.init_printing()  # LaTeX-like pretty printing for IPython\n",
    "t = sy.Symbol(\"t\", real=True)\n",
    "x, y =  sy.symbols(\"x y\", cls = sy.Function, Function = True)\n",
    "# Eq1 = sy.Eq(sy.diff(y(t),t,2) + 3*sy.diff(y(t), t) + 2*y(t),sy.diff(x(t), t) )\n",
    "Eq1 = sy.Eq(sy.diff(y(t),t,2) + 3*sy.diff(y(t), t) + 2*y(t))\n",
    "print(\"ODE:\")\n",
    "display(Eq1)\n",
    "\n",
    "print(\"Generic solution:\")\n",
    "y_sl0 = sy.dsolve(Eq1, y(t)).rhs  # take only right hand side\n",
    "display(sy.Eq(y(t), y_sl0))\n",
    "\n",
    "# Initial conditions:\n",
    "cnd0 = sy.Eq(y_sl0.subs(t, 0), 0)  # y(0) = 0\n",
    "cnd1 = sy.Eq(y_sl0.diff(t).subs(t, 0), -5)  # D(y(0)) =-5\n",
    "#  Solve for C1, C2:\n",
    "C1, C2 = sy.symbols(\"C1 C2\")  # generic constants\n",
    "C1C2_sl = sy.solve([cnd0, cnd1], (C1, C2))\n",
    "\n",
    "# Substitute back into solution:\n",
    "# Substitute back into solution:\n",
    "y_sl1 = sy.simplify(y_sl0.subs(C1C2_sl))\n",
    "print(\"Solution with initial conditions:\")\n",
    "display(sy.Eq(y(t), y_sl1))"
   ]
  },
  {
   "cell_type": "code",
   "execution_count": 3,
   "metadata": {},
   "outputs": [
    {
     "name": "stderr",
     "output_type": "stream",
     "text": [
      "/Users/sa40/opt/anaconda3/envs/py36/lib/python3.6/site-packages/sympy/core/relational.py:470: SymPyDeprecationWarning: \n",
      "\n",
      "Eq(expr) with rhs default to 0 has been deprecated since SymPy 1.5.\n",
      "Use Eq(expr, 0) instead. See\n",
      "https://github.com/sympy/sympy/issues/16587 for more info.\n",
      "\n",
      "  deprecated_since_version=\"1.5\"\n"
     ]
    },
    {
     "name": "stdout",
     "output_type": "stream",
     "text": [
      "ODE:\n"
     ]
    },
    {
     "data": {
      "image/png": "[encoded data removed]",
      "text/latex": [
       "$\\displaystyle 2 \\frac{d}{d t} y{\\left(t \\right)} + \\frac{d^{2}}{d t^{2}} y{\\left(t \\right)} = 0$"
      ],
      "text/plain": [
       "               2          \n",
       "  d           d           \n",
       "2⋅──(y(t)) + ───(y(t)) = 0\n",
       "  dt           2          \n",
       "             dt           "
      ]
     },
     "metadata": {},
     "output_type": "display_data"
    },
    {
     "name": "stdout",
     "output_type": "stream",
     "text": [
      "Generic solution:\n"
     ]
    },
    {
     "data": {
      "image/png": "[encoded data removed]",
      "text/latex": [
       "$\\displaystyle y{\\left(t \\right)} = C_{1} + C_{2} e^{- 2 t}$"
      ],
      "text/plain": [
       "                -2⋅t\n",
       "y(t) = C₁ + C₂⋅ℯ    "
      ]
     },
     "metadata": {},
     "output_type": "display_data"
    },
    {
     "name": "stdout",
     "output_type": "stream",
     "text": [
      "Solution with initial conditions:\n"
     ]
    },
    {
     "data": {
      "image/png": "[encoded data removed]",
      "text/latex": [
       "$\\displaystyle y{\\left(t \\right)} = 3 - 2 e^{- 2 t}$"
      ],
      "text/plain": [
       "              -2⋅t\n",
       "y(t) = 3 - 2⋅ℯ    "
      ]
     },
     "metadata": {},
     "output_type": "display_data"
    }
   ],
   "source": [
    "#Solution to Exercise E2.2 - Lathi's Signals and System\n",
    "\n",
    "from IPython.display import display\n",
    "import sympy as sy\n",
    "\n",
    "sy.init_printing()  # LaTeX-like pretty printing for IPython\n",
    "t = sy.Symbol(\"t\", real=True)\n",
    "y = sy.Function('y')\n",
    "Eq1 = sy.Eq(sy.diff(y(t), t, 2) + 2*sy.diff(y(t)))\n",
    "print(\"ODE:\")\n",
    "display(Eq1)\n",
    "\n",
    "print(\"Generic solution:\")\n",
    "y_sl0 = sy.dsolve(Eq1, y(t)).rhs  # take only right hand side\n",
    "display(sy.Eq(y(t), y_sl0))\n",
    "\n",
    "# Initial conditions:\n",
    "cnd0 = sy.Eq(y_sl0.subs(t, 0), 1)  # y(0) = a0\n",
    "cnd1 = sy.Eq(y_sl0.diff(t).subs(t, 0), 4)  # y'(0) = b0\n",
    "\n",
    "#  Solve for C1, C2:\n",
    "C1, C2 = sy.symbols(\"C1, C2\")  # generic constants\n",
    "C1C2_sl = sy.solve([cnd0, cnd1], (C1, C2))\n",
    "\n",
    "# Substitute back into solution:\n",
    "y_sl1 = sy.simplify(y_sl0.subs(C1C2_sl))\n",
    "print(\"Solution with initial conditions:\")\n",
    "display(sy.Eq(y(t), y_sl1))"
   ]
  },
  {
   "cell_type": "code",
   "execution_count": null,
   "metadata": {},
   "outputs": [],
   "source": []
  }
 ],
 "metadata": {
  "kernelspec": {
   "display_name": "Python 3",
   "language": "python",
   "name": "python3"
  },
  "language_info": {
   "codemirror_mode": {
    "name": "ipython",
    "version": 3
   },
   "file_extension": ".py",
   "mimetype": "text/x-python",
   "name": "python",
   "nbconvert_exporter": "python",
   "pygments_lexer": "ipython3",
   "version": "3.6.9"
  }
 },
 "nbformat": 4,
 "nbformat_minor": 4
}
