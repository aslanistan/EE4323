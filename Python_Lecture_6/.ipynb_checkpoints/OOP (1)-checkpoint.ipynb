{
 "cells": [
  {
   "cell_type": "code",
   "execution_count": 22,
   "metadata": {},
   "outputs": [],
   "source": [
    "# OOP\n",
    "\n",
    "class Students:  # create a class\n",
    "    pass\n",
    "\n",
    "# each student will have different \n",
    "# data -> attributes \n",
    "# function -> methods "
   ]
  },
  {
   "cell_type": "code",
   "execution_count": 23,
   "metadata": {},
   "outputs": [],
   "source": [
    "stu1=Students()\n",
    "stu2=Students()"
   ]
  },
  {
   "cell_type": "code",
   "execution_count": 24,
   "metadata": {},
   "outputs": [
    {
     "name": "stdout",
     "output_type": "stream",
     "text": [
      "<__main__.Students object at 0x7fa528277a90>\n",
      "<__main__.Students object at 0x7fa528277710>\n"
     ]
    }
   ],
   "source": [
    "print(stu1)\n",
    "print(stu2)"
   ]
  },
  {
   "cell_type": "code",
   "execution_count": 25,
   "metadata": {},
   "outputs": [],
   "source": [
    "# instance 1\n",
    "stu1.fname='John'\n",
    "stu1.lname='Albert'\n",
    "stu1.ID=\"A006564\"\n",
    "stu1.email='John_Albert@txstate.edu'\n",
    "stu1.Miedterm=78\n",
    "stu1.Final=92"
   ]
  },
  {
   "cell_type": "code",
   "execution_count": 26,
   "metadata": {},
   "outputs": [],
   "source": [
    "# instance 2\n",
    "stu2.fname='Jen'\n",
    "stu2.lname='Doe'\n",
    "stu2.ID=\"A003223\"\n",
    "stu2.email='Jen_Doe@txstate.edu'\n",
    "stu2.Midterm=48\n",
    "stu2.Final=62"
   ]
  },
  {
   "cell_type": "code",
   "execution_count": 27,
   "metadata": {},
   "outputs": [
    {
     "name": "stdout",
     "output_type": "stream",
     "text": [
      "John_Albert@txstate.edu\n",
      "Jen_Doe@txstate.edu\n"
     ]
    }
   ],
   "source": [
    "print(stu1.email)\n",
    "print(stu2.email)"
   ]
  },
  {
   "cell_type": "code",
   "execution_count": 28,
   "metadata": {},
   "outputs": [],
   "source": [
    "# Use __init__ method\n",
    "\n",
    "class Students:  \n",
    "    def __init__(self,fname,lname,ID,Midterm,Final): # convention to call instance first argument self\n",
    "        self.fname=fname\n",
    "        self.lname=lname\n",
    "        self.ID=ID\n",
    "        self.Midterm=Midterm\n",
    "        self.Final=Final\n",
    "        self.email=fname + '_' + lname + '@txstate.edu'"
   ]
  },
  {
   "cell_type": "code",
   "execution_count": 36,
   "metadata": {},
   "outputs": [],
   "source": [
    "stu3=Students(\"Hans\",\"Kurt\",\"A001234\",78,44)\n",
    "stu4=Students(\"Pen\",\"Tan\",\"A003412\",98,100)"
   ]
  },
  {
   "cell_type": "code",
   "execution_count": 30,
   "metadata": {},
   "outputs": [
    {
     "name": "stdout",
     "output_type": "stream",
     "text": [
      "Hans_Kurt@txstate.edu\n",
      "Pen_Tan@txstate.edu\n"
     ]
    }
   ],
   "source": [
    "print(stu3.email)\n",
    "print(stu4.email)"
   ]
  },
  {
   "cell_type": "code",
   "execution_count": 31,
   "metadata": {},
   "outputs": [],
   "source": [
    "# So far we have added attributes to our class Students. \n",
    "# Now we will add some Methods"
   ]
  },
  {
   "cell_type": "code",
   "execution_count": 39,
   "metadata": {},
   "outputs": [],
   "source": [
    "# Average method\n",
    "\n",
    "class Students:  \n",
    "    def __init__(self,fname,lname,ID,Midterm,Final): # convention to call instance first argument self\n",
    "        self.fname=fname # instance variable\n",
    "        self.lname=lname\n",
    "        self.ID=ID\n",
    "        self.Midterm=Midterm\n",
    "        self.Final=Final\n",
    "        self.email=fname + '_' + lname + '@txstate.edu'\n",
    "    def average(self):\n",
    "        return f'Midterm={self.Midterm} and Final={self.Final} average {0.3*self.Midterm+0.7*self.Final:.2f}'"
   ]
  },
  {
   "cell_type": "code",
   "execution_count": 40,
   "metadata": {},
   "outputs": [],
   "source": [
    "stu3=Students(\"Hans\",\"Kurt\",\"A001234\",78,44)\n",
    "stu4=Students(\"Pen\",\"Tan\",\"A003412\",98,100)"
   ]
  },
  {
   "cell_type": "code",
   "execution_count": 41,
   "metadata": {},
   "outputs": [
    {
     "data": {
      "text/plain": [
       "'Midterm=78 and Final=44 average 54.20'"
      ]
     },
     "execution_count": 41,
     "metadata": {},
     "output_type": "execute_result"
    }
   ],
   "source": [
    "stu3.average()"
   ]
  },
  {
   "cell_type": "code",
   "execution_count": 52,
   "metadata": {},
   "outputs": [],
   "source": [
    "# Average method\n",
    "\n",
    "class Students:  \n",
    "    def __init__(self,fname,lname,ID,Midterm,Final): # convention to call instance first argument self\n",
    "        self.fname=fname\n",
    "        self.lname=lname\n",
    "        self.ID=ID\n",
    "        self.Midterm=Midterm\n",
    "        self.Final=Final\n",
    "        self.email=fname + '_' + lname + '@txstate.edu'\n",
    "    def fullname(self):\n",
    "        return f'{self.fname} {self.lname}'\n",
    "    def average(self):\n",
    "        return f'Midterm={self.Midterm} and Final={self.Final} average {0.3*self.Midterm+0.7*self.Final:.2f}'"
   ]
  },
  {
   "cell_type": "code",
   "execution_count": 53,
   "metadata": {},
   "outputs": [],
   "source": [
    "stu3=Students(\"Hans\",\"Kurt\",\"A001234\",78,44)\n",
    "stu4=Students(\"Pen\",\"Tan\",\"A003412\",98,100)"
   ]
  },
  {
   "cell_type": "code",
   "execution_count": 54,
   "metadata": {},
   "outputs": [
    {
     "data": {
      "text/plain": [
       "'Midterm=78 and Final=44 average 54.20'"
      ]
     },
     "execution_count": 54,
     "metadata": {},
     "output_type": "execute_result"
    }
   ],
   "source": [
    "stu3.average() # instance will pass as argument self "
   ]
  },
  {
   "cell_type": "code",
   "execution_count": 55,
   "metadata": {},
   "outputs": [
    {
     "data": {
      "text/plain": [
       "'Midterm=78 and Final=44 average 54.20'"
      ]
     },
     "execution_count": 55,
     "metadata": {},
     "output_type": "execute_result"
    }
   ],
   "source": [
    "Students.average(stu3) # When we run it from class we need to pass instance into method"
   ]
  },
  {
   "cell_type": "code",
   "execution_count": 102,
   "metadata": {},
   "outputs": [],
   "source": [
    "# Part II\n",
    "# Class variables \n",
    "# Assume extra credit\n",
    "\n",
    "class Students:  \n",
    "    def __init__(self,fname,lname,ID,Midterm,Final): # convention to call instance first argument self\n",
    "        self.fname=fname\n",
    "        self.lname=lname\n",
    "        self.ID=ID\n",
    "        self.Midterm=Midterm\n",
    "        self.Final=Final\n",
    "        self.email=fname + '_' + lname + '@txstate.edu'\n",
    "    \n",
    "    def EC(self):\n",
    "        self.Final = self.Final*1.04\n",
    "        return self.Final\n",
    "        \n",
    "    def fullname(self):\n",
    "        return f'{self.fname} {self.lname}'\n",
    "    \n",
    "    def average(self):\n",
    "        return f'Midterm={self.Midterm} and Final={self.Final} average {0.3*self.Midterm+0.7*self.Final:.2f}'               "
   ]
  },
  {
   "cell_type": "code",
   "execution_count": 103,
   "metadata": {},
   "outputs": [],
   "source": [
    "stu3=Students(\"Hans\",\"Kurt\",\"A001234\",78,44)\n",
    "stu4=Students(\"Pen\",\"Tan\",\"A003412\",98,100)"
   ]
  },
  {
   "cell_type": "code",
   "execution_count": 106,
   "metadata": {},
   "outputs": [
    {
     "data": {
      "text/plain": [
       "104.0"
      ]
     },
     "execution_count": 106,
     "metadata": {},
     "output_type": "execute_result"
    }
   ],
   "source": [
    "stu4.Final"
   ]
  },
  {
   "cell_type": "code",
   "execution_count": 105,
   "metadata": {},
   "outputs": [
    {
     "data": {
      "text/plain": [
       "104.0"
      ]
     },
     "execution_count": 105,
     "metadata": {},
     "output_type": "execute_result"
    }
   ],
   "source": [
    "stu4.EC()"
   ]
  },
  {
   "cell_type": "code",
   "execution_count": 128,
   "metadata": {},
   "outputs": [],
   "source": [
    "# Part II\n",
    "# Class variables \n",
    "# Assume extra credit\n",
    "\n",
    "class Students: \n",
    "    Extra_Credit = 1.04 # class variable\n",
    "    \n",
    "    def __init__(self,fname,lname,ID,Midterm,Final): # convention to call instance first argument self\n",
    "        self.fname=fname\n",
    "        self.lname=lname\n",
    "        self.ID=ID\n",
    "        self.Midterm=Midterm\n",
    "        self.Final=Final\n",
    "        self.email=fname + '_' + lname + '@txstate.edu'\n",
    "    \n",
    "    def EC(self):\n",
    "        self.Final = self.Final*Students.Extra_Credit  # or self.Extra_Credit\n",
    "        return self.Final\n",
    "        \n",
    "    def fullname(self):\n",
    "        return f'{self.fname} {self.lname}'\n",
    "    \n",
    "    def average(self):\n",
    "        return f'Midterm={self.Midterm} and Final={self.Final} average {0.3*self.Midterm+0.7*self.Final:.2f}'               "
   ]
  },
  {
   "cell_type": "code",
   "execution_count": 109,
   "metadata": {},
   "outputs": [],
   "source": [
    "stu3=Students(\"Hans\",\"Kurt\",\"A001234\",78,44)\n",
    "stu4=Students(\"Pen\",\"Tan\",\"A003412\",98,100)"
   ]
  },
  {
   "cell_type": "code",
   "execution_count": 110,
   "metadata": {},
   "outputs": [
    {
     "data": {
      "text/plain": [
       "100"
      ]
     },
     "execution_count": 110,
     "metadata": {},
     "output_type": "execute_result"
    }
   ],
   "source": [
    "stu4.Final"
   ]
  },
  {
   "cell_type": "code",
   "execution_count": 112,
   "metadata": {},
   "outputs": [
    {
     "data": {
      "text/plain": [
       "104.0"
      ]
     },
     "execution_count": 112,
     "metadata": {},
     "output_type": "execute_result"
    }
   ],
   "source": [
    "stu4.EC()"
   ]
  },
  {
   "cell_type": "code",
   "execution_count": 113,
   "metadata": {},
   "outputs": [
    {
     "name": "stdout",
     "output_type": "stream",
     "text": [
      "{'fname': 'Pen', 'lname': 'Tan', 'ID': 'A003412', 'Midterm': 98, 'Final': 104.0, 'email': 'Pen_Tan@txstate.edu'}\n"
     ]
    }
   ],
   "source": [
    "## Access student namespace\n",
    "\n",
    "print(stu4.__dict__)"
   ]
  },
  {
   "cell_type": "code",
   "execution_count": 115,
   "metadata": {},
   "outputs": [
    {
     "name": "stdout",
     "output_type": "stream",
     "text": [
      "{'__module__': '__main__', 'Extra_Credit': 1.04, '__init__': <function Students.__init__ at 0x7fa528280d40>, 'EC': <function Students.EC at 0x7fa528280b00>, 'fullname': <function Students.fullname at 0x7fa500442a70>, 'average': <function Students.average at 0x7fa5004429e0>, '__dict__': <attribute '__dict__' of 'Students' objects>, '__weakref__': <attribute '__weakref__' of 'Students' objects>, '__doc__': None}\n"
     ]
    }
   ],
   "source": [
    "print(Students.__dict__)"
   ]
  },
  {
   "cell_type": "code",
   "execution_count": 116,
   "metadata": {},
   "outputs": [],
   "source": [
    "Students.Extra_Credit = 1.1"
   ]
  },
  {
   "cell_type": "code",
   "execution_count": 117,
   "metadata": {},
   "outputs": [
    {
     "data": {
      "text/plain": [
       "114.4"
      ]
     },
     "execution_count": 117,
     "metadata": {},
     "output_type": "execute_result"
    }
   ],
   "source": [
    "stu4.EC()"
   ]
  },
  {
   "cell_type": "code",
   "execution_count": 118,
   "metadata": {},
   "outputs": [
    {
     "name": "stdout",
     "output_type": "stream",
     "text": [
      "{'__module__': '__main__', 'Extra_Credit': 1.1, '__init__': <function Students.__init__ at 0x7fa528280d40>, 'EC': <function Students.EC at 0x7fa528280b00>, 'fullname': <function Students.fullname at 0x7fa500442a70>, 'average': <function Students.average at 0x7fa5004429e0>, '__dict__': <attribute '__dict__' of 'Students' objects>, '__weakref__': <attribute '__weakref__' of 'Students' objects>, '__doc__': None}\n"
     ]
    }
   ],
   "source": [
    "print(Students.__dict__)"
   ]
  },
  {
   "cell_type": "code",
   "execution_count": 131,
   "metadata": {},
   "outputs": [],
   "source": [
    "stu4.Final=90"
   ]
  },
  {
   "cell_type": "code",
   "execution_count": 126,
   "metadata": {},
   "outputs": [
    {
     "data": {
      "text/plain": [
       "90"
      ]
     },
     "execution_count": 126,
     "metadata": {},
     "output_type": "execute_result"
    }
   ],
   "source": [
    "stu4.Final"
   ]
  },
  {
   "cell_type": "code",
   "execution_count": 127,
   "metadata": {},
   "outputs": [
    {
     "data": {
      "text/plain": [
       "'99.000'"
      ]
     },
     "execution_count": 127,
     "metadata": {},
     "output_type": "execute_result"
    }
   ],
   "source": [
    "f'{stu4.EC():.3f}'"
   ]
  },
  {
   "cell_type": "code",
   "execution_count": 132,
   "metadata": {},
   "outputs": [],
   "source": [
    "# just change student 4\n",
    "stu4.Extra_Credit = 1.1"
   ]
  },
  {
   "cell_type": "code",
   "execution_count": 134,
   "metadata": {},
   "outputs": [
    {
     "data": {
      "text/plain": [
       "93.60000000000001"
      ]
     },
     "execution_count": 134,
     "metadata": {},
     "output_type": "execute_result"
    }
   ],
   "source": [
    "stu4.EC()"
   ]
  },
  {
   "cell_type": "code",
   "execution_count": 152,
   "metadata": {},
   "outputs": [],
   "source": [
    "# Class variables \n",
    "# Assume extra credit\n",
    "\n",
    "class Students: \n",
    "    Extra_Credit = 1.04 # class variable\n",
    "    \n",
    "    def __init__(self,fname,lname,ID,Midterm,Final): # convention to call instance first argument self\n",
    "        self.fname=fname\n",
    "        self.lname=lname\n",
    "        self.ID=ID\n",
    "        self.Midterm=Midterm\n",
    "        self.Final=Final\n",
    "        self.email=fname + '_' + lname + '@txstate.edu'\n",
    "    \n",
    "    def EC(self):\n",
    "        self.Final = self.Final*self.Extra_Credit  # or self.Extra_Credit\n",
    "        return self.Final\n",
    "        \n",
    "    def fullname(self):\n",
    "        return f'{self.fname} {self.lname}'\n",
    "    \n",
    "    def average(self):\n",
    "        return f'Midterm={self.Midterm} and Final={self.Final} average {0.3*self.Midterm+0.7*self.Final:.2f}'               "
   ]
  },
  {
   "cell_type": "code",
   "execution_count": 153,
   "metadata": {},
   "outputs": [
    {
     "name": "stdout",
     "output_type": "stream",
     "text": [
      "{'__module__': '__main__', 'Extra_Credit': 1.04, '__init__': <function Students.__init__ at 0x7fa5282de3b0>, 'EC': <function Students.EC at 0x7fa5282de170>, 'fullname': <function Students.fullname at 0x7fa5282de5f0>, 'average': <function Students.average at 0x7fa5282de560>, '__dict__': <attribute '__dict__' of 'Students' objects>, '__weakref__': <attribute '__weakref__' of 'Students' objects>, '__doc__': None}\n"
     ]
    }
   ],
   "source": [
    "print(Students.__dict__)"
   ]
  },
  {
   "cell_type": "code",
   "execution_count": 154,
   "metadata": {},
   "outputs": [],
   "source": [
    "stu3=Students(\"Hans\",\"Kurt\",\"A001234\",78,44)\n",
    "stu4=Students(\"Pen\",\"Tan\",\"A003412\",98,100)"
   ]
  },
  {
   "cell_type": "code",
   "execution_count": 155,
   "metadata": {},
   "outputs": [
    {
     "data": {
      "text/plain": [
       "100"
      ]
     },
     "execution_count": 155,
     "metadata": {},
     "output_type": "execute_result"
    }
   ],
   "source": [
    "stu4.Final"
   ]
  },
  {
   "cell_type": "code",
   "execution_count": 140,
   "metadata": {},
   "outputs": [
    {
     "data": {
      "text/plain": [
       "104.0"
      ]
     },
     "execution_count": 140,
     "metadata": {},
     "output_type": "execute_result"
    }
   ],
   "source": [
    "stu4.EC()"
   ]
  },
  {
   "cell_type": "code",
   "execution_count": 156,
   "metadata": {},
   "outputs": [],
   "source": [
    "stu4.Extra_Credit=1.1"
   ]
  },
  {
   "cell_type": "code",
   "execution_count": 157,
   "metadata": {},
   "outputs": [
    {
     "data": {
      "text/plain": [
       "110.00000000000001"
      ]
     },
     "execution_count": 157,
     "metadata": {},
     "output_type": "execute_result"
    }
   ],
   "source": [
    "stu4.EC()"
   ]
  },
  {
   "cell_type": "code",
   "execution_count": 159,
   "metadata": {},
   "outputs": [
    {
     "data": {
      "text/plain": [
       "44"
      ]
     },
     "execution_count": 159,
     "metadata": {},
     "output_type": "execute_result"
    }
   ],
   "source": [
    "stu3.Final"
   ]
  },
  {
   "cell_type": "code",
   "execution_count": 160,
   "metadata": {},
   "outputs": [
    {
     "data": {
      "text/plain": [
       "45.760000000000005"
      ]
     },
     "execution_count": 160,
     "metadata": {},
     "output_type": "execute_result"
    }
   ],
   "source": [
    "stu3.EC()"
   ]
  },
  {
   "cell_type": "code",
   "execution_count": 158,
   "metadata": {},
   "outputs": [
    {
     "name": "stdout",
     "output_type": "stream",
     "text": [
      "{'__module__': '__main__', 'Extra_Credit': 1.04, '__init__': <function Students.__init__ at 0x7fa5282de3b0>, 'EC': <function Students.EC at 0x7fa5282de170>, 'fullname': <function Students.fullname at 0x7fa5282de5f0>, 'average': <function Students.average at 0x7fa5282de560>, '__dict__': <attribute '__dict__' of 'Students' objects>, '__weakref__': <attribute '__weakref__' of 'Students' objects>, '__doc__': None}\n"
     ]
    }
   ],
   "source": [
    "print(Students.__dict__)"
   ]
  },
  {
   "cell_type": "code",
   "execution_count": 161,
   "metadata": {},
   "outputs": [
    {
     "name": "stdout",
     "output_type": "stream",
     "text": [
      "{'fname': 'Hans', 'lname': 'Kurt', 'ID': 'A001234', 'Midterm': 78, 'Final': 45.760000000000005, 'email': 'Hans_Kurt@txstate.edu'}\n"
     ]
    }
   ],
   "source": [
    "print(stu3.__dict__)"
   ]
  },
  {
   "cell_type": "code",
   "execution_count": 162,
   "metadata": {},
   "outputs": [
    {
     "name": "stdout",
     "output_type": "stream",
     "text": [
      "{'fname': 'Pen', 'lname': 'Tan', 'ID': 'A003412', 'Midterm': 98, 'Final': 110.00000000000001, 'email': 'Pen_Tan@txstate.edu', 'Extra_Credit': 1.1}\n"
     ]
    }
   ],
   "source": [
    "print(stu4.__dict__)"
   ]
  },
  {
   "cell_type": "code",
   "execution_count": 169,
   "metadata": {},
   "outputs": [],
   "source": [
    "# Number of students\n",
    "# \n",
    "\n",
    "class Students: \n",
    "    Extra_Credit = 1.04 # class variable\n",
    "    Num_Stu = 0\n",
    "    \n",
    "    def __init__(self,fname,lname,ID,Midterm,Final): # convention to call instance first argument self\n",
    "        self.fname=fname\n",
    "        self.lname=lname\n",
    "        self.ID=ID\n",
    "        self.Midterm=Midterm\n",
    "        self.Final=Final\n",
    "        self.email=fname + '_' + lname + '@txstate.edu'\n",
    "        Students.Num_Stu = Students.Num_Stu + 1\n",
    "    \n",
    "    def EC(self):\n",
    "        self.Final = self.Final*self.Extra_Credit  # or self.Extra_Credit\n",
    "        return self.Final\n",
    "        \n",
    "    def fullname(self):\n",
    "        return f'{self.fname} {self.lname}'\n",
    "    \n",
    "    def average(self):\n",
    "        return f'Midterm={self.Midterm} and Final={self.Final} average {0.3*self.Midterm+0.7*self.Final:.2f}'               "
   ]
  },
  {
   "cell_type": "code",
   "execution_count": 170,
   "metadata": {},
   "outputs": [
    {
     "data": {
      "text/plain": [
       "0"
      ]
     },
     "execution_count": 170,
     "metadata": {},
     "output_type": "execute_result"
    }
   ],
   "source": [
    "Students.Num_Stu"
   ]
  },
  {
   "cell_type": "code",
   "execution_count": 171,
   "metadata": {},
   "outputs": [],
   "source": [
    "stu1=Students(\"John\",\"Albert\",\"A006564\",78,92)\n",
    "stu2=Students(\"Jen\",\"Doe\",\"A003223\",48,62)\n",
    "stu3=Students(\"Hans\",\"Kurt\",\"A001234\",78,44)\n",
    "stu4=Students(\"Pen\",\"Tan\",\"A003412\",98,100)"
   ]
  },
  {
   "cell_type": "code",
   "execution_count": 172,
   "metadata": {},
   "outputs": [
    {
     "data": {
      "text/plain": [
       "4"
      ]
     },
     "execution_count": 172,
     "metadata": {},
     "output_type": "execute_result"
    }
   ],
   "source": [
    "Students.Num_Stu"
   ]
  },
  {
   "cell_type": "code",
   "execution_count": null,
   "metadata": {},
   "outputs": [],
   "source": [
    "# Class Methods \n",
    "# Static Method\n"
   ]
  },
  {
   "cell_type": "code",
   "execution_count": 193,
   "metadata": {},
   "outputs": [],
   "source": [
    "class Students: \n",
    "    Extra_Credit = 1.04 # class variable\n",
    "    Num_Stu = 0\n",
    "    \n",
    "    def __init__(self,fname,lname,ID,Midterm,Final): # convention to call instance first argument self\n",
    "        self.fname=fname\n",
    "        self.lname=lname\n",
    "        self.ID=ID\n",
    "        self.Midterm=int(Midterm)\n",
    "        self.Final=int(Final)\n",
    "        self.email=fname + '_' + lname + '@txstate.edu'\n",
    "        Students.Num_Stu = Students.Num_Stu + 1\n",
    "    \n",
    "    def EC(self):\n",
    "        self.Final = self.Final*self.Extra_Credit  # or self.Extra_Credit\n",
    "        return self.Final\n",
    "        \n",
    "    def fullname(self):\n",
    "        return f'{self.fname} {self.lname}'\n",
    "    \n",
    "    def average(self):\n",
    "        return f'Midterm={self.Midterm} and Final={self.Final} average {0.3*self.Midterm+0.7*self.Final:.2f}'               \n",
    "    @classmethod # classmehod decorators\n",
    "    def set_Extra_Credit(cls,amount): # will take class as first argument not self\n",
    "        cls.Extra_Credit = amount\n",
    "    "
   ]
  },
  {
   "cell_type": "code",
   "execution_count": 194,
   "metadata": {},
   "outputs": [],
   "source": [
    "stu1=Students(\"John\",\"Albert\",\"A006564\",78,92)\n",
    "stu2=Students(\"Jen\",\"Doe\",\"A003223\",48,62)\n",
    "stu3=Students(\"Hans\",\"Kurt\",\"A001234\",78,44)\n",
    "stu4=Students(\"Pen\",\"Tan\",\"A003412\",98,100)"
   ]
  },
  {
   "cell_type": "code",
   "execution_count": 195,
   "metadata": {},
   "outputs": [
    {
     "name": "stdout",
     "output_type": "stream",
     "text": [
      "1.04\n",
      "1.04\n",
      "1.04\n",
      "1.04\n",
      "1.04\n"
     ]
    }
   ],
   "source": [
    "print(Students.Extra_Credit)\n",
    "print(stu1.Extra_Credit)\n",
    "print(stu2.Extra_Credit)\n",
    "print(stu3.Extra_Credit)\n",
    "print(stu4.Extra_Credit)"
   ]
  },
  {
   "cell_type": "code",
   "execution_count": 196,
   "metadata": {},
   "outputs": [
    {
     "name": "stdout",
     "output_type": "stream",
     "text": [
      "1.1\n",
      "1.1\n",
      "1.1\n",
      "1.1\n",
      "1.1\n"
     ]
    }
   ],
   "source": [
    "Students.set_Extra_Credit(1.1)\n",
    "print(Students.Extra_Credit)\n",
    "print(stu1.Extra_Credit)\n",
    "print(stu2.Extra_Credit)\n",
    "print(stu3.Extra_Credit)\n",
    "print(stu4.Extra_Credit)\n",
    "\n",
    "# same as Students.Extra_Credit = 1.1"
   ]
  },
  {
   "cell_type": "code",
   "execution_count": 197,
   "metadata": {},
   "outputs": [
    {
     "name": "stdout",
     "output_type": "stream",
     "text": [
      "{'__module__': '__main__', 'Extra_Credit': 1.1, 'Num_Stu': 4, '__init__': <function Students.__init__ at 0x7fa528326440>, 'EC': <function Students.EC at 0x7fa528326680>, 'fullname': <function Students.fullname at 0x7fa5283268c0>, 'average': <function Students.average at 0x7fa528280c20>, 'set_Extra_Credit': <classmethod object at 0x7fa4e0859990>, '__dict__': <attribute '__dict__' of 'Students' objects>, '__weakref__': <attribute '__weakref__' of 'Students' objects>, '__doc__': None}\n"
     ]
    }
   ],
   "source": [
    "print(Students.__dict__)"
   ]
  },
  {
   "cell_type": "code",
   "execution_count": 198,
   "metadata": {},
   "outputs": [
    {
     "name": "stdout",
     "output_type": "stream",
     "text": [
      "1.15\n",
      "1.15\n",
      "1.15\n",
      "1.15\n",
      "1.15\n"
     ]
    }
   ],
   "source": [
    "stu1.set_Extra_Credit(1.15)\n",
    "print(Students.Extra_Credit)\n",
    "print(stu1.Extra_Credit)\n",
    "print(stu2.Extra_Credit)\n",
    "print(stu3.Extra_Credit)\n",
    "print(stu4.Extra_Credit)\n"
   ]
  },
  {
   "cell_type": "code",
   "execution_count": 204,
   "metadata": {},
   "outputs": [],
   "source": [
    "Student_1 = 'John/Albert/A006564/78/92'\n",
    "Student_2 = 'Jenn/Doee/AA003223/58/72'\n",
    "Student_3 = 'Hans/Kurt/A001234/78/44'\n",
    "Student_4 = 'Pen/Tan/A003412/98/100'"
   ]
  },
  {
   "cell_type": "code",
   "execution_count": 200,
   "metadata": {},
   "outputs": [],
   "source": [
    "fname,lname,ID,Midterm,Final = Student_1.split('/')\n",
    "sttu1=Students(fname,lname,ID,Midterm,Final)"
   ]
  },
  {
   "cell_type": "code",
   "execution_count": 202,
   "metadata": {},
   "outputs": [
    {
     "data": {
      "text/plain": [
       "105.8"
      ]
     },
     "execution_count": 202,
     "metadata": {},
     "output_type": "execute_result"
    }
   ],
   "source": [
    "sttu1.EC()"
   ]
  },
  {
   "cell_type": "code",
   "execution_count": 215,
   "metadata": {},
   "outputs": [],
   "source": [
    "class Students: \n",
    "    Extra_Credit = 1.04 # class variable\n",
    "    Num_Stu = 0\n",
    "    \n",
    "    def __init__(self,fname,lname,ID,Midterm,Final): # convention to call instance first argument self\n",
    "        self.fname=fname\n",
    "        self.lname=lname\n",
    "        self.ID=ID\n",
    "        self.Midterm=int(Midterm)\n",
    "        self.Final=int(Final)\n",
    "        self.email=fname + '_' + lname + '@txstate.edu'\n",
    "        Students.Num_Stu = Students.Num_Stu + 1\n",
    "    \n",
    "    def EC(self):\n",
    "        self.Final = self.Final*self.Extra_Credit  # or self.Extra_Credit\n",
    "        return self.Final\n",
    "        \n",
    "    def fullname(self):\n",
    "        return f'{self.fname} {self.lname}'\n",
    "    \n",
    "    def average(self):\n",
    "        return f'Midterm={self.Midterm} and Final={self.Final} average {0.3*self.Midterm+0.7*self.Final:.2f}'               \n",
    "    @classmethod # classmehod decorators\n",
    "    def set_Extra_Credit(cls,amount): # will take class as first argument not self\n",
    "        cls.Extra_Credit = amount\n",
    "        \n",
    "    @classmethod # classmehod decorators\n",
    "    def from_string(cls,stu_str): # will take class as first argument not self\n",
    "        fname,lname,ID,Midterm,Final = stu_str.split('/')\n",
    "        return cls(fname,lname,ID,Midterm,Final)    "
   ]
  },
  {
   "cell_type": "code",
   "execution_count": 205,
   "metadata": {},
   "outputs": [],
   "source": [
    "stu5=Students.from_string(Student_2)"
   ]
  },
  {
   "cell_type": "code",
   "execution_count": 207,
   "metadata": {},
   "outputs": [
    {
     "data": {
      "text/plain": [
       "{'fname': 'Jenn',\n",
       " 'lname': 'Doee',\n",
       " 'ID': 'AA003223',\n",
       " 'Midterm': 58,\n",
       " 'Final': 72,\n",
       " 'email': 'Jenn_Doee@txstate.edu'}"
      ]
     },
     "execution_count": 207,
     "metadata": {},
     "output_type": "execute_result"
    }
   ],
   "source": [
    "stu5.__dict__"
   ]
  },
  {
   "cell_type": "code",
   "execution_count": 218,
   "metadata": {},
   "outputs": [],
   "source": [
    "class Students: \n",
    "    Extra_Credit = 1.04 # class variable\n",
    "    Num_Stu = 0\n",
    "    \n",
    "    def __init__(self,fname,lname,ID,Midterm,Final): # convention to call instance first argument self\n",
    "        self.fname=fname\n",
    "        self.lname=lname\n",
    "        self.ID=ID\n",
    "        self.Midterm=int(Midterm)\n",
    "        self.Final=int(Final)\n",
    "        self.email=fname + '_' + lname + '@txstate.edu'\n",
    "        Students.Num_Stu = Students.Num_Stu + 1\n",
    "    \n",
    "    def EC(self):\n",
    "        self.Final = self.Final*self.Extra_Credit  # or self.Extra_Credit\n",
    "        return self.Final\n",
    "        \n",
    "    def fullname(self):\n",
    "        return f'{self.fname} {self.lname}'\n",
    "    \n",
    "    def average(self):\n",
    "        return f'Midterm={self.Midterm} and Final={self.Final} average {0.3*self.Midterm+0.7*self.Final:.2f}'               \n",
    "    @classmethod # classmehod decorators\n",
    "    def set_Extra_Credit(cls,amount): # will take class as first argument not self\n",
    "        cls.Extra_Credit = amount\n",
    "        \n",
    "    @classmethod # classmehod decorators\n",
    "    def from_string(cls,stu_str): # will take class as first argument not self\n",
    "        fname,lname,ID,Midterm,Final = stu_str.split('/')\n",
    "        return cls(fname,lname,ID,Midterm,Final) \n",
    "    \n",
    "    @staticmethod  # you do not access class or methos anywhere\n",
    "    def is_class_day(day):\n",
    "        if (day.weekday() == 5 or day.weekday() == 6):\n",
    "            return False\n",
    "        else:\n",
    "            return True"
   ]
  },
  {
   "cell_type": "code",
   "execution_count": 220,
   "metadata": {},
   "outputs": [
    {
     "data": {
      "text/plain": [
       "False"
      ]
     },
     "execution_count": 220,
     "metadata": {},
     "output_type": "execute_result"
    }
   ],
   "source": [
    "import datetime\n",
    "date = datetime.date(2020,11,21)\n",
    "Students.is_class_day(date)"
   ]
  },
  {
   "cell_type": "code",
   "execution_count": 222,
   "metadata": {},
   "outputs": [],
   "source": [
    "class Students: \n",
    "    Extra_Credit = 1.04 # class variable\n",
    "    Num_Stu = 0\n",
    "    \n",
    "    def __init__(self,fname,lname,ID,Midterm,Final): # convention to call instance first argument self\n",
    "        self.fname=fname\n",
    "        self.lname=lname\n",
    "        self.ID=ID\n",
    "        self.Midterm=int(Midterm)\n",
    "        self.Final=int(Final)\n",
    "        self.email=fname + '_' + lname + '@txstate.edu'\n",
    "        Students.Num_Stu = Students.Num_Stu + 1\n",
    "    \n",
    "    def EC(self):\n",
    "        self.Final = self.Final*self.Extra_Credit  # or self.Extra_Credit\n",
    "        return self.Final\n",
    "        \n",
    "    def fullname(self):\n",
    "        return f'{self.fname} {self.lname}'\n",
    "    \n",
    "    def average(self):\n",
    "        return f'Midterm={self.Midterm} and Final={self.Final} average {0.3*self.Midterm+0.7*self.Final:.2f}'               \n",
    "    @classmethod # classmehod decorators\n",
    "    def set_Extra_Credit(cls,amount): # will take class as first argument not self\n",
    "        cls.Extra_Credit = amount\n",
    "        \n",
    "    @classmethod # classmehod decorators\n",
    "    def from_string(cls,stu_str): # will take class as first argument not self\n",
    "        fname,lname,ID,Midterm,Final = stu_str.split('/')\n",
    "        return cls(fname,lname,ID,Midterm,Final) \n",
    "    \n",
    "    @staticmethod  # you do not access class or methos anywhere\n",
    "    def is_class_day(day):\n",
    "        if (day.weekday() == 5 or day.weekday() == 6):\n",
    "            return False\n",
    "        else:\n",
    "            return True\n",
    "\n",
    "class EE3326(Students):\n",
    "    pass"
   ]
  },
  {
   "cell_type": "code",
   "execution_count": 250,
   "metadata": {},
   "outputs": [],
   "source": [
    "EE3326_stu1=EE3326(\"John\",\"Albert\",\"A006564\",78,92)\n",
    "EE3326_stu2=EE3326(\"Jen\",\"Doe\",\"A003223\",48,62)\n",
    "EE3326_stu3=EE3326(\"Hans\",\"Kurt\",\"A001234\",78,44)\n",
    "EE3326_stu4=EE3326(\"Pen\",\"Tan\",\"A003412\",98,100)"
   ]
  },
  {
   "cell_type": "code",
   "execution_count": 251,
   "metadata": {},
   "outputs": [
    {
     "data": {
      "text/plain": [
       "{'fname': 'John',\n",
       " 'lname': 'Albert',\n",
       " 'ID': 'A006564',\n",
       " 'Midterm': 78,\n",
       " 'Final': 92,\n",
       " 'email': 'John_Albert@txstate.edu'}"
      ]
     },
     "execution_count": 251,
     "metadata": {},
     "output_type": "execute_result"
    }
   ],
   "source": [
    "EE3326_stu1.__dict__"
   ]
  },
  {
   "cell_type": "code",
   "execution_count": 225,
   "metadata": {},
   "outputs": [
    {
     "name": "stdout",
     "output_type": "stream",
     "text": [
      "Help on class EE3326 in module __main__:\n",
      "\n",
      "class EE3326(Students)\n",
      " |  EE3326(fname, lname, ID, Midterm, Final)\n",
      " |  \n",
      " |  Method resolution order:\n",
      " |      EE3326\n",
      " |      Students\n",
      " |      builtins.object\n",
      " |  \n",
      " |  Methods inherited from Students:\n",
      " |  \n",
      " |  EC(self)\n",
      " |  \n",
      " |  __init__(self, fname, lname, ID, Midterm, Final)\n",
      " |      Initialize self.  See help(type(self)) for accurate signature.\n",
      " |  \n",
      " |  average(self)\n",
      " |  \n",
      " |  fullname(self)\n",
      " |  \n",
      " |  ----------------------------------------------------------------------\n",
      " |  Class methods inherited from Students:\n",
      " |  \n",
      " |  from_string(stu_str) from builtins.type\n",
      " |  \n",
      " |  set_Extra_Credit(amount) from builtins.type\n",
      " |  \n",
      " |  ----------------------------------------------------------------------\n",
      " |  Static methods inherited from Students:\n",
      " |  \n",
      " |  is_class_day(day)\n",
      " |  \n",
      " |  ----------------------------------------------------------------------\n",
      " |  Data descriptors inherited from Students:\n",
      " |  \n",
      " |  __dict__\n",
      " |      dictionary for instance variables (if defined)\n",
      " |  \n",
      " |  __weakref__\n",
      " |      list of weak references to the object (if defined)\n",
      " |  \n",
      " |  ----------------------------------------------------------------------\n",
      " |  Data and other attributes inherited from Students:\n",
      " |  \n",
      " |  Extra_Credit = 1.04\n",
      " |  \n",
      " |  Num_Stu = 4\n",
      "\n",
      "None\n"
     ]
    }
   ],
   "source": [
    "print(help(EE3326))"
   ]
  },
  {
   "cell_type": "code",
   "execution_count": 226,
   "metadata": {},
   "outputs": [
    {
     "data": {
      "text/plain": [
       "92"
      ]
     },
     "execution_count": 226,
     "metadata": {},
     "output_type": "execute_result"
    }
   ],
   "source": [
    "EE3326_stu1.Final"
   ]
  },
  {
   "cell_type": "code",
   "execution_count": 227,
   "metadata": {},
   "outputs": [
    {
     "data": {
      "text/plain": [
       "95.68"
      ]
     },
     "execution_count": 227,
     "metadata": {},
     "output_type": "execute_result"
    }
   ],
   "source": [
    "EE3326_stu1.EC()"
   ]
  },
  {
   "cell_type": "code",
   "execution_count": 228,
   "metadata": {},
   "outputs": [
    {
     "data": {
      "text/plain": [
       "1.04"
      ]
     },
     "execution_count": 228,
     "metadata": {},
     "output_type": "execute_result"
    }
   ],
   "source": [
    "EE3326.Extra_Credit"
   ]
  },
  {
   "cell_type": "code",
   "execution_count": 229,
   "metadata": {},
   "outputs": [],
   "source": [
    "EE3326.set_Extra_Credit=1.1"
   ]
  },
  {
   "cell_type": "code",
   "execution_count": 230,
   "metadata": {},
   "outputs": [
    {
     "data": {
      "text/plain": [
       "62"
      ]
     },
     "execution_count": 230,
     "metadata": {},
     "output_type": "execute_result"
    }
   ],
   "source": [
    "EE3326_stu2.Final"
   ]
  },
  {
   "cell_type": "code",
   "execution_count": 232,
   "metadata": {},
   "outputs": [
    {
     "data": {
      "text/plain": [
       "1.04"
      ]
     },
     "execution_count": 232,
     "metadata": {},
     "output_type": "execute_result"
    }
   ],
   "source": [
    "EE3326.Extra_Credit"
   ]
  },
  {
   "cell_type": "code",
   "execution_count": 235,
   "metadata": {},
   "outputs": [],
   "source": [
    "EE3326.Extra_Credit=1.1"
   ]
  },
  {
   "cell_type": "code",
   "execution_count": 236,
   "metadata": {},
   "outputs": [
    {
     "data": {
      "text/plain": [
       "1.1"
      ]
     },
     "execution_count": 236,
     "metadata": {},
     "output_type": "execute_result"
    }
   ],
   "source": [
    "EE3326.Extra_Credit"
   ]
  },
  {
   "cell_type": "code",
   "execution_count": 237,
   "metadata": {},
   "outputs": [
    {
     "data": {
      "text/plain": [
       "64.48"
      ]
     },
     "execution_count": 237,
     "metadata": {},
     "output_type": "execute_result"
    }
   ],
   "source": [
    "EE3326_stu2.Final"
   ]
  },
  {
   "cell_type": "code",
   "execution_count": 238,
   "metadata": {},
   "outputs": [
    {
     "data": {
      "text/plain": [
       "70.92800000000001"
      ]
     },
     "execution_count": 238,
     "metadata": {},
     "output_type": "execute_result"
    }
   ],
   "source": [
    "EE3326_stu2.EC()"
   ]
  },
  {
   "cell_type": "code",
   "execution_count": 252,
   "metadata": {},
   "outputs": [],
   "source": [
    "class Students: \n",
    "    Extra_Credit = 1.04 # class variable\n",
    "    Num_Stu = 0\n",
    "    \n",
    "    def __init__(self,fname,lname,ID,Midterm,Final): # convention to call instance first argument self\n",
    "        self.fname=fname\n",
    "        self.lname=lname\n",
    "        self.ID=ID\n",
    "        self.Midterm=int(Midterm)\n",
    "        self.Final=int(Final)\n",
    "        self.email=fname + '_' + lname + '@txstate.edu'\n",
    "        Students.Num_Stu = Students.Num_Stu + 1\n",
    "    \n",
    "    def EC(self):\n",
    "        self.Final = self.Final*self.Extra_Credit  # or self.Extra_Credit\n",
    "        return self.Final\n",
    "        \n",
    "    def fullname(self):\n",
    "        return f'{self.fname} {self.lname}'\n",
    "    \n",
    "    def average(self):\n",
    "        return f'Midterm={self.Midterm} and Final={self.Final} average {0.3*self.Midterm+0.7*self.Final:.2f}'               \n",
    "    @classmethod # classmehod decorators\n",
    "    def set_Extra_Credit(cls,amount): # will take class as first argument not self\n",
    "        cls.Extra_Credit = amount\n",
    "        \n",
    "    @classmethod # classmehod decorators\n",
    "    def from_string(cls,stu_str): # will take class as first argument not self\n",
    "        fname,lname,ID,Midterm,Final = stu_str.split('/')\n",
    "        return cls(fname,lname,ID,Midterm,Final) \n",
    "    \n",
    "    @staticmethod  # you do not access class or methos anywhere\n",
    "    def is_class_day(day):\n",
    "        if (day.weekday() == 5 or day.weekday() == 6):\n",
    "            return False\n",
    "        else:\n",
    "            return True\n",
    "class EE3326(Students):\n",
    "    Extra_Credit = 1.2"
   ]
  },
  {
   "cell_type": "code",
   "execution_count": 253,
   "metadata": {},
   "outputs": [
    {
     "data": {
      "text/plain": [
       "44"
      ]
     },
     "execution_count": 253,
     "metadata": {},
     "output_type": "execute_result"
    }
   ],
   "source": [
    "EE3326_stu3.Final"
   ]
  },
  {
   "cell_type": "code",
   "execution_count": 254,
   "metadata": {},
   "outputs": [
    {
     "data": {
      "text/plain": [
       "52.8"
      ]
     },
     "execution_count": 254,
     "metadata": {},
     "output_type": "execute_result"
    }
   ],
   "source": [
    "EE3326_stu3.EC()"
   ]
  },
  {
   "cell_type": "code",
   "execution_count": 248,
   "metadata": {},
   "outputs": [
    {
     "data": {
      "text/plain": [
       "1.2"
      ]
     },
     "execution_count": 248,
     "metadata": {},
     "output_type": "execute_result"
    }
   ],
   "source": [
    "EE3326.Extra_Credit"
   ]
  },
  {
   "cell_type": "code",
   "execution_count": 255,
   "metadata": {},
   "outputs": [
    {
     "data": {
      "text/plain": [
       "100"
      ]
     },
     "execution_count": 255,
     "metadata": {},
     "output_type": "execute_result"
    }
   ],
   "source": [
    "EE3326_stu4.Final"
   ]
  },
  {
   "cell_type": "code",
   "execution_count": 256,
   "metadata": {},
   "outputs": [
    {
     "data": {
      "text/plain": [
       "120.0"
      ]
     },
     "execution_count": 256,
     "metadata": {},
     "output_type": "execute_result"
    }
   ],
   "source": [
    "EE3326_stu4.EC()"
   ]
  },
  {
   "cell_type": "code",
   "execution_count": 261,
   "metadata": {},
   "outputs": [],
   "source": [
    "class EE3326(Students):\n",
    "    Extra_Credit = 1.2\n",
    "    def __init__(self,fname,lname,ID,Midterm,Final,LabFinal):\n",
    "        super().__init__(fname,lname,ID,Midterm,Final) # Students.__init__(self,fname,lname,ID,Midterm,Final)\n",
    "        self.LabFinal=LabFinal"
   ]
  },
  {
   "cell_type": "code",
   "execution_count": 262,
   "metadata": {},
   "outputs": [],
   "source": [
    "EE3326_stu1=EE3326(\"John\",\"Albert\",\"A006564\",78,92,100)\n",
    "EE3326_stu2=EE3326(\"Jen\",\"Doe\",\"A003223\",48,62,90)\n",
    "EE3326_stu3=EE3326(\"Hans\",\"Kurt\",\"A001234\",78,44,80)\n",
    "EE3326_stu4=EE3326(\"Pen\",\"Tan\",\"A003412\",98,100,70)"
   ]
  },
  {
   "cell_type": "code",
   "execution_count": 263,
   "metadata": {},
   "outputs": [
    {
     "data": {
      "text/plain": [
       "{'fname': 'John',\n",
       " 'lname': 'Albert',\n",
       " 'ID': 'A006564',\n",
       " 'Midterm': 78,\n",
       " 'Final': 92,\n",
       " 'email': 'John_Albert@txstate.edu',\n",
       " 'LabFinal': 100}"
      ]
     },
     "execution_count": 263,
     "metadata": {},
     "output_type": "execute_result"
    }
   ],
   "source": [
    "EE3326_stu1.__dict__"
   ]
  },
  {
   "cell_type": "code",
   "execution_count": 264,
   "metadata": {},
   "outputs": [],
   "source": [
    "class EE4352(EE3326):\n",
    "    def __init__(self,fname,lname,ID,Midterm,Final,LabFinal,Project):\n",
    "        super().__init__(fname,lname,ID,Midterm,Final,LabFinal) # EE3326.__init__(self,fname,lname,ID,Midterm,Final,LabFinal)\n",
    "        self.Project=Project"
   ]
  },
  {
   "cell_type": "code",
   "execution_count": 265,
   "metadata": {},
   "outputs": [],
   "source": [
    "EE4352_stu1=EE4352(\"John\",\"Albert\",\"A006564\",78,92,100,80)\n",
    "EE4352_stu2=EE4352(\"Jen\",\"Doe\",\"A003223\",48,62,90,100)"
   ]
  },
  {
   "cell_type": "code",
   "execution_count": 266,
   "metadata": {},
   "outputs": [
    {
     "data": {
      "text/plain": [
       "{'fname': 'John',\n",
       " 'lname': 'Albert',\n",
       " 'ID': 'A006564',\n",
       " 'Midterm': 78,\n",
       " 'Final': 92,\n",
       " 'email': 'John_Albert@txstate.edu',\n",
       " 'LabFinal': 100,\n",
       " 'Project': 80}"
      ]
     },
     "execution_count": 266,
     "metadata": {},
     "output_type": "execute_result"
    }
   ],
   "source": [
    "EE4352_stu1.__dict__"
   ]
  }
 ],
 "metadata": {
  "kernelspec": {
   "display_name": "Python 3",
   "language": "python",
   "name": "python3"
  },
  "language_info": {
   "codemirror_mode": {
    "name": "ipython",
    "version": 3
   },
   "file_extension": ".py",
   "mimetype": "text/x-python",
   "name": "python",
   "nbconvert_exporter": "python",
   "pygments_lexer": "ipython3",
   "version": "3.7.6"
  }
 },
 "nbformat": 4,
 "nbformat_minor": 4
}
