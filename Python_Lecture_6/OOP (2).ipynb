{
 "cells": [
  {
   "cell_type": "code",
   "execution_count": 45,
   "metadata": {},
   "outputs": [],
   "source": [
    "# OOP\n",
    "\n",
    "class Students:  # create a class\n",
    "    pass\n",
    "\n",
    "# each student will have different \n",
    "# data -> attributes \n",
    "# function -> methods "
   ]
  },
  {
   "cell_type": "code",
   "execution_count": 46,
   "metadata": {},
   "outputs": [],
   "source": [
    "Stu1=Students()\n",
    "Stu2=Students()"
   ]
  },
  {
   "cell_type": "code",
   "execution_count": 50,
   "metadata": {},
   "outputs": [],
   "source": [
    "Stu2.name='Jen'\n",
    "Stu2.latname=\"Smith\"\n",
    "Stu2.age=20"
   ]
  },
  {
   "cell_type": "code",
   "execution_count": null,
   "metadata": {},
   "outputs": [],
   "source": []
  },
  {
   "cell_type": "code",
   "execution_count": null,
   "metadata": {},
   "outputs": [],
   "source": []
  },
  {
   "cell_type": "code",
   "execution_count": 51,
   "metadata": {},
   "outputs": [],
   "source": [
    "class Resistors:\n",
    "    pass"
   ]
  },
  {
   "cell_type": "code",
   "execution_count": 52,
   "metadata": {},
   "outputs": [],
   "source": [
    "R1=Resistors()\n",
    "R2=Resistors()"
   ]
  },
  {
   "cell_type": "code",
   "execution_count": 53,
   "metadata": {},
   "outputs": [],
   "source": [
    "R1.black=0\n",
    "R1.brown=1\n",
    "R1.red=2\n",
    "R1.yellow=3"
   ]
  },
  {
   "cell_type": "code",
   "execution_count": null,
   "metadata": {},
   "outputs": [],
   "source": []
  },
  {
   "cell_type": "code",
   "execution_count": 77,
   "metadata": {},
   "outputs": [],
   "source": [
    "class Resistors:\n",
    "    test=2\n",
    "    def __init__(self,black,brown,red,yellow):\n",
    "        self.black = black\n",
    "        self.brown = brown\n",
    "        self.red = red\n",
    "        self.yellow = yellow\n",
    "    def value(self):\n",
    "        return self.black+self.brown+self.red+self.yellow\n",
    "    def doublevalue(self):\n",
    "        return self.test*(self.black+self.brown+self.red+self.yellow)"
   ]
  },
  {
   "cell_type": "code",
   "execution_count": 78,
   "metadata": {},
   "outputs": [],
   "source": [
    "R1=Resistors(2,3,4,5)\n",
    "R2=Resistors(4,1,2,3)"
   ]
  },
  {
   "cell_type": "code",
   "execution_count": 79,
   "metadata": {},
   "outputs": [],
   "source": [
    "Resistors.test=3"
   ]
  },
  {
   "cell_type": "code",
   "execution_count": 82,
   "metadata": {},
   "outputs": [
    {
     "data": {
      "text/plain": [
       "14"
      ]
     },
     "execution_count": 82,
     "metadata": {},
     "output_type": "execute_result"
    }
   ],
   "source": [
    "R1.value()"
   ]
  },
  {
   "cell_type": "code",
   "execution_count": 83,
   "metadata": {},
   "outputs": [
    {
     "data": {
      "text/plain": [
       "42"
      ]
     },
     "execution_count": 83,
     "metadata": {},
     "output_type": "execute_result"
    }
   ],
   "source": [
    "R1.doublevalue()"
   ]
  },
  {
   "cell_type": "code",
   "execution_count": 3,
   "metadata": {},
   "outputs": [],
   "source": [
    "s1=Students()"
   ]
  },
  {
   "cell_type": "code",
   "execution_count": 4,
   "metadata": {},
   "outputs": [],
   "source": [
    "s1.fn='John'\n",
    "s1.ln='Doe'\n",
    "s1.ID=123\n",
    "s1.Exam=12"
   ]
  },
  {
   "cell_type": "code",
   "execution_count": 8,
   "metadata": {},
   "outputs": [
    {
     "data": {
      "text/plain": [
       "{'fn': 'John', 'ln': 'Doe', 'ID': 123, 'Exam': 12}"
      ]
     },
     "execution_count": 8,
     "metadata": {},
     "output_type": "execute_result"
    }
   ],
   "source": [
    "s1.__dict__\n"
   ]
  },
  {
   "cell_type": "code",
   "execution_count": 9,
   "metadata": {},
   "outputs": [],
   "source": [
    "stu1=Students()\n",
    "stu2=Students()"
   ]
  },
  {
   "cell_type": "code",
   "execution_count": 10,
   "metadata": {},
   "outputs": [
    {
     "name": "stdout",
     "output_type": "stream",
     "text": [
      "<__main__.Students object at 0x113939eb8>\n",
      "<__main__.Students object at 0x113939d68>\n"
     ]
    }
   ],
   "source": [
    "print(stu1)\n",
    "print(stu2)"
   ]
  },
  {
   "cell_type": "code",
   "execution_count": 11,
   "metadata": {},
   "outputs": [],
   "source": [
    "# instance 1\n",
    "stu1.fname='John'\n",
    "stu1.lname='Albert'\n",
    "stu1.ID=\"A006564\"\n",
    "stu1.email='John_Albert@txstate.edu'\n",
    "stu1.Midterm=78\n",
    "stu1.Final=92"
   ]
  },
  {
   "cell_type": "code",
   "execution_count": 12,
   "metadata": {},
   "outputs": [],
   "source": [
    "# instance 2\n",
    "stu2.fname='Jen'\n",
    "stu2.lname='Doe'\n",
    "stu2.ID=\"A003223\"\n",
    "stu2.email='Jen_Doe@txstate.edu'\n",
    "stu2.Midterm=48\n",
    "stu2.Final=62"
   ]
  },
  {
   "cell_type": "code",
   "execution_count": 13,
   "metadata": {},
   "outputs": [
    {
     "name": "stdout",
     "output_type": "stream",
     "text": [
      "John_Albert@txstate.edu\n",
      "Jen_Doe@txstate.edu\n"
     ]
    }
   ],
   "source": [
    "print(stu1.email)\n",
    "print(stu2.email)"
   ]
  },
  {
   "cell_type": "code",
   "execution_count": 84,
   "metadata": {},
   "outputs": [],
   "source": [
    "# Use __init__ method\n",
    "\n",
    "class Students:\n",
    "    '''\n",
    "    test\n",
    "    '''\n",
    "    def __init__(self,fname,lname,ID,Midterm,Final): # convention to call instance first argument self\n",
    "        self.fname=fname\n",
    "        self.lname=lname\n",
    "        self.ID=ID\n",
    "        self.Midterm=Midterm\n",
    "        self.Final=Final\n",
    "        self.email=fname + '_' + lname + '@txstate.edu'"
   ]
  },
  {
   "cell_type": "code",
   "execution_count": 85,
   "metadata": {},
   "outputs": [],
   "source": [
    "stu3=Students(\"Hans\",\"Kurt\",\"A001234\",78,44)\n",
    "stu4=Students(\"Pen\",\"Tan\",\"A003412\",98,100)"
   ]
  },
  {
   "cell_type": "code",
   "execution_count": 87,
   "metadata": {},
   "outputs": [
    {
     "name": "stdout",
     "output_type": "stream",
     "text": [
      "Hans_Kurt@txstate.edu\n",
      "Pen_Tan@txstate.edu\n"
     ]
    },
    {
     "data": {
      "text/plain": [
       "{'fname': 'Pen',\n",
       " 'lname': 'Tan',\n",
       " 'ID': 'A003412',\n",
       " 'Midterm': 98,\n",
       " 'Final': 100,\n",
       " 'email': 'Pen_Tan@txstate.edu'}"
      ]
     },
     "execution_count": 87,
     "metadata": {},
     "output_type": "execute_result"
    }
   ],
   "source": [
    "print(stu3.email)\n",
    "print(stu4.email)\n",
    "A=stu4.__dict__\n",
    "A"
   ]
  },
  {
   "cell_type": "code",
   "execution_count": 31,
   "metadata": {},
   "outputs": [],
   "source": [
    "# So far we have added attributes to our class Students. \n",
    "# Now we will add some Methods"
   ]
  },
  {
   "cell_type": "code",
   "execution_count": 88,
   "metadata": {},
   "outputs": [],
   "source": [
    "# Average method\n",
    "\n",
    "class Students:  \n",
    "    def __init__(self,fname,lname,ID,Midterm,Final): # convention to call instance first argument self\n",
    "        self.fname=fname # instance variable\n",
    "        self.lname=lname\n",
    "        self.ID=ID\n",
    "        self.Midterm=Midterm\n",
    "        self.Final=Final\n",
    "        self.email=fname + '_' + lname + '@txstate.edu'\n",
    "    def average(self):\n",
    "        return f'Midterm={self.Midterm} and Final={self.Final} average {0.3*self.Midterm+0.7*self.Final:.2f}'"
   ]
  },
  {
   "cell_type": "code",
   "execution_count": 91,
   "metadata": {},
   "outputs": [],
   "source": [
    "stu3=Students(\"Hans\",\"Kurt\",\"A001234\",44,78)\n",
    "stu4=Students(\"Pen\",\"Tan\",\"A003412\",98,100)"
   ]
  },
  {
   "cell_type": "code",
   "execution_count": 92,
   "metadata": {},
   "outputs": [
    {
     "data": {
      "text/plain": [
       "'Midterm=44 and Final=78 average 67.80'"
      ]
     },
     "execution_count": 92,
     "metadata": {},
     "output_type": "execute_result"
    }
   ],
   "source": [
    "stu3.average()"
   ]
  },
  {
   "cell_type": "code",
   "execution_count": 93,
   "metadata": {},
   "outputs": [],
   "source": [
    "# Average method\n",
    "\n",
    "class Students:  \n",
    "    def __init__(self,fname,lname,ID,Midterm,Final): # convention to call instance first argument self\n",
    "        self.fname=fname\n",
    "        self.lname=lname\n",
    "        self.ID=ID\n",
    "        self.Midterm=Midterm\n",
    "        self.Final=Final\n",
    "        self.email=fname + '_' + lname + '@txstate.edu'\n",
    "    def fullname(self):\n",
    "        return f'{self.fname} {self.lname}'\n",
    "    def average(self):\n",
    "        return f'Midterm={self.Midterm} and Final={self.Final} average {0.3*self.Midterm+0.7*self.Final:.2f}'"
   ]
  },
  {
   "cell_type": "code",
   "execution_count": 94,
   "metadata": {},
   "outputs": [],
   "source": [
    "stu3=Students(\"Hans\",\"Kurt\",\"A001234\",78,44)\n",
    "stu4=Students(\"Pen\",\"Tan\",\"A003412\",98,100)"
   ]
  },
  {
   "cell_type": "code",
   "execution_count": 95,
   "metadata": {},
   "outputs": [
    {
     "data": {
      "text/plain": [
       "'Midterm=78 and Final=44 average 54.20'"
      ]
     },
     "execution_count": 95,
     "metadata": {},
     "output_type": "execute_result"
    }
   ],
   "source": [
    "stu3.average() # instance will pass as argument self "
   ]
  },
  {
   "cell_type": "code",
   "execution_count": 96,
   "metadata": {},
   "outputs": [
    {
     "data": {
      "text/plain": [
       "'Hans Kurt'"
      ]
     },
     "execution_count": 96,
     "metadata": {},
     "output_type": "execute_result"
    }
   ],
   "source": [
    "stu3.fullname()"
   ]
  },
  {
   "cell_type": "code",
   "execution_count": 36,
   "metadata": {},
   "outputs": [
    {
     "data": {
      "text/plain": [
       "'Midterm=98 and Final=100 average 99.40'"
      ]
     },
     "execution_count": 36,
     "metadata": {},
     "output_type": "execute_result"
    }
   ],
   "source": [
    "Students.average(stu4)"
   ]
  },
  {
   "cell_type": "code",
   "execution_count": null,
   "metadata": {},
   "outputs": [],
   "source": []
  },
  {
   "cell_type": "code",
   "execution_count": 97,
   "metadata": {},
   "outputs": [
    {
     "data": {
      "text/plain": [
       "'Midterm=78 and Final=44 average 54.20'"
      ]
     },
     "execution_count": 97,
     "metadata": {},
     "output_type": "execute_result"
    }
   ],
   "source": [
    "Students.average(stu3) # When we run it from class we need to pass instance into method"
   ]
  },
  {
   "cell_type": "code",
   "execution_count": 98,
   "metadata": {},
   "outputs": [],
   "source": [
    "# Part II\n",
    "# Class variables \n",
    "# Assume extra credit\n",
    "\n",
    "class Students:  \n",
    "    def __init__(self,fname,lname,ID,Midterm,Final): # convention to call instance first argument self\n",
    "        self.fname=fname\n",
    "        self.lname=lname\n",
    "        self.ID=ID\n",
    "        self.Midterm=Midterm\n",
    "        self.Final=Final\n",
    "        self.email=fname + '_' + lname + '@txstate.edu'\n",
    "    \n",
    "    def EC(self):\n",
    "        self.Final = self.Final*1.04\n",
    "        return self.Final\n",
    "        \n",
    "    def fullname(self):\n",
    "        return f'{self.fname} {self.lname}'\n",
    "    \n",
    "    def average(self):\n",
    "        return f'Midterm={self.Midterm} and Final={self.Final} average {0.3*self.Midterm+0.7*self.Final:.2f}'               "
   ]
  },
  {
   "cell_type": "code",
   "execution_count": 99,
   "metadata": {},
   "outputs": [],
   "source": [
    "stu3=Students(\"Hans\",\"Kurt\",\"A001234\",78,44)\n",
    "stu4=Students(\"Pen\",\"Tan\",\"A003412\",98,100)"
   ]
  },
  {
   "cell_type": "code",
   "execution_count": 103,
   "metadata": {},
   "outputs": [
    {
     "data": {
      "text/plain": [
       "104.0"
      ]
     },
     "execution_count": 103,
     "metadata": {},
     "output_type": "execute_result"
    }
   ],
   "source": [
    "stu4.Final"
   ]
  },
  {
   "cell_type": "code",
   "execution_count": 102,
   "metadata": {},
   "outputs": [
    {
     "data": {
      "text/plain": [
       "{'fname': 'Pen',\n",
       " 'lname': 'Tan',\n",
       " 'ID': 'A003412',\n",
       " 'Midterm': 98,\n",
       " 'Final': 104.0,\n",
       " 'email': 'Pen_Tan@txstate.edu'}"
      ]
     },
     "execution_count": 102,
     "metadata": {},
     "output_type": "execute_result"
    }
   ],
   "source": [
    "stu4.__dict__"
   ]
  },
  {
   "cell_type": "code",
   "execution_count": 128,
   "metadata": {},
   "outputs": [],
   "source": [
    "# Part II\n",
    "# Class variables \n",
    "# Assume extra credit\n",
    "\n",
    "class Students: \n",
    "    Extra_Credit = 1.04 # class variable\n",
    "    \n",
    "    def __init__(self,fname,lname,ID,Midterm,Final): # convention to call instance first argument self\n",
    "        self.fname=fname\n",
    "        self.lname=lname\n",
    "        self.ID=ID\n",
    "        self.Midterm=Midterm\n",
    "        self.Final=Final\n",
    "        self.email=fname + '_' + lname + '@txstate.edu'\n",
    "    \n",
    "    def EC(self):\n",
    "        self.Final = self.Final*Students.Extra_Credit  # or self.Extra_Credit\n",
    "        return self.Final\n",
    "        \n",
    "    def fullname(self):\n",
    "        return f'{self.fname} {self.lname}'\n",
    "    \n",
    "    def average(self):\n",
    "        return f'Midterm={self.Midterm} and Final={self.Final} average {0.3*self.Midterm+0.7*self.Final:.2f}'               "
   ]
  },
  {
   "cell_type": "code",
   "execution_count": 129,
   "metadata": {},
   "outputs": [],
   "source": [
    "stu3=Students(\"Hans\",\"Kurt\",\"A001234\",78,44)\n",
    "stu4=Students(\"Pen\",\"Tan\",\"A003412\",98,100)"
   ]
  },
  {
   "cell_type": "code",
   "execution_count": 130,
   "metadata": {},
   "outputs": [
    {
     "data": {
      "text/plain": [
       "100"
      ]
     },
     "execution_count": 130,
     "metadata": {},
     "output_type": "execute_result"
    }
   ],
   "source": [
    "stu4.Final"
   ]
  },
  {
   "cell_type": "code",
   "execution_count": 131,
   "metadata": {},
   "outputs": [
    {
     "data": {
      "text/plain": [
       "104.0"
      ]
     },
     "execution_count": 131,
     "metadata": {},
     "output_type": "execute_result"
    }
   ],
   "source": [
    "stu4.EC()"
   ]
  },
  {
   "cell_type": "code",
   "execution_count": null,
   "metadata": {},
   "outputs": [],
   "source": []
  },
  {
   "cell_type": "code",
   "execution_count": 125,
   "metadata": {},
   "outputs": [],
   "source": [
    "stu4.Extra_Credit=1.1"
   ]
  },
  {
   "cell_type": "code",
   "execution_count": 126,
   "metadata": {},
   "outputs": [
    {
     "name": "stdout",
     "output_type": "stream",
     "text": [
      "{'fname': 'Pen', 'lname': 'Tan', 'ID': 'A003412', 'Midterm': 98, 'Final': 100, 'email': 'Pen_Tan@txstate.edu', 'Extra_Credit': 1.1}\n",
      "{'fname': 'Hans', 'lname': 'Kurt', 'ID': 'A001234', 'Midterm': 78, 'Final': 44, 'email': 'Hans_Kurt@txstate.edu'}\n"
     ]
    }
   ],
   "source": [
    "## Access student namespace\n",
    "\n",
    "print(stu4.__dict__)\n",
    "print(stu3.__dict__)"
   ]
  },
  {
   "cell_type": "code",
   "execution_count": 115,
   "metadata": {},
   "outputs": [
    {
     "name": "stdout",
     "output_type": "stream",
     "text": [
      "{'__module__': '__main__', 'Extra_Credit': 1.04, '__init__': <function Students.__init__ at 0x7fa528280d40>, 'EC': <function Students.EC at 0x7fa528280b00>, 'fullname': <function Students.fullname at 0x7fa500442a70>, 'average': <function Students.average at 0x7fa5004429e0>, '__dict__': <attribute '__dict__' of 'Students' objects>, '__weakref__': <attribute '__weakref__' of 'Students' objects>, '__doc__': None}\n"
     ]
    }
   ],
   "source": [
    "print(Students.__dict__)"
   ]
  },
  {
   "cell_type": "code",
   "execution_count": 57,
   "metadata": {},
   "outputs": [],
   "source": [
    "Students.Extra_Credit = 1.1"
   ]
  },
  {
   "cell_type": "code",
   "execution_count": 62,
   "metadata": {},
   "outputs": [
    {
     "data": {
      "text/plain": [
       "{'fname': 'Tan',\n",
       " 'lname': 'Tan',\n",
       " 'ID': 'A003412',\n",
       " 'Midterm': 98,\n",
       " 'Final': 110.00000000000001,\n",
       " 'email': 'Pen_Tan@txstate.edu'}"
      ]
     },
     "execution_count": 62,
     "metadata": {},
     "output_type": "execute_result"
    }
   ],
   "source": [
    "stu4.__dict__"
   ]
  },
  {
   "cell_type": "code",
   "execution_count": 59,
   "metadata": {},
   "outputs": [
    {
     "name": "stdout",
     "output_type": "stream",
     "text": [
      "{'__module__': '__main__', 'Extra_Credit': 1.1, '__init__': <function Students.__init__ at 0x1135b97b8>, 'EC': <function Students.EC at 0x1135b9510>, 'fullname': <function Students.fullname at 0x1135b9488>, 'average': <function Students.average at 0x1135b92f0>, '__dict__': <attribute '__dict__' of 'Students' objects>, '__weakref__': <attribute '__weakref__' of 'Students' objects>, '__doc__': None}\n"
     ]
    }
   ],
   "source": [
    "print(Students.__dict__)"
   ]
  },
  {
   "cell_type": "code",
   "execution_count": 63,
   "metadata": {},
   "outputs": [
    {
     "data": {
      "text/plain": [
       "'Pen_Tan@txstate.edu'"
      ]
     },
     "execution_count": 63,
     "metadata": {},
     "output_type": "execute_result"
    }
   ],
   "source": [
    "stu4.email"
   ]
  },
  {
   "cell_type": "code",
   "execution_count": 61,
   "metadata": {},
   "outputs": [],
   "source": [
    "stu4.fname='Tan'"
   ]
  },
  {
   "cell_type": "code",
   "execution_count": 127,
   "metadata": {},
   "outputs": [
    {
     "data": {
      "text/plain": [
       "'99.000'"
      ]
     },
     "execution_count": 127,
     "metadata": {},
     "output_type": "execute_result"
    }
   ],
   "source": [
    "f'{stu4.EC():.3f}'"
   ]
  },
  {
   "cell_type": "code",
   "execution_count": 132,
   "metadata": {},
   "outputs": [],
   "source": [
    "# just change student 4\n",
    "stu4.Extra_Credit = 1.1"
   ]
  },
  {
   "cell_type": "code",
   "execution_count": 134,
   "metadata": {},
   "outputs": [
    {
     "data": {
      "text/plain": [
       "93.60000000000001"
      ]
     },
     "execution_count": 134,
     "metadata": {},
     "output_type": "execute_result"
    }
   ],
   "source": [
    "stu4.EC()"
   ]
  },
  {
   "cell_type": "code",
   "execution_count": 80,
   "metadata": {},
   "outputs": [],
   "source": [
    "# Class variables \n",
    "# Assume extra credit\n",
    "\n",
    "class Students: \n",
    "    Extra_Credit = 1.04 # class variable\n",
    "    \n",
    "    def __init__(self,fname,lname,ID,Midterm,Final): # convention to call instance first argument self\n",
    "        self.fname=fname\n",
    "        self.lname=lname\n",
    "        self.ID=ID\n",
    "        self.Midterm=Midterm\n",
    "        self.Final=Final\n",
    "        self.email=fname + '_' + lname + '@txstate.edu'\n",
    "    \n",
    "    def EC(self):\n",
    "        self.Final = self.Final*self.Extra_Credit  # or Students.Extra_Credit\n",
    "        return self.Final\n",
    "        \n",
    "    def fullname(self):\n",
    "        return f'{self.fname} {self.lname}'\n",
    "    \n",
    "    def average(self):\n",
    "        return f'Midterm={self.Midterm} and Final={self.Final} average {0.3*self.Midterm+0.7*self.Final:.2f}'               "
   ]
  },
  {
   "cell_type": "code",
   "execution_count": 81,
   "metadata": {},
   "outputs": [
    {
     "name": "stdout",
     "output_type": "stream",
     "text": [
      "{'__module__': '__main__', 'Extra_Credit': 1.04, '__init__': <function Students.__init__ at 0x1134706a8>, 'EC': <function Students.EC at 0x113470c80>, 'fullname': <function Students.fullname at 0x113470f28>, 'average': <function Students.average at 0x113470598>, '__dict__': <attribute '__dict__' of 'Students' objects>, '__weakref__': <attribute '__weakref__' of 'Students' objects>, '__doc__': None}\n"
     ]
    }
   ],
   "source": [
    "print(Students.__dict__)"
   ]
  },
  {
   "cell_type": "code",
   "execution_count": 82,
   "metadata": {},
   "outputs": [],
   "source": [
    "stu3=Students(\"Hans\",\"Kurt\",\"A001234\",78,44)\n",
    "stu4=Students(\"Pen\",\"Tan\",\"A003412\",98,100)"
   ]
  },
  {
   "cell_type": "code",
   "execution_count": 83,
   "metadata": {},
   "outputs": [
    {
     "data": {
      "text/plain": [
       "100"
      ]
     },
     "execution_count": 83,
     "metadata": {},
     "output_type": "execute_result"
    }
   ],
   "source": [
    "stu4.Final"
   ]
  },
  {
   "cell_type": "code",
   "execution_count": 84,
   "metadata": {},
   "outputs": [
    {
     "data": {
      "text/plain": [
       "104.0"
      ]
     },
     "execution_count": 84,
     "metadata": {},
     "output_type": "execute_result"
    }
   ],
   "source": [
    "stu4.EC()"
   ]
  },
  {
   "cell_type": "code",
   "execution_count": 85,
   "metadata": {},
   "outputs": [],
   "source": [
    "stu4.Extra_Credit=1.1"
   ]
  },
  {
   "cell_type": "code",
   "execution_count": 86,
   "metadata": {},
   "outputs": [
    {
     "data": {
      "text/plain": [
       "114.4"
      ]
     },
     "execution_count": 86,
     "metadata": {},
     "output_type": "execute_result"
    }
   ],
   "source": [
    "stu4.EC()"
   ]
  },
  {
   "cell_type": "code",
   "execution_count": 87,
   "metadata": {},
   "outputs": [
    {
     "data": {
      "text/plain": [
       "44"
      ]
     },
     "execution_count": 87,
     "metadata": {},
     "output_type": "execute_result"
    }
   ],
   "source": [
    "stu3.Final"
   ]
  },
  {
   "cell_type": "code",
   "execution_count": 88,
   "metadata": {},
   "outputs": [
    {
     "data": {
      "text/plain": [
       "45.760000000000005"
      ]
     },
     "execution_count": 88,
     "metadata": {},
     "output_type": "execute_result"
    }
   ],
   "source": [
    "stu3.EC()"
   ]
  },
  {
   "cell_type": "code",
   "execution_count": 158,
   "metadata": {},
   "outputs": [
    {
     "name": "stdout",
     "output_type": "stream",
     "text": [
      "{'__module__': '__main__', 'Extra_Credit': 1.04, '__init__': <function Students.__init__ at 0x7fa5282de3b0>, 'EC': <function Students.EC at 0x7fa5282de170>, 'fullname': <function Students.fullname at 0x7fa5282de5f0>, 'average': <function Students.average at 0x7fa5282de560>, '__dict__': <attribute '__dict__' of 'Students' objects>, '__weakref__': <attribute '__weakref__' of 'Students' objects>, '__doc__': None}\n"
     ]
    }
   ],
   "source": [
    "print(Students.__dict__)"
   ]
  },
  {
   "cell_type": "code",
   "execution_count": 161,
   "metadata": {},
   "outputs": [
    {
     "name": "stdout",
     "output_type": "stream",
     "text": [
      "{'fname': 'Hans', 'lname': 'Kurt', 'ID': 'A001234', 'Midterm': 78, 'Final': 45.760000000000005, 'email': 'Hans_Kurt@txstate.edu'}\n"
     ]
    }
   ],
   "source": [
    "print(stu3.__dict__)"
   ]
  },
  {
   "cell_type": "code",
   "execution_count": 162,
   "metadata": {},
   "outputs": [
    {
     "name": "stdout",
     "output_type": "stream",
     "text": [
      "{'fname': 'Pen', 'lname': 'Tan', 'ID': 'A003412', 'Midterm': 98, 'Final': 110.00000000000001, 'email': 'Pen_Tan@txstate.edu', 'Extra_Credit': 1.1}\n"
     ]
    }
   ],
   "source": [
    "print(stu4.__dict__)"
   ]
  },
  {
   "cell_type": "code",
   "execution_count": 132,
   "metadata": {},
   "outputs": [],
   "source": [
    "# Number of students\n",
    "# \n",
    "\n",
    "class Students: \n",
    "    Extra_Credit = 1.04 # class variable\n",
    "    Num_Stu = 0\n",
    "    \n",
    "    def __init__(self,fname,lname,ID,Midterm,Final): # convention to call instance first argument self\n",
    "        self.fname=fname\n",
    "        self.lname=lname\n",
    "        self.ID=ID\n",
    "        self.Midterm=Midterm\n",
    "        self.Final=Final\n",
    "        self.email=fname + '_' + lname + '@txstate.edu'\n",
    "        Students.Num_Stu = Students.Num_Stu + 1\n",
    "    \n",
    "    def EC(self):\n",
    "        self.Final = self.Final*self.Extra_Credit  # or self.Extra_Credit\n",
    "        return self.Final\n",
    "        \n",
    "    def fullname(self):\n",
    "        return f'{self.fname} {self.lname}'\n",
    "    \n",
    "    def average(self):\n",
    "        return f'Midterm={self.Midterm} and Final={self.Final} average {0.3*self.Midterm+0.7*self.Final:.2f}'               "
   ]
  },
  {
   "cell_type": "code",
   "execution_count": 133,
   "metadata": {},
   "outputs": [
    {
     "data": {
      "text/plain": [
       "0"
      ]
     },
     "execution_count": 133,
     "metadata": {},
     "output_type": "execute_result"
    }
   ],
   "source": [
    "Students.Num_Stu"
   ]
  },
  {
   "cell_type": "code",
   "execution_count": 134,
   "metadata": {},
   "outputs": [],
   "source": [
    "stu1=Students(\"John\",\"Albert\",\"A006564\",78,92)\n",
    "stu2=Students(\"Jen\",\"Doe\",\"A003223\",48,62)\n",
    "stu3=Students(\"Hans\",\"Kurt\",\"A001234\",78,44)\n",
    "stu4=Students(\"Pen\",\"Tan\",\"A003412\",98,100)"
   ]
  },
  {
   "cell_type": "code",
   "execution_count": 135,
   "metadata": {},
   "outputs": [
    {
     "data": {
      "text/plain": [
       "4"
      ]
     },
     "execution_count": 135,
     "metadata": {},
     "output_type": "execute_result"
    }
   ],
   "source": [
    "Students.Num_Stu"
   ]
  },
  {
   "cell_type": "code",
   "execution_count": null,
   "metadata": {},
   "outputs": [],
   "source": [
    "# Class Methods \n",
    "# Static Method\n"
   ]
  },
  {
   "cell_type": "code",
   "execution_count": 136,
   "metadata": {},
   "outputs": [],
   "source": [
    "class Students: \n",
    "    Extra_Credit = 1.04 # class variable\n",
    "    Num_Stu = 0\n",
    "    \n",
    "    def __init__(self,fname,lname,ID,Midterm,Final): # convention to call instance first argument self\n",
    "        self.fname=fname\n",
    "        self.lname=lname\n",
    "        self.ID=ID\n",
    "        self.Midterm=int(Midterm)\n",
    "        self.Final=int(Final)\n",
    "        self.email=fname + '_' + lname + '@txstate.edu'\n",
    "        Students.Num_Stu = Students.Num_Stu + 1\n",
    "    \n",
    "    def EC(self):\n",
    "        self.Final = self.Final*Students.Extra_Credit  # or self.Extra_Credit\n",
    "        return self.Final\n",
    "        \n",
    "    def fullname(self):\n",
    "        return f'{self.fname} {self.lname}'\n",
    "    \n",
    "    def average(self):\n",
    "        return f'Midterm={self.Midterm} and Final={self.Final} average {0.3*self.Midterm+0.7*self.Final:.2f}'               \n",
    "    @classmethod # classmehod decorators\n",
    "    def set_Extra_Credit(cls,amount): # will take class as first argument not self\n",
    "        cls.Extra_Credit = amount\n",
    "    "
   ]
  },
  {
   "cell_type": "code",
   "execution_count": 138,
   "metadata": {},
   "outputs": [],
   "source": [
    "stu1=Students(\"John\",\"Albert\",\"A006564\",78,92)\n",
    "stu2=Students(\"Jen\",\"Doe\",\"A003223\",48,62)\n",
    "stu3=Students(\"Hans\",\"Kurt\",\"A001234\",78,44)\n",
    "stu4=Students(\"Pen\",\"Tan\",\"A003412\",98,100)"
   ]
  },
  {
   "cell_type": "code",
   "execution_count": 139,
   "metadata": {},
   "outputs": [
    {
     "name": "stdout",
     "output_type": "stream",
     "text": [
      "1.04\n",
      "1.04\n",
      "1.04\n",
      "1.04\n",
      "1.04\n"
     ]
    }
   ],
   "source": [
    "print(Students.Extra_Credit)\n",
    "print(stu1.Extra_Credit)\n",
    "print(stu2.Extra_Credit)\n",
    "print(stu3.Extra_Credit)\n",
    "print(stu4.Extra_Credit)"
   ]
  },
  {
   "cell_type": "code",
   "execution_count": 140,
   "metadata": {},
   "outputs": [
    {
     "name": "stdout",
     "output_type": "stream",
     "text": [
      "1.1\n",
      "1.1\n",
      "1.1\n",
      "1.1\n",
      "1.1\n"
     ]
    }
   ],
   "source": [
    "Students.set_Extra_Credit(1.1)\n",
    "print(Students.Extra_Credit)\n",
    "print(stu1.Extra_Credit)\n",
    "print(stu2.Extra_Credit)\n",
    "print(stu3.Extra_Credit)\n",
    "print(stu4.Extra_Credit)\n",
    "\n",
    "# same as Students.Extra_Credit = 1.1"
   ]
  },
  {
   "cell_type": "code",
   "execution_count": 97,
   "metadata": {},
   "outputs": [
    {
     "name": "stdout",
     "output_type": "stream",
     "text": [
      "{'__module__': '__main__', 'Extra_Credit': 1.1, 'Num_Stu': 4, '__init__': <function Students.__init__ at 0x1135b98c8>, 'EC': <function Students.EC at 0x1135b9378>, 'fullname': <function Students.fullname at 0x1135b90d0>, 'average': <function Students.average at 0x1135b9bf8>, 'set_Extra_Credit': <classmethod object at 0x11369f2e8>, '__dict__': <attribute '__dict__' of 'Students' objects>, '__weakref__': <attribute '__weakref__' of 'Students' objects>, '__doc__': None}\n"
     ]
    }
   ],
   "source": [
    "print(Students.__dict__)"
   ]
  },
  {
   "cell_type": "code",
   "execution_count": 142,
   "metadata": {},
   "outputs": [
    {
     "name": "stdout",
     "output_type": "stream",
     "text": [
      "1.15\n",
      "1.15\n",
      "1.15\n",
      "1.15\n",
      "1.15\n",
      "1.1\n",
      "1.1\n",
      "1.1\n",
      "1.1\n",
      "1.1\n"
     ]
    }
   ],
   "source": [
    "stu1.set_Extra_Credit(1.15)\n",
    "print(Students.Extra_Credit)\n",
    "print(stu1.Extra_Credit)\n",
    "print(stu2.Extra_Credit)\n",
    "print(stu3.Extra_Credit)\n",
    "print(stu4.Extra_Credit)\n",
    "Students.Extra_Credit = 1.1\n",
    "print(Students.Extra_Credit)\n",
    "print(stu1.Extra_Credit)\n",
    "print(stu2.Extra_Credit)\n",
    "print(stu3.Extra_Credit)\n",
    "print(stu4.Extra_Credit)"
   ]
  },
  {
   "cell_type": "code",
   "execution_count": 143,
   "metadata": {},
   "outputs": [],
   "source": [
    "Student_1 = 'Joh/Albert/A006564/78/92'\n",
    "Student_2 = 'Jenn/Doee/AA003223/58/72'\n",
    "Student_3 = 'Hans/Kurt/A001234/78/44'\n",
    "Student_4 = 'Pen/Tan/A003412/98/100'"
   ]
  },
  {
   "cell_type": "code",
   "execution_count": 146,
   "metadata": {},
   "outputs": [],
   "source": [
    "fname,lname,ID,Midterm,Final = Student_2.split('/')\n",
    "sttu2=Students(fname,lname,ID,Midterm,Final)"
   ]
  },
  {
   "cell_type": "code",
   "execution_count": 148,
   "metadata": {},
   "outputs": [
    {
     "data": {
      "text/plain": [
       "'Midterm=58 and Final=72 average 67.80'"
      ]
     },
     "execution_count": 148,
     "metadata": {},
     "output_type": "execute_result"
    }
   ],
   "source": [
    "sttu2.average()"
   ]
  },
  {
   "cell_type": "code",
   "execution_count": null,
   "metadata": {},
   "outputs": [],
   "source": []
  },
  {
   "cell_type": "code",
   "execution_count": 202,
   "metadata": {},
   "outputs": [
    {
     "data": {
      "text/plain": [
       "105.8"
      ]
     },
     "execution_count": 202,
     "metadata": {},
     "output_type": "execute_result"
    }
   ],
   "source": [
    "sttu1.EC()"
   ]
  },
  {
   "cell_type": "code",
   "execution_count": 149,
   "metadata": {},
   "outputs": [],
   "source": [
    "class Students: \n",
    "    Extra_Credit = 1.04 # class variable\n",
    "    Num_Stu = 0\n",
    "    \n",
    "    def __init__(self,fname,lname,ID,Midterm,Final): # convention to call instance first argument self\n",
    "        self.fname=fname\n",
    "        self.lname=lname\n",
    "        self.ID=ID\n",
    "        self.Midterm=int(Midterm)\n",
    "        self.Final=int(Final)\n",
    "        self.email=fname + '_' + lname + '@txstate.edu'\n",
    "        Students.Num_Stu = Students.Num_Stu + 1\n",
    "    \n",
    "    def EC(self):\n",
    "        self.Final = self.Final*self.Extra_Credit  # or self.Extra_Credit\n",
    "        return self.Final\n",
    "        \n",
    "    def fullname(self):\n",
    "        return f'{self.fname} {self.lname}'\n",
    "    \n",
    "    def average(self):\n",
    "        return f'Midterm={self.Midterm} and Final={self.Final} average {0.3*self.Midterm+0.7*self.Final:.2f}'               \n",
    "    @classmethod # classmehod decorators\n",
    "    def set_Extra_Credit(cls,amount): # will take class as first argument not self\n",
    "        cls.Extra_Credit = amount\n",
    "        \n",
    "    @classmethod # classmehod decorators\n",
    "    def from_string(cls,stu_str): # will take class as first argument not self\n",
    "        fname,lname,ID,Midterm,Final = stu_str.split('/')\n",
    "        return cls(fname,lname,ID,Midterm,Final)    "
   ]
  },
  {
   "cell_type": "code",
   "execution_count": 150,
   "metadata": {},
   "outputs": [],
   "source": [
    "Student_1 = 'Joh/Albert/A006564/78/92'\n",
    "Student_2 = 'Jenn/Doee/AA003223/58/72'\n",
    "Student_3 = 'Hans/Kurt/A001234/78/44'\n",
    "Student_4 = 'Pen/Tan/A003412/98/100'"
   ]
  },
  {
   "cell_type": "code",
   "execution_count": 158,
   "metadata": {},
   "outputs": [],
   "source": [
    "St=['Joh/Albert/A006564/78/92','Jenn/Doee/AA003223/58/72','Hans/Kurt/A001234/78/44','Pen/Tan/A003412/98/100']"
   ]
  },
  {
   "cell_type": "code",
   "execution_count": 159,
   "metadata": {},
   "outputs": [],
   "source": [
    "for i,j in zip(St,range(len(St))):\n",
    "    j=Students.from_string(i)"
   ]
  },
  {
   "cell_type": "code",
   "execution_count": 160,
   "metadata": {},
   "outputs": [
    {
     "ename": "SyntaxError",
     "evalue": "invalid syntax (<ipython-input-160-d9ffcd9ad0bd>, line 1)",
     "output_type": "error",
     "traceback": [
      "\u001b[0;36m  File \u001b[0;32m\"<ipython-input-160-d9ffcd9ad0bd>\"\u001b[0;36m, line \u001b[0;32m1\u001b[0m\n\u001b[0;31m    2.__dict__\u001b[0m\n\u001b[0m             ^\u001b[0m\n\u001b[0;31mSyntaxError\u001b[0m\u001b[0;31m:\u001b[0m invalid syntax\n"
     ]
    }
   ],
   "source": [
    "2.__dict__"
   ]
  },
  {
   "cell_type": "code",
   "execution_count": 161,
   "metadata": {},
   "outputs": [],
   "source": [
    "class Students: \n",
    "    Extra_Credit = 1.04 # class variable\n",
    "    Num_Stu = 0\n",
    "    \n",
    "    def __init__(self,fname,lname,ID,Midterm,Final): # convention to call instance first argument self\n",
    "        self.fname=fname\n",
    "        self.lname=lname\n",
    "        self.ID=ID\n",
    "        self.Midterm=int(Midterm)\n",
    "        self.Final=int(Final)\n",
    "        self.email=fname + '_' + lname + '@txstate.edu'\n",
    "        Students.Num_Stu = Students.Num_Stu + 1\n",
    "    \n",
    "    def EC(self):\n",
    "        self.Final = self.Final*self.Extra_Credit  # or self.Extra_Credit\n",
    "        return self.Final\n",
    "        \n",
    "    def fullname(self):\n",
    "        return f'{self.fname} {self.lname}'\n",
    "    \n",
    "    def average(self):\n",
    "        return f'Midterm={self.Midterm} and Final={self.Final} average {0.3*self.Midterm+0.7*self.Final:.2f}'               \n",
    "    @classmethod # classmehod decorators\n",
    "    def set_Extra_Credit(cls,amount): # will take class as first argument not self\n",
    "        cls.Extra_Credit = amount\n",
    "        \n",
    "    @classmethod # classmehod decorators\n",
    "    def from_string(cls,stu_str): # will take class as first argument not self\n",
    "        fname,lname,ID,Midterm,Final = stu_str.split('/')\n",
    "        return cls(fname,lname,ID,Midterm,Final) \n",
    "    \n",
    "    @staticmethod  # you do not access class or method anywhere\n",
    "    def is_class_day(day):\n",
    "        if (day.weekday() == 5 or day.weekday() == 6):\n",
    "            return False\n",
    "        else:\n",
    "            return True"
   ]
  },
  {
   "cell_type": "code",
   "execution_count": 163,
   "metadata": {},
   "outputs": [
    {
     "data": {
      "text/plain": [
       "False"
      ]
     },
     "execution_count": 163,
     "metadata": {},
     "output_type": "execute_result"
    }
   ],
   "source": [
    "import datetime\n",
    "date = datetime.date(2020,12,5)\n",
    "Students.is_class_day(date)"
   ]
  },
  {
   "cell_type": "code",
   "execution_count": 164,
   "metadata": {},
   "outputs": [],
   "source": [
    "class Students: \n",
    "    Extra_Credit = 1.04 # class variable\n",
    "    Num_Stu = 0\n",
    "    \n",
    "    def __init__(self,fname,lname,ID,Midterm,Final): # convention to call instance first argument self\n",
    "        self.fname=fname\n",
    "        self.lname=lname\n",
    "        self.ID=ID\n",
    "        self.Midterm=int(Midterm)\n",
    "        self.Final=int(Final)\n",
    "        self.email=fname + '_' + lname + '@txstate.edu'\n",
    "        Students.Num_Stu = Students.Num_Stu + 1\n",
    "    \n",
    "    def EC(self):\n",
    "        self.Final = self.Final*self.Extra_Credit  # or self.Extra_Credit\n",
    "        return self.Final\n",
    "        \n",
    "    def fullname(self):\n",
    "        return f'{self.fname} {self.lname}'\n",
    "    \n",
    "    def average(self):\n",
    "        return f'Midterm={self.Midterm} and Final={self.Final} average {0.3*self.Midterm+0.7*self.Final:.2f}'               \n",
    "    @classmethod # classmehod decorators\n",
    "    def set_Extra_Credit(cls,amount): # will take class as first argument not self\n",
    "        cls.Extra_Credit = amount\n",
    "        \n",
    "    @classmethod # classmehod decorators\n",
    "    def from_string(cls,stu_str): # will take class as first argument not self\n",
    "        fname,lname,ID,Midterm,Final = stu_str.split('/')\n",
    "        return cls(fname,lname,ID,Midterm,Final) \n",
    "    \n",
    "    @staticmethod  # you do not access class or methos anywhere\n",
    "    def is_class_day(day):\n",
    "        if (day.weekday() == 5 or day.weekday() == 6):\n",
    "            return False\n",
    "        else:\n",
    "            return True\n",
    "\n",
    "class EE3326(Students):\n",
    "    pass"
   ]
  },
  {
   "cell_type": "code",
   "execution_count": 167,
   "metadata": {},
   "outputs": [],
   "source": [
    "EE3326_stu1=EE3326(\"John\",\"Albert\",\"A006564\",78,92)\n",
    "EE3326_stu2=EE3326(\"Jen\",\"Doe\",\"A003223\",48,62)\n",
    "EE3326_stu3=EE3326(\"Hans\",\"Kurt\",\"A001234\",78,44)\n",
    "EE3326_stu4=EE3326(\"Pen\",\"Tan\",\"A003412\",98,100)"
   ]
  },
  {
   "cell_type": "code",
   "execution_count": 134,
   "metadata": {},
   "outputs": [
    {
     "data": {
      "text/plain": [
       "{'fname': 'John',\n",
       " 'lname': 'Albert',\n",
       " 'ID': 'A006564',\n",
       " 'Midterm': 78,\n",
       " 'Final': 92,\n",
       " 'email': 'John_Albert@txstate.edu'}"
      ]
     },
     "execution_count": 134,
     "metadata": {},
     "output_type": "execute_result"
    }
   ],
   "source": [
    "EE3326_stu1.__dict__"
   ]
  },
  {
   "cell_type": "code",
   "execution_count": 225,
   "metadata": {},
   "outputs": [
    {
     "name": "stdout",
     "output_type": "stream",
     "text": [
      "Help on class EE3326 in module __main__:\n",
      "\n",
      "class EE3326(Students)\n",
      " |  EE3326(fname, lname, ID, Midterm, Final)\n",
      " |  \n",
      " |  Method resolution order:\n",
      " |      EE3326\n",
      " |      Students\n",
      " |      builtins.object\n",
      " |  \n",
      " |  Methods inherited from Students:\n",
      " |  \n",
      " |  EC(self)\n",
      " |  \n",
      " |  __init__(self, fname, lname, ID, Midterm, Final)\n",
      " |      Initialize self.  See help(type(self)) for accurate signature.\n",
      " |  \n",
      " |  average(self)\n",
      " |  \n",
      " |  fullname(self)\n",
      " |  \n",
      " |  ----------------------------------------------------------------------\n",
      " |  Class methods inherited from Students:\n",
      " |  \n",
      " |  from_string(stu_str) from builtins.type\n",
      " |  \n",
      " |  set_Extra_Credit(amount) from builtins.type\n",
      " |  \n",
      " |  ----------------------------------------------------------------------\n",
      " |  Static methods inherited from Students:\n",
      " |  \n",
      " |  is_class_day(day)\n",
      " |  \n",
      " |  ----------------------------------------------------------------------\n",
      " |  Data descriptors inherited from Students:\n",
      " |  \n",
      " |  __dict__\n",
      " |      dictionary for instance variables (if defined)\n",
      " |  \n",
      " |  __weakref__\n",
      " |      list of weak references to the object (if defined)\n",
      " |  \n",
      " |  ----------------------------------------------------------------------\n",
      " |  Data and other attributes inherited from Students:\n",
      " |  \n",
      " |  Extra_Credit = 1.04\n",
      " |  \n",
      " |  Num_Stu = 4\n",
      "\n",
      "None\n"
     ]
    }
   ],
   "source": [
    "print(help(EE3326))"
   ]
  },
  {
   "cell_type": "code",
   "execution_count": 135,
   "metadata": {},
   "outputs": [
    {
     "data": {
      "text/plain": [
       "92"
      ]
     },
     "execution_count": 135,
     "metadata": {},
     "output_type": "execute_result"
    }
   ],
   "source": [
    "EE3326_stu1.Final"
   ]
  },
  {
   "cell_type": "code",
   "execution_count": 136,
   "metadata": {},
   "outputs": [
    {
     "data": {
      "text/plain": [
       "95.68"
      ]
     },
     "execution_count": 136,
     "metadata": {},
     "output_type": "execute_result"
    }
   ],
   "source": [
    "EE3326_stu1.EC()"
   ]
  },
  {
   "cell_type": "code",
   "execution_count": 137,
   "metadata": {},
   "outputs": [
    {
     "data": {
      "text/plain": [
       "1.04"
      ]
     },
     "execution_count": 137,
     "metadata": {},
     "output_type": "execute_result"
    }
   ],
   "source": [
    "EE3326.Extra_Credit"
   ]
  },
  {
   "cell_type": "code",
   "execution_count": 138,
   "metadata": {},
   "outputs": [],
   "source": [
    "EE3326.set_Extra_Credit=1.1"
   ]
  },
  {
   "cell_type": "code",
   "execution_count": 139,
   "metadata": {},
   "outputs": [
    {
     "data": {
      "text/plain": [
       "62"
      ]
     },
     "execution_count": 139,
     "metadata": {},
     "output_type": "execute_result"
    }
   ],
   "source": [
    "EE3326_stu2.Final"
   ]
  },
  {
   "cell_type": "code",
   "execution_count": 232,
   "metadata": {},
   "outputs": [
    {
     "data": {
      "text/plain": [
       "1.04"
      ]
     },
     "execution_count": 232,
     "metadata": {},
     "output_type": "execute_result"
    }
   ],
   "source": [
    "EE3326.Extra_Credit"
   ]
  },
  {
   "cell_type": "code",
   "execution_count": 235,
   "metadata": {},
   "outputs": [],
   "source": [
    "EE3326.Extra_Credit=1.1"
   ]
  },
  {
   "cell_type": "code",
   "execution_count": 236,
   "metadata": {},
   "outputs": [
    {
     "data": {
      "text/plain": [
       "1.1"
      ]
     },
     "execution_count": 236,
     "metadata": {},
     "output_type": "execute_result"
    }
   ],
   "source": [
    "EE3326.Extra_Credit"
   ]
  },
  {
   "cell_type": "code",
   "execution_count": 237,
   "metadata": {},
   "outputs": [
    {
     "data": {
      "text/plain": [
       "64.48"
      ]
     },
     "execution_count": 237,
     "metadata": {},
     "output_type": "execute_result"
    }
   ],
   "source": [
    "EE3326_stu2.Final"
   ]
  },
  {
   "cell_type": "code",
   "execution_count": 238,
   "metadata": {},
   "outputs": [
    {
     "data": {
      "text/plain": [
       "70.92800000000001"
      ]
     },
     "execution_count": 238,
     "metadata": {},
     "output_type": "execute_result"
    }
   ],
   "source": [
    "EE3326_stu2.EC()"
   ]
  },
  {
   "cell_type": "code",
   "execution_count": 166,
   "metadata": {},
   "outputs": [],
   "source": [
    "class Students: \n",
    "    Extra_Credit = 1.04 # class variable\n",
    "    Num_Stu = 0\n",
    "    \n",
    "    def __init__(self,fname,lname,ID,Midterm,Final): # convention to call instance first argument self\n",
    "        self.fname=fname\n",
    "        self.lname=lname\n",
    "        self.ID=ID\n",
    "        self.Midterm=int(Midterm)\n",
    "        self.Final=int(Final)\n",
    "        self.email=fname + '_' + lname + '@txstate.edu'\n",
    "        Students.Num_Stu = Students.Num_Stu + 1\n",
    "    \n",
    "    def EC(self):\n",
    "        self.Final = self.Final*self.Extra_Credit  # or self.Extra_Credit\n",
    "        return self.Final\n",
    "        \n",
    "    def fullname(self):\n",
    "        return f'{self.fname} {self.lname}'\n",
    "    \n",
    "    def average(self):\n",
    "        return f'Midterm={self.Midterm} and Final={self.Final} average {0.3*self.Midterm+0.7*self.Final:.2f}'               \n",
    "    @classmethod # classmehod decorators\n",
    "    def set_Extra_Credit(cls,amount): # will take class as first argument not self\n",
    "        cls.Extra_Credit = amount\n",
    "        \n",
    "    @classmethod # classmehod decorators\n",
    "    def from_string(cls,stu_str): # will take class as first argument not self\n",
    "        fname,lname,ID,Midterm,Final = stu_str.split('/')\n",
    "        return cls(fname,lname,ID,Midterm,Final) \n",
    "    \n",
    "    @staticmethod  # you do not access class or methos anywhere\n",
    "    def is_class_day(day):\n",
    "        if (day.weekday() == 5 or day.weekday() == 6):\n",
    "            return False\n",
    "        else:\n",
    "            return True\n",
    "class EE3326(Students):\n",
    "    Extra_Credit = 1.2"
   ]
  },
  {
   "cell_type": "code",
   "execution_count": 168,
   "metadata": {},
   "outputs": [
    {
     "data": {
      "text/plain": [
       "100"
      ]
     },
     "execution_count": 168,
     "metadata": {},
     "output_type": "execute_result"
    }
   ],
   "source": [
    "EE3326_stu4.Final"
   ]
  },
  {
   "cell_type": "code",
   "execution_count": 169,
   "metadata": {},
   "outputs": [
    {
     "data": {
      "text/plain": [
       "120.0"
      ]
     },
     "execution_count": 169,
     "metadata": {},
     "output_type": "execute_result"
    }
   ],
   "source": [
    "EE3326_stu4.EC()"
   ]
  },
  {
   "cell_type": "code",
   "execution_count": 170,
   "metadata": {},
   "outputs": [
    {
     "data": {
      "text/plain": [
       "1.2"
      ]
     },
     "execution_count": 170,
     "metadata": {},
     "output_type": "execute_result"
    }
   ],
   "source": [
    "EE3326.Extra_Credit"
   ]
  },
  {
   "cell_type": "code",
   "execution_count": 255,
   "metadata": {},
   "outputs": [
    {
     "data": {
      "text/plain": [
       "100"
      ]
     },
     "execution_count": 255,
     "metadata": {},
     "output_type": "execute_result"
    }
   ],
   "source": [
    "EE3326_stu4.Final"
   ]
  },
  {
   "cell_type": "code",
   "execution_count": 256,
   "metadata": {},
   "outputs": [
    {
     "data": {
      "text/plain": [
       "120.0"
      ]
     },
     "execution_count": 256,
     "metadata": {},
     "output_type": "execute_result"
    }
   ],
   "source": [
    "EE3326_stu4.EC()"
   ]
  },
  {
   "cell_type": "code",
   "execution_count": 171,
   "metadata": {},
   "outputs": [],
   "source": [
    "class EE3326(Students):\n",
    "    Extra_Credit = 1.2\n",
    "    def __init__(self,fname,lname,ID,Midterm,Final,LabFinal):\n",
    "        super().__init__(fname,lname,ID,Midterm,Final) # Students.__init__(self,fname,lname,ID,Midterm,Final)\n",
    "        self.LabFinal=LabFinal"
   ]
  },
  {
   "cell_type": "code",
   "execution_count": 172,
   "metadata": {},
   "outputs": [],
   "source": [
    "EE3326_stu1=EE3326(\"John\",\"Albert\",\"A006564\",78,92,100)\n",
    "EE3326_stu2=EE3326(\"Jen\",\"Doe\",\"A003223\",48,62,90)\n",
    "EE3326_stu3=EE3326(\"Hans\",\"Kurt\",\"A001234\",78,44,80)\n",
    "EE3326_stu4=EE3326(\"Pen\",\"Tan\",\"A003412\",98,100,70)"
   ]
  },
  {
   "cell_type": "code",
   "execution_count": 173,
   "metadata": {},
   "outputs": [
    {
     "data": {
      "text/plain": [
       "{'fname': 'John',\n",
       " 'lname': 'Albert',\n",
       " 'ID': 'A006564',\n",
       " 'Midterm': 78,\n",
       " 'Final': 92,\n",
       " 'email': 'John_Albert@txstate.edu',\n",
       " 'LabFinal': 100}"
      ]
     },
     "execution_count": 173,
     "metadata": {},
     "output_type": "execute_result"
    }
   ],
   "source": [
    "EE3326_stu1.__dict__"
   ]
  },
  {
   "cell_type": "code",
   "execution_count": 189,
   "metadata": {},
   "outputs": [],
   "source": [
    "class EE4352(EE3326):\n",
    "    Extra_Credit = 1.2\n",
    "    def __init__(self,fname,lname,ID,Midterm,Final,LabFinal,Project):\n",
    "        super().__init__(fname,lname,ID,Midterm,Final,LabFinal) # EE3326.__init__(self,fname,lname,ID,Midterm,Final,LabFinal)\n",
    "        self.Project=Project"
   ]
  },
  {
   "cell_type": "code",
   "execution_count": 192,
   "metadata": {},
   "outputs": [],
   "source": [
    "EE4352_stu1=EE4352(\"John\",\"Albert\",\"A006564\",78,92,100,80)\n",
    "EE4352_stu2=EE4352(\"Jen\",\"Doe\",\"A003223\",48,62,90,100)"
   ]
  },
  {
   "cell_type": "code",
   "execution_count": 181,
   "metadata": {},
   "outputs": [
    {
     "data": {
      "text/plain": [
       "{'fname': 'John',\n",
       " 'lname': 'Albert',\n",
       " 'ID': 'A006564',\n",
       " 'Midterm': 78,\n",
       " 'Final': 92,\n",
       " 'email': 'John_Albert@txstate.edu',\n",
       " 'LabFinal': 100,\n",
       " 'Project': 80}"
      ]
     },
     "execution_count": 181,
     "metadata": {},
     "output_type": "execute_result"
    }
   ],
   "source": [
    "EE4352_stu1.__dict__"
   ]
  },
  {
   "cell_type": "code",
   "execution_count": 182,
   "metadata": {},
   "outputs": [
    {
     "name": "stdout",
     "output_type": "stream",
     "text": [
      "Help on class EE4352 in module __main__:\n",
      "\n",
      "class EE4352(EE3326)\n",
      " |  Method resolution order:\n",
      " |      EE4352\n",
      " |      EE3326\n",
      " |      Students\n",
      " |      builtins.object\n",
      " |  \n",
      " |  Methods defined here:\n",
      " |  \n",
      " |  __init__(self, fname, lname, ID, Midterm, Final, LabFinal, Project)\n",
      " |      Initialize self.  See help(type(self)) for accurate signature.\n",
      " |  \n",
      " |  ----------------------------------------------------------------------\n",
      " |  Data and other attributes defined here:\n",
      " |  \n",
      " |  Extra_Credit = 1.1\n",
      " |  \n",
      " |  ----------------------------------------------------------------------\n",
      " |  Methods inherited from Students:\n",
      " |  \n",
      " |  EC(self)\n",
      " |  \n",
      " |  average(self)\n",
      " |  \n",
      " |  fullname(self)\n",
      " |  \n",
      " |  ----------------------------------------------------------------------\n",
      " |  Class methods inherited from Students:\n",
      " |  \n",
      " |  from_string(stu_str) from builtins.type\n",
      " |  \n",
      " |  set_Extra_Credit(amount) from builtins.type\n",
      " |  \n",
      " |  ----------------------------------------------------------------------\n",
      " |  Static methods inherited from Students:\n",
      " |  \n",
      " |  is_class_day(day)\n",
      " |  \n",
      " |  ----------------------------------------------------------------------\n",
      " |  Data descriptors inherited from Students:\n",
      " |  \n",
      " |  __dict__\n",
      " |      dictionary for instance variables (if defined)\n",
      " |  \n",
      " |  __weakref__\n",
      " |      list of weak references to the object (if defined)\n",
      " |  \n",
      " |  ----------------------------------------------------------------------\n",
      " |  Data and other attributes inherited from Students:\n",
      " |  \n",
      " |  Num_Stu = 12\n",
      "\n",
      "None\n"
     ]
    }
   ],
   "source": [
    "print(help(EE4352))"
   ]
  },
  {
   "cell_type": "code",
   "execution_count": null,
   "metadata": {},
   "outputs": [],
   "source": []
  },
  {
   "cell_type": "code",
   "execution_count": 197,
   "metadata": {},
   "outputs": [
    {
     "name": "stdout",
     "output_type": "stream",
     "text": [
      "9\n"
     ]
    },
    {
     "data": {
      "text/plain": [
       "11"
      ]
     },
     "execution_count": 197,
     "metadata": {},
     "output_type": "execute_result"
    }
   ],
   "source": [
    "# Special Methods\n",
    "\n",
    "print(4+5)\n",
    "\n",
    "int.__add__(4,5)\n",
    "str.__add__('a','b')\n",
    "\n",
    "len('Texas State')\n",
    "'Texas State'.__len__()"
   ]
  },
  {
   "cell_type": "code",
   "execution_count": 39,
   "metadata": {},
   "outputs": [],
   "source": [
    "# Special Methods\n",
    "\n",
    "class Students: \n",
    "    Extra_Credit = 1.04 # class variable\n",
    "    Num_Stu = 0\n",
    "    \n",
    "    def __init__(self,fname,lname,ID,Midterm,Final): # convention to call instance first argument self\n",
    "        self.fname=fname\n",
    "        self.lname=lname\n",
    "        self.ID=ID\n",
    "        self.Midterm=int(Midterm)\n",
    "        self.Final=int(Final)\n",
    "        self.email=fname + '_' + lname + '@txstate.edu'\n",
    "        Students.Num_Stu = Students.Num_Stu + 1\n",
    "    \n",
    "    def EC(self):\n",
    "        self.Final = self.Final*self.Extra_Credit  # or self.Extra_Credit\n",
    "        return self.Final\n",
    "        \n",
    "    def fullname(self):\n",
    "        return f'{self.fname} {self.lname}'\n",
    "    \n",
    "    def average(self):\n",
    "        return f'Midterm={self.Midterm} and Final={self.Final} average {0.3*self.Midterm+0.7*self.Final:.2f}'               \n",
    "    @classmethod # classmehod decorators\n",
    "    def set_Extra_Credit(cls,amount): # will take class as first argument not self\n",
    "        cls.Extra_Credit = amount\n",
    "    \n",
    "    def __repr__(self):\n",
    "        return f\"Student {self.fname}, {self.lname}\"\n",
    "    def __str__(self):\n",
    "        return f\"{self.fname}, {self.lname} , {self.email}\"\n",
    "    def __add__(self,sec):\n",
    "        return self.Final+sec.Final\n",
    "    \n",
    "    def __len__(self):\n",
    "        return len(self.email)\n",
    "    "
   ]
  },
  {
   "cell_type": "code",
   "execution_count": 40,
   "metadata": {},
   "outputs": [],
   "source": [
    "stu1=Students(\"John\",\"Albert\",\"A006564\",78,92)\n",
    "stu2=Students(\"Jen\",\"Doe\",\"A003223\",48,62)\n",
    "stu3=Students(\"Hans\",\"Kurt\",\"A001234\",78,44)\n",
    "stu4=Students(\"Pen\",\"Tan\",\"A003412\",98,100)"
   ]
  },
  {
   "cell_type": "code",
   "execution_count": 41,
   "metadata": {},
   "outputs": [
    {
     "data": {
      "text/plain": [
       "'John, Albert , John_Albert@txstate.edu'"
      ]
     },
     "execution_count": 41,
     "metadata": {},
     "output_type": "execute_result"
    }
   ],
   "source": [
    "repr(stu2) # representation of object debug \n",
    "str(stu1) # rep for end user\n"
   ]
  },
  {
   "cell_type": "code",
   "execution_count": 42,
   "metadata": {},
   "outputs": [
    {
     "data": {
      "text/plain": [
       "154"
      ]
     },
     "execution_count": 42,
     "metadata": {},
     "output_type": "execute_result"
    }
   ],
   "source": [
    "stu1+stu2"
   ]
  },
  {
   "cell_type": "code",
   "execution_count": 43,
   "metadata": {},
   "outputs": [
    {
     "data": {
      "text/plain": [
       "23"
      ]
     },
     "execution_count": 43,
     "metadata": {},
     "output_type": "execute_result"
    }
   ],
   "source": [
    "len(stu1)"
   ]
  },
  {
   "cell_type": "code",
   "execution_count": null,
   "metadata": {},
   "outputs": [],
   "source": [
    "# Special Methods\n",
    "\n",
    "class Students: \n",
    "    Extra_Credit = 1.04 # class variable\n",
    "    Num_Stu = 0\n",
    "    \n",
    "    def __init__(self,fname,lname,ID,Midterm,Final): # convention to call instance first argument self\n",
    "        self.fname=fname\n",
    "        self.lname=lname\n",
    "        self.ID=ID\n",
    "        self.Midterm=int(Midterm)\n",
    "        self.Final=int(Final)\n",
    "        self.email=fname + '_' + lname + '@txstate.edu'\n",
    "        Students.Num_Stu = Students.Num_Stu + 1\n",
    "    \n",
    "    def EC(self):\n",
    "        self.Final = self.Final*self.Extra_Credit  # or self.Extra_Credit\n",
    "        return self.Final\n",
    "        \n",
    "    def fullname(self):\n",
    "        return f'{self.fname} {self.lname}'\n",
    "    \n",
    "    def average(self):\n",
    "        return f'Midterm={self.Midterm} and Final={self.Final} average {0.3*self.Midterm+0.7*self.Final:.2f}'               \n",
    "    @classmethod # classmehod decorators\n",
    "    def set_Extra_Credit(cls,amount): # will take class as first argument not self\n",
    "        cls.Extra_Credit = amount\n",
    "    \n",
    "    def __repr__(self):\n",
    "        return f\"Student {self.fname}, {self.lname}\"\n",
    "    def __str__(self):\n",
    "        return f\"{self.fname}, {self.lname} , {self.email}\"\n",
    "    def __add__(self,sec):\n",
    "        return self.Final+sec.Final\n",
    "    \n",
    "    def __len__(self):\n",
    "        return len(self.email)"
   ]
  }
 ],
 "metadata": {
  "kernelspec": {
   "display_name": "Python 3",
   "language": "python",
   "name": "python3"
  },
  "language_info": {
   "codemirror_mode": {
    "name": "ipython",
    "version": 3
   },
   "file_extension": ".py",
   "mimetype": "text/x-python",
   "name": "python",
   "nbconvert_exporter": "python",
   "pygments_lexer": "ipython3",
   "version": "3.6.9"
  }
 },
 "nbformat": 4,
 "nbformat_minor": 4
}
